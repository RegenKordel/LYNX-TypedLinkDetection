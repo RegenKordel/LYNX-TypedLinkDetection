{
 "cells": [
  {
   "cell_type": "markdown",
   "id": "rational-eugene",
   "metadata": {},
   "source": [
    "# Load Modules"
   ]
  },
  {
   "cell_type": "code",
   "execution_count": 13,
   "id": "tutorial-guide",
   "metadata": {},
   "outputs": [
    {
     "name": "stdout",
     "output_type": "stream",
     "text": [
      "Starting Notebook.\n"
     ]
    }
   ],
   "source": [
    "#Needed Modules\n",
    "import numpy as np\n",
    "import pandas as pd\n",
    "\n",
    "import matplotlib.pyplot as plt\n",
    "import seaborn as sns\n",
    "\n",
    "from tqdm import tqdm\n",
    "\n",
    "print(\"Starting Notebook.\")\n",
    "\n",
    "sns.set(font_scale = 1)\n",
    "sns.set_style(\"whitegrid\")\n",
    "\n",
    "from sklearn.metrics import f1_score\n",
    "from sklearn.metrics import accuracy_score\n",
    "from sklearn.metrics import classification_report, confusion_matrix\n",
    "\n",
    "from tld.linktypes import fine_linktype_map"
   ]
  },
  {
   "cell_type": "markdown",
   "id": "confirmed-expense",
   "metadata": {},
   "source": [
    "# Repositories"
   ]
  },
  {
   "cell_type": "code",
   "execution_count": 7,
   "id": "streaming-stylus",
   "metadata": {},
   "outputs": [],
   "source": [
    "SOURCES = ['Apache', 'Hyperledger', 'IntelDAOS', 'JFrog', 'Jira', \n",
    "           'JiraEcosystem', 'MariaDB', 'Mojang', 'MongoDB', \n",
    "           'Qt', 'RedHat', 'Sakai', 'SecondLife', 'Sonatype', 'Spring']\n",
    "\n",
    "# 'Mindville'"
   ]
  },
  {
   "cell_type": "code",
   "execution_count": 8,
   "id": "olive-retirement",
   "metadata": {},
   "outputs": [],
   "source": [
    "link_df_dict = {}\n",
    "for s in SOURCES:\n",
    "    filename = 'data/processed/links_plus_'+s.lower()+'.csv'\n",
    "    links = pd.read_csv(filename, encoding=\"UTF-8\", low_memory=False, sep=';').drop_duplicates()\n",
    "\n",
    "    links['mappedtype'] = links['linktype'].map(fine_linktype_map)\n",
    "\n",
    "    linktypes = (links.mappedtype.value_counts()>=len(links)*0.01).rename_axis('mappedtype').reset_index(name='valid')\n",
    "    valid_types = set(linktypes[linktypes['valid']==True]['mappedtype'])\n",
    "\n",
    "    link_df = links[(links[\"mappedtype\"].isin(valid_types))]\n",
    "\n",
    "    link_df_dict[s] = link_df"
   ]
  },
  {
   "cell_type": "code",
   "execution_count": 11,
   "id": "variable-astrology",
   "metadata": {},
   "outputs": [
    {
     "data": {
      "text/plain": [
       "Duplicate    193989\n",
       "Non-Link      43105\n",
       "Relate        20377\n",
       "Name: mappedtype, dtype: int64"
      ]
     },
     "execution_count": 11,
     "metadata": {},
     "output_type": "execute_result"
    }
   ],
   "source": [
    "link_df_dict['Mojang'].mappedtype.value_counts()"
   ]
  },
  {
   "cell_type": "markdown",
   "id": "worldwide-juvenile",
   "metadata": {},
   "source": [
    "## Majority Classifier\n",
    "Always predicts the majority label."
   ]
  },
  {
   "cell_type": "code",
   "execution_count": 18,
   "id": "senior-rings",
   "metadata": {
    "scrolled": false
   },
   "outputs": [
    {
     "data": {
      "text/html": [
       "<div>\n",
       "<style scoped>\n",
       "    .dataframe tbody tr th:only-of-type {\n",
       "        vertical-align: middle;\n",
       "    }\n",
       "\n",
       "    .dataframe tbody tr th {\n",
       "        vertical-align: top;\n",
       "    }\n",
       "\n",
       "    .dataframe thead th {\n",
       "        text-align: right;\n",
       "    }\n",
       "</style>\n",
       "<table border=\"1\" class=\"dataframe\">\n",
       "  <thead>\n",
       "    <tr style=\"text-align: right;\">\n",
       "      <th></th>\n",
       "      <th>Repository</th>\n",
       "      <th>Maj. Acc.</th>\n",
       "      <th>Maj. F1</th>\n",
       "    </tr>\n",
       "  </thead>\n",
       "  <tbody>\n",
       "    <tr>\n",
       "      <th>0</th>\n",
       "      <td>Apache</td>\n",
       "      <td>0.317582</td>\n",
       "      <td>0.037082</td>\n",
       "    </tr>\n",
       "    <tr>\n",
       "      <th>1</th>\n",
       "      <td>Hyperledger</td>\n",
       "      <td>0.353782</td>\n",
       "      <td>0.074665</td>\n",
       "    </tr>\n",
       "    <tr>\n",
       "      <th>2</th>\n",
       "      <td>IntelDAOS</td>\n",
       "      <td>0.394900</td>\n",
       "      <td>0.070776</td>\n",
       "    </tr>\n",
       "    <tr>\n",
       "      <th>3</th>\n",
       "      <td>JFrog</td>\n",
       "      <td>0.333907</td>\n",
       "      <td>0.071521</td>\n",
       "    </tr>\n",
       "    <tr>\n",
       "      <th>4</th>\n",
       "      <td>Jira</td>\n",
       "      <td>0.623825</td>\n",
       "      <td>0.096043</td>\n",
       "    </tr>\n",
       "    <tr>\n",
       "      <th>5</th>\n",
       "      <td>JiraEcosystem</td>\n",
       "      <td>0.235094</td>\n",
       "      <td>0.034608</td>\n",
       "    </tr>\n",
       "    <tr>\n",
       "      <th>6</th>\n",
       "      <td>MariaDB</td>\n",
       "      <td>0.454485</td>\n",
       "      <td>0.078118</td>\n",
       "    </tr>\n",
       "    <tr>\n",
       "      <th>7</th>\n",
       "      <td>Mojang</td>\n",
       "      <td>0.753440</td>\n",
       "      <td>0.286462</td>\n",
       "    </tr>\n",
       "    <tr>\n",
       "      <th>8</th>\n",
       "      <td>MongoDB</td>\n",
       "      <td>0.376801</td>\n",
       "      <td>0.060817</td>\n",
       "    </tr>\n",
       "    <tr>\n",
       "      <th>9</th>\n",
       "      <td>Qt</td>\n",
       "      <td>0.226175</td>\n",
       "      <td>0.046114</td>\n",
       "    </tr>\n",
       "    <tr>\n",
       "      <th>10</th>\n",
       "      <td>RedHat</td>\n",
       "      <td>0.251750</td>\n",
       "      <td>0.044693</td>\n",
       "    </tr>\n",
       "    <tr>\n",
       "      <th>11</th>\n",
       "      <td>Sakai</td>\n",
       "      <td>0.436038</td>\n",
       "      <td>0.086754</td>\n",
       "    </tr>\n",
       "    <tr>\n",
       "      <th>12</th>\n",
       "      <td>SecondLife</td>\n",
       "      <td>0.426630</td>\n",
       "      <td>0.085442</td>\n",
       "    </tr>\n",
       "    <tr>\n",
       "      <th>13</th>\n",
       "      <td>Sonatype</td>\n",
       "      <td>0.368497</td>\n",
       "      <td>0.059838</td>\n",
       "    </tr>\n",
       "    <tr>\n",
       "      <th>14</th>\n",
       "      <td>Spring</td>\n",
       "      <td>0.429924</td>\n",
       "      <td>0.085903</td>\n",
       "    </tr>\n",
       "  </tbody>\n",
       "</table>\n",
       "</div>"
      ],
      "text/plain": [
       "       Repository  Maj. Acc.   Maj. F1\n",
       "0          Apache   0.317582  0.037082\n",
       "1     Hyperledger   0.353782  0.074665\n",
       "2       IntelDAOS   0.394900  0.070776\n",
       "3           JFrog   0.333907  0.071521\n",
       "4            Jira   0.623825  0.096043\n",
       "5   JiraEcosystem   0.235094  0.034608\n",
       "6         MariaDB   0.454485  0.078118\n",
       "7          Mojang   0.753440  0.286462\n",
       "8         MongoDB   0.376801  0.060817\n",
       "9              Qt   0.226175  0.046114\n",
       "10         RedHat   0.251750  0.044693\n",
       "11          Sakai   0.436038  0.086754\n",
       "12     SecondLife   0.426630  0.085442\n",
       "13       Sonatype   0.368497  0.059838\n",
       "14         Spring   0.429924  0.085903"
      ]
     },
     "execution_count": 18,
     "metadata": {},
     "output_type": "execute_result"
    }
   ],
   "source": [
    "repos = []\n",
    "maj_accs = []\n",
    "maj_f1s = []\n",
    "\n",
    "for s in SOURCES:\n",
    "    repos.append(s)\n",
    "    \n",
    "    link_df = link_df_dict[s]\n",
    "    \n",
    "    majority_label = link_df['mappedtype'].value_counts().index.tolist()[0]\n",
    "    \n",
    "    predictions = [majority_label]*len(link_df)\n",
    "    maj_f1 = f1_score(y_true=link_df[\"mappedtype\"], y_pred=predictions, average='macro')\n",
    "    maj_acc = accuracy_score(y_true=link_df[\"mappedtype\"], y_pred=predictions)\n",
    "\n",
    "    maj_f1s.append(maj_f1)\n",
    "    maj_accs.append(maj_acc)\n",
    "    \n",
    "majority_dict = {\n",
    "            'Repository': repos,\n",
    "            'Maj. Acc.' : maj_accs,\n",
    "            'Maj. F1': maj_f1s,\n",
    "          }\n",
    "\n",
    "majority_df = pd.DataFrame(majority_dict)   \n",
    "majority_df"
   ]
  },
  {
   "cell_type": "code",
   "execution_count": 19,
   "id": "stunning-alberta",
   "metadata": {},
   "outputs": [
    {
     "name": "stderr",
     "output_type": "stream",
     "text": [
      "<ipython-input-19-01bccd8c6fa1>:1: FutureWarning: Dropping of nuisance columns in DataFrame reductions (with 'numeric_only=None') is deprecated; in a future version this will raise TypeError.  Select only valid columns before calling the reduction.\n",
      "  majority_df.mean()\n"
     ]
    },
    {
     "data": {
      "text/plain": [
       "Maj. Acc.    0.398855\n",
       "Maj. F1      0.081256\n",
       "dtype: float64"
      ]
     },
     "execution_count": 19,
     "metadata": {},
     "output_type": "execute_result"
    }
   ],
   "source": [
    "majority_df.mean()"
   ]
  },
  {
   "cell_type": "markdown",
   "id": "automotive-effectiveness",
   "metadata": {},
   "source": [
    "## Random Classifier\n",
    "Predicts a label based on its occurence in the dataset.\n",
    "k is the amount of classes to be predicited,\n",
    "\n",
    "N is the total number of samples,\n",
    "\n",
    "n_1, ... , n_k are the number of samples per class, thus n_i is the number of samples for class i. Then,\n",
    "\n",
    "p_i, the probability of assigning i as label is equal to n_i/N.\n",
    "\n",
    "We then have the following calculations:\n",
    "\n",
    "Expected Precision: TP/(TP+FP) = (p_i * n_i)/((p_i * n_i)+((p_i * (N-n_i)) = (n_i/N * n_i)/((n_i/N * n_i)+((n_i/N * (N-n_i)) = n_i/N = p_i\n",
    "\n",
    "Expected Recall: TP/(TP+FN) = (p_i * n_i)/((p_i * n_i)+(((1-p_i) * N)) = (n_i/N * n_i)/((n_i/N * n_i)+(((1-n_i/N) * n_i)) = n_i/N = p_i\n",
    "\n",
    "Expected F1-Score = (2\\*Expected Precision\\*Expected Recall)/(Expected Precision+Expected Recall) = 2 * p_i^2 / 2p_i = p_i\n"
   ]
  },
  {
   "cell_type": "code",
   "execution_count": 22,
   "id": "personalized-caribbean",
   "metadata": {},
   "outputs": [
    {
     "data": {
      "text/html": [
       "<div>\n",
       "<style scoped>\n",
       "    .dataframe tbody tr th:only-of-type {\n",
       "        vertical-align: middle;\n",
       "    }\n",
       "\n",
       "    .dataframe tbody tr th {\n",
       "        vertical-align: top;\n",
       "    }\n",
       "\n",
       "    .dataframe thead th {\n",
       "        text-align: right;\n",
       "    }\n",
       "</style>\n",
       "<table border=\"1\" class=\"dataframe\">\n",
       "  <thead>\n",
       "    <tr style=\"text-align: right;\">\n",
       "      <th></th>\n",
       "      <th>Repository</th>\n",
       "      <th>Maj. Acc.</th>\n",
       "      <th>Maj. F1</th>\n",
       "    </tr>\n",
       "  </thead>\n",
       "  <tbody>\n",
       "    <tr>\n",
       "      <th>0</th>\n",
       "      <td>Apache</td>\n",
       "      <td>0.198386</td>\n",
       "      <td>0.076923</td>\n",
       "    </tr>\n",
       "    <tr>\n",
       "      <th>1</th>\n",
       "      <td>Hyperledger</td>\n",
       "      <td>0.229175</td>\n",
       "      <td>0.142857</td>\n",
       "    </tr>\n",
       "    <tr>\n",
       "      <th>2</th>\n",
       "      <td>IntelDAOS</td>\n",
       "      <td>0.250312</td>\n",
       "      <td>0.125000</td>\n",
       "    </tr>\n",
       "    <tr>\n",
       "      <th>3</th>\n",
       "      <td>JFrog</td>\n",
       "      <td>0.225797</td>\n",
       "      <td>0.142857</td>\n",
       "    </tr>\n",
       "    <tr>\n",
       "      <th>4</th>\n",
       "      <td>Jira</td>\n",
       "      <td>0.439577</td>\n",
       "      <td>0.125000</td>\n",
       "    </tr>\n",
       "    <tr>\n",
       "      <th>5</th>\n",
       "      <td>JiraEcosystem</td>\n",
       "      <td>0.172245</td>\n",
       "      <td>0.090909</td>\n",
       "    </tr>\n",
       "    <tr>\n",
       "      <th>6</th>\n",
       "      <td>MariaDB</td>\n",
       "      <td>0.253292</td>\n",
       "      <td>0.125000</td>\n",
       "    </tr>\n",
       "    <tr>\n",
       "      <th>7</th>\n",
       "      <td>Mojang</td>\n",
       "      <td>0.601964</td>\n",
       "      <td>0.333333</td>\n",
       "    </tr>\n",
       "    <tr>\n",
       "      <th>8</th>\n",
       "      <td>MongoDB</td>\n",
       "      <td>0.232483</td>\n",
       "      <td>0.111111</td>\n",
       "    </tr>\n",
       "    <tr>\n",
       "      <th>9</th>\n",
       "      <td>Qt</td>\n",
       "      <td>0.153652</td>\n",
       "      <td>0.125000</td>\n",
       "    </tr>\n",
       "    <tr>\n",
       "      <th>10</th>\n",
       "      <td>RedHat</td>\n",
       "      <td>0.162978</td>\n",
       "      <td>0.111111</td>\n",
       "    </tr>\n",
       "    <tr>\n",
       "      <th>11</th>\n",
       "      <td>Sakai</td>\n",
       "      <td>0.251128</td>\n",
       "      <td>0.142857</td>\n",
       "    </tr>\n",
       "    <tr>\n",
       "      <th>12</th>\n",
       "      <td>SecondLife</td>\n",
       "      <td>0.275398</td>\n",
       "      <td>0.142857</td>\n",
       "    </tr>\n",
       "    <tr>\n",
       "      <th>13</th>\n",
       "      <td>Sonatype</td>\n",
       "      <td>0.234608</td>\n",
       "      <td>0.111111</td>\n",
       "    </tr>\n",
       "    <tr>\n",
       "      <th>14</th>\n",
       "      <td>Spring</td>\n",
       "      <td>0.244375</td>\n",
       "      <td>0.142857</td>\n",
       "    </tr>\n",
       "  </tbody>\n",
       "</table>\n",
       "</div>"
      ],
      "text/plain": [
       "       Repository  Maj. Acc.   Maj. F1\n",
       "0          Apache   0.198386  0.076923\n",
       "1     Hyperledger   0.229175  0.142857\n",
       "2       IntelDAOS   0.250312  0.125000\n",
       "3           JFrog   0.225797  0.142857\n",
       "4            Jira   0.439577  0.125000\n",
       "5   JiraEcosystem   0.172245  0.090909\n",
       "6         MariaDB   0.253292  0.125000\n",
       "7          Mojang   0.601964  0.333333\n",
       "8         MongoDB   0.232483  0.111111\n",
       "9              Qt   0.153652  0.125000\n",
       "10         RedHat   0.162978  0.111111\n",
       "11          Sakai   0.251128  0.142857\n",
       "12     SecondLife   0.275398  0.142857\n",
       "13       Sonatype   0.234608  0.111111\n",
       "14         Spring   0.244375  0.142857"
      ]
     },
     "execution_count": 22,
     "metadata": {},
     "output_type": "execute_result"
    }
   ],
   "source": [
    "repos = []\n",
    "ran_accs = []\n",
    "ran_f1s = []\n",
    "\n",
    "for s in SOURCES:\n",
    "    repos.append(s)\n",
    "    \n",
    "    link_df = link_df_dict[s]\n",
    "    \n",
    "    ran_acc = sum((link_df.mappedtype.value_counts()/len(link_df))**2)\n",
    "    f1_sum = 0\n",
    "    for lt in link_df.mappedtype.unique():\n",
    "        f1_sum += link_df.mappedtype.value_counts().loc[lt]/len(link_df)\n",
    "    ran_f1 = f1_sum/len(link_df.mappedtype.unique())\n",
    "\n",
    "    ran_f1s.append(ran_f1)\n",
    "    ran_accs.append(ran_acc)\n",
    "\n",
    "random_dict = {\n",
    "            'Repository': repos,\n",
    "            'Maj. Acc.' : ran_accs,\n",
    "            'Maj. F1': ran_f1s,\n",
    "          }\n",
    "\n",
    "random_df = pd.DataFrame(random_dict)   \n",
    "random_df"
   ]
  },
  {
   "cell_type": "code",
   "execution_count": 21,
   "id": "medium-collins",
   "metadata": {},
   "outputs": [
    {
     "name": "stderr",
     "output_type": "stream",
     "text": [
      "<ipython-input-21-ef8c7b00bb13>:1: FutureWarning: Dropping of nuisance columns in DataFrame reductions (with 'numeric_only=None') is deprecated; in a future version this will raise TypeError.  Select only valid columns before calling the reduction.\n",
      "  random_df.mean()\n"
     ]
    },
    {
     "data": {
      "text/plain": [
       "Maj. Acc.    0.261691\n",
       "Maj. F1      0.136586\n",
       "dtype: float64"
      ]
     },
     "execution_count": 21,
     "metadata": {},
     "output_type": "execute_result"
    }
   ],
   "source": [
    "random_df.mean()"
   ]
  },
  {
   "cell_type": "code",
   "execution_count": null,
   "id": "heard-leisure",
   "metadata": {},
   "outputs": [],
   "source": []
  }
 ],
 "metadata": {
  "kernelspec": {
   "display_name": "Python 3",
   "language": "python",
   "name": "python3"
  },
  "language_info": {
   "codemirror_mode": {
    "name": "ipython",
    "version": 3
   },
   "file_extension": ".py",
   "mimetype": "text/x-python",
   "name": "python",
   "nbconvert_exporter": "python",
   "pygments_lexer": "ipython3",
   "version": "3.9.2"
  }
 },
 "nbformat": 4,
 "nbformat_minor": 5
}
