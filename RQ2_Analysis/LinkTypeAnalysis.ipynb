{
 "cells": [
  {
   "cell_type": "code",
   "execution_count": 1,
   "id": "03c2ce8c",
   "metadata": {},
   "outputs": [
    {
     "name": "stderr",
     "output_type": "stream",
     "text": [
      "/usr/local/lib/python3.8/dist-packages/gensim/similarities/__init__.py:15: UserWarning: The gensim.similarities.levenshtein submodule is disabled, because the optional Levenshtein package <https://pypi.org/project/python-Levenshtein/> is unavailable. Install Levenhstein (e.g. `pip install python-Levenshtein`) to suppress this warning.\n",
      "  warnings.warn(msg)\n"
     ]
    }
   ],
   "source": [
    "import pandas as pd\n",
    "import numpy as np\n",
    "\n",
    "from tqdm import tqdm\n",
    "\n",
    "import gensim\n",
    "from gensim.models import Word2Vec\n",
    "from gensim.parsing.porter import PorterStemmer\n",
    "from nltk.corpus import stopwords\n",
    "\n",
    "from nltk.tokenize import word_tokenize\n",
    "\n",
    "from sklearn.feature_extraction.text import TfidfVectorizer\n",
    "from sklearn.feature_extraction.text import CountVectorizer\n",
    "from sklearn.metrics.pairwise import cosine_similarity\n",
    "\n",
    "import seaborn as sns\n",
    "import matplotlib.pyplot as plt"
   ]
  },
  {
   "cell_type": "code",
   "execution_count": 2,
   "id": "de02bfab",
   "metadata": {},
   "outputs": [],
   "source": [
    "SOURCES = ['Apache', 'Hyperledger', 'IntelDAOS', 'JFrog', 'Jira', \n",
    "           'JiraEcosystem', 'MariaDB', 'Mindville', 'Mojang', 'MongoDB', \n",
    "           'Qt', 'RedHat', 'Sakai', 'SecondLife', 'Sonatype', 'Spring']\n",
    "\n",
    "link_text_dict = {}\n",
    "countvect_dict = {}\n",
    "tfidfvect_dict = {}"
   ]
  },
  {
   "cell_type": "code",
   "execution_count": 3,
   "id": "457a7130",
   "metadata": {},
   "outputs": [],
   "source": [
    "def load_data(source):\n",
    "    #Loading Issues\n",
    "    filename = '../data/processed/issues_'+source.lower()+'.csv'\n",
    "    issue_df = pd.read_csv(filename, encoding=\"UTF-8\", low_memory=False, sep=';')\n",
    "\n",
    "    #Loading Links\n",
    "    filename = '../data/processed/links_plus_'+source.lower()+'.csv'\n",
    "    link_df = pd.read_csv(filename, encoding=\"UTF-8\", low_memory=False, sep=';').drop_duplicates()\n",
    "    \n",
    "    return issue_df, link_df"
   ]
  },
  {
   "cell_type": "code",
   "execution_count": 4,
   "id": "6396b645",
   "metadata": {},
   "outputs": [],
   "source": [
    "def get_tf_idf_sim(x, y):\n",
    "    x_tfidf = tfidf_vectorizer.transform(x)\n",
    "    y_tfidf = tfidf_vectorizer.transform(y)\n",
    "    cosim = cosine_similarity(x_tfidf, y_tfidf).flatten()\n",
    "    return float(cosim)"
   ]
  },
  {
   "cell_type": "code",
   "execution_count": 8,
   "id": "e78a992a",
   "metadata": {
    "scrolled": true
   },
   "outputs": [
    {
     "name": "stdout",
     "output_type": "stream",
     "text": [
      "APACHE\n"
     ]
    },
    {
     "name": "stderr",
     "output_type": "stream",
     "text": [
      "<ipython-input-8-e56f2ed5708a>:11: SettingWithCopyWarning: \n",
      "A value is trying to be set on a copy of a slice from a DataFrame.\n",
      "Try using .loc[row_indexer,col_indexer] = value instead\n",
      "\n",
      "See the caveats in the documentation: https://pandas.pydata.org/pandas-docs/stable/user_guide/indexing.html#returning-a-view-versus-a-copy\n",
      "  linked_issue_df['text'] = linked_issue_df['title']+ \" \" + linked_issue_df['description']\n",
      "100%|██████████| 267400/267400 [48:49<00:00, 91.28it/s] \n"
     ]
    },
    {
     "name": "stdout",
     "output_type": "stream",
     "text": [
      "HYPERLEDGER\n"
     ]
    },
    {
     "name": "stderr",
     "output_type": "stream",
     "text": [
      "100%|██████████| 18342/18342 [00:42<00:00, 432.31it/s]\n"
     ]
    },
    {
     "name": "stdout",
     "output_type": "stream",
     "text": [
      "INTELDAOS\n"
     ]
    },
    {
     "name": "stderr",
     "output_type": "stream",
     "text": [
      "100%|██████████| 2798/2798 [00:06<00:00, 433.01it/s]\n"
     ]
    },
    {
     "name": "stdout",
     "output_type": "stream",
     "text": [
      "JFROG\n"
     ]
    },
    {
     "name": "stderr",
     "output_type": "stream",
     "text": [
      "100%|██████████| 3522/3522 [00:07<00:00, 475.52it/s]\n"
     ]
    },
    {
     "name": "stdout",
     "output_type": "stream",
     "text": [
      "JIRA\n"
     ]
    },
    {
     "name": "stderr",
     "output_type": "stream",
     "text": [
      "100%|██████████| 105075/105075 [07:48<00:00, 224.19it/s]\n"
     ]
    },
    {
     "name": "stdout",
     "output_type": "stream",
     "text": [
      "JIRAECOSYSTEM\n"
     ]
    },
    {
     "name": "stderr",
     "output_type": "stream",
     "text": [
      "100%|██████████| 11967/11967 [00:25<00:00, 461.29it/s]\n"
     ]
    },
    {
     "name": "stdout",
     "output_type": "stream",
     "text": [
      "MARIADB\n"
     ]
    },
    {
     "name": "stderr",
     "output_type": "stream",
     "text": [
      "100%|██████████| 16449/16449 [00:46<00:00, 353.60it/s]\n"
     ]
    },
    {
     "name": "stdout",
     "output_type": "stream",
     "text": [
      "MINDVILLE\n"
     ]
    },
    {
     "name": "stderr",
     "output_type": "stream",
     "text": [
      "100%|██████████| 55/55 [00:00<00:00, 527.38it/s]\n"
     ]
    },
    {
     "name": "stdout",
     "output_type": "stream",
     "text": [
      "MOJANG\n"
     ]
    },
    {
     "name": "stderr",
     "output_type": "stream",
     "text": [
      "100%|██████████| 258637/258637 [43:12<00:00, 99.77it/s] \n"
     ]
    },
    {
     "name": "stdout",
     "output_type": "stream",
     "text": [
      "MONGODB\n"
     ]
    },
    {
     "name": "stderr",
     "output_type": "stream",
     "text": [
      "100%|██████████| 68092/68092 [03:47<00:00, 299.66it/s]\n"
     ]
    },
    {
     "name": "stdout",
     "output_type": "stream",
     "text": [
      "QT\n"
     ]
    },
    {
     "name": "stderr",
     "output_type": "stream",
     "text": [
      "100%|██████████| 43447/43447 [02:01<00:00, 356.61it/s]\n"
     ]
    },
    {
     "name": "stdout",
     "output_type": "stream",
     "text": [
      "REDHAT\n"
     ]
    },
    {
     "name": "stderr",
     "output_type": "stream",
     "text": [
      "100%|██████████| 125367/125367 [10:07<00:00, 206.43it/s]\n"
     ]
    },
    {
     "name": "stdout",
     "output_type": "stream",
     "text": [
      "SAKAI\n"
     ]
    },
    {
     "name": "stderr",
     "output_type": "stream",
     "text": [
      "100%|██████████| 22278/22278 [00:57<00:00, 389.80it/s]\n"
     ]
    },
    {
     "name": "stdout",
     "output_type": "stream",
     "text": [
      "SECONDLIFE\n"
     ]
    },
    {
     "name": "stderr",
     "output_type": "stream",
     "text": [
      "100%|██████████| 736/736 [00:01<00:00, 529.93it/s]\n"
     ]
    },
    {
     "name": "stdout",
     "output_type": "stream",
     "text": [
      "SONATYPE\n"
     ]
    },
    {
     "name": "stderr",
     "output_type": "stream",
     "text": [
      "100%|██████████| 4870/4870 [00:10<00:00, 451.17it/s]\n"
     ]
    },
    {
     "name": "stdout",
     "output_type": "stream",
     "text": [
      "SPRING\n"
     ]
    },
    {
     "name": "stderr",
     "output_type": "stream",
     "text": [
      "100%|██████████| 16068/16068 [00:37<00:00, 425.78it/s]\n"
     ]
    }
   ],
   "source": [
    "for s in SOURCES:\n",
    "    print(s.upper())\n",
    "    issue_df, link_df = load_data(s)\n",
    "    \n",
    "    issue_df['title'].fillna(' ', inplace=True)\n",
    "    issue_df['description'].fillna(' ', inplace=True)\n",
    "    \n",
    "    linked_issues = set(link_df['issue_id_1']).union(set(link_df['issue_id_2']))\n",
    "    linked_issue_df = issue_df[issue_df['issue_id'].isin(linked_issues)]\n",
    "    \n",
    "    linked_issue_df['text'] = linked_issue_df['title']+ \" \" + linked_issue_df['description']\n",
    "    \n",
    "    tfidf_vectorizer = TfidfVectorizer(stop_words='english', min_df=0.05, ngram_range=(1,2))\n",
    "    tfidf_wm = tfidf_vectorizer.fit_transform(list(linked_issue_df['text'].values))\n",
    "    tfidf_tokens = tfidf_vectorizer.get_feature_names()\n",
    "    df_tfidfvect = pd.DataFrame(data = tfidf_wm.toarray(),index = [linked_issue_df['issue_id']],columns = tfidf_tokens)\n",
    "    tfidfvect_dict[s] = df_tfidfvect\n",
    "    \n",
    "    countvectorizer = CountVectorizer(analyzer= 'word', stop_words='english', min_df=0.05)\n",
    "    count_wm = countvectorizer.fit_transform(list(linked_issue_df['text'].values))\n",
    "    count_tokens = countvectorizer.get_feature_names()\n",
    "    df_countvect = pd.DataFrame(data = count_wm.toarray(),index = [linked_issue_df['issue_id']],columns = count_tokens)\n",
    "    countvect_dict[s] = df_countvect\n",
    "    \n",
    "    issue_text_data = linked_issue_df[['text', 'issue_id']]\n",
    "    \n",
    "    link_text_df = link_df.merge(issue_text_data, left_on='issue_id_1', right_on='issue_id')\n",
    "    link_text_df = link_text_df.merge(issue_text_data, left_on='issue_id_2', right_on='issue_id', suffixes=('_1', '_2'))\n",
    "    \n",
    "    cosims = []\n",
    "\n",
    "    for i in tqdm(link_text_df.index):\n",
    "        cosims.append(get_tf_idf_sim([link_text_df['text_1'].iloc[i]], [link_text_df['text_2'].iloc[i]]))\n",
    "\n",
    "    link_text_df['cosim'] = cosims\n",
    "                  \n",
    "    link_text_dict[s] = link_text_df "
   ]
  },
  {
   "cell_type": "code",
   "execution_count": 10,
   "id": "41816b84",
   "metadata": {
    "scrolled": true
   },
   "outputs": [
    {
     "name": "stderr",
     "output_type": "stream",
     "text": [
      "<ipython-input-10-55cfbf76f236>:2: RuntimeWarning: More than 20 figures have been opened. Figures created through the pyplot interface (`matplotlib.pyplot.figure`) are retained until explicitly closed and may consume too much memory. (To control this warning, see the rcParam `figure.max_open_warning`).\n",
      "  plt.figure(figsize=(8,10))\n"
     ]
    },
    {
     "data": {
      "text/plain": [
       "<Figure size 576x720 with 0 Axes>"
      ]
     },
     "metadata": {},
     "output_type": "display_data"
    },
    {
     "data": {
      "image/png": "[encoded data removed]",
      "text/plain": [
       "<Figure size 360x360 with 1 Axes>"
      ]
     },
     "metadata": {
      "needs_background": "light"
     },
     "output_type": "display_data"
    },
    {
     "data": {
      "text/plain": [
       "<Figure size 576x720 with 0 Axes>"
      ]
     },
     "metadata": {},
     "output_type": "display_data"
    },
    {
     "data": {
      "image/png": "[encoded data removed]",
      "text/plain": [
       "<Figure size 360x360 with 1 Axes>"
      ]
     },
     "metadata": {
      "needs_background": "light"
     },
     "output_type": "display_data"
    },
    {
     "data": {
      "text/plain": [
       "<Figure size 576x720 with 0 Axes>"
      ]
     },
     "metadata": {},
     "output_type": "display_data"
    },
    {
     "data": {
      "image/png": "[encoded data removed]",
      "text/plain": [
       "<Figure size 360x360 with 1 Axes>"
      ]
     },
     "metadata": {
      "needs_background": "light"
     },
     "output_type": "display_data"
    },
    {
     "data": {
      "text/plain": [
       "<Figure size 576x720 with 0 Axes>"
      ]
     },
     "metadata": {},
     "output_type": "display_data"
    },
    {
     "data": {
      "image/png": "[encoded data removed]",
      "text/plain": [
       "<Figure size 360x360 with 1 Axes>"
      ]
     },
     "metadata": {
      "needs_background": "light"
     },
     "output_type": "display_data"
    },
    {
     "data": {
      "text/plain": [
       "<Figure size 576x720 with 0 Axes>"
      ]
     },
     "metadata": {},
     "output_type": "display_data"
    },
    {
     "data": {
      "image/png": "[encoded data removed]",
      "text/plain": [
       "<Figure size 360x360 with 1 Axes>"
      ]
     },
     "metadata": {
      "needs_background": "light"
     },
     "output_type": "display_data"
    },
    {
     "data": {
      "text/plain": [
       "<Figure size 576x720 with 0 Axes>"
      ]
     },
     "metadata": {},
     "output_type": "display_data"
    },
    {
     "data": {
      "image/png": "[encoded data removed]",
      "text/plain": [
       "<Figure size 360x360 with 1 Axes>"
      ]
     },
     "metadata": {
      "needs_background": "light"
     },
     "output_type": "display_data"
    },
    {
     "data": {
      "text/plain": [
       "<Figure size 576x720 with 0 Axes>"
      ]
     },
     "metadata": {},
     "output_type": "display_data"
    },
    {
     "data": {
      "image/png": "[encoded data removed]",
      "text/plain": [
       "<Figure size 360x360 with 1 Axes>"
      ]
     },
     "metadata": {
      "needs_background": "light"
     },
     "output_type": "display_data"
    },
    {
     "data": {
      "text/plain": [
       "<Figure size 576x720 with 0 Axes>"
      ]
     },
     "metadata": {},
     "output_type": "display_data"
    },
    {
     "data": {
      "image/png": "[encoded data removed]",
      "text/plain": [
       "<Figure size 360x360 with 1 Axes>"
      ]
     },
     "metadata": {
      "needs_background": "light"
     },
     "output_type": "display_data"
    },
    {
     "data": {
      "text/plain": [
       "<Figure size 576x720 with 0 Axes>"
      ]
     },
     "metadata": {},
     "output_type": "display_data"
    },
    {
     "data": {
      "image/png": "[encoded data removed]",
      "text/plain": [
       "<Figure size 360x360 with 1 Axes>"
      ]
     },
     "metadata": {
      "needs_background": "light"
     },
     "output_type": "display_data"
    },
    {
     "data": {
      "text/plain": [
       "<Figure size 576x720 with 0 Axes>"
      ]
     },
     "metadata": {},
     "output_type": "display_data"
    },
    {
     "data": {
      "image/png": "[encoded data removed]",
      "text/plain": [
       "<Figure size 360x360 with 1 Axes>"
      ]
     },
     "metadata": {
      "needs_background": "light"
     },
     "output_type": "display_data"
    },
    {
     "data": {
      "text/plain": [
       "<Figure size 576x720 with 0 Axes>"
      ]
     },
     "metadata": {},
     "output_type": "display_data"
    },
    {
     "data": {
      "image/png": "[encoded data removed]",
      "text/plain": [
       "<Figure size 360x360 with 1 Axes>"
      ]
     },
     "metadata": {
      "needs_background": "light"
     },
     "output_type": "display_data"
    },
    {
     "data": {
      "text/plain": [
       "<Figure size 576x720 with 0 Axes>"
      ]
     },
     "metadata": {},
     "output_type": "display_data"
    },
    {
     "data": {
      "image/png": "[encoded data removed]",
      "text/plain": [
       "<Figure size 360x360 with 1 Axes>"
      ]
     },
     "metadata": {
      "needs_background": "light"
     },
     "output_type": "display_data"
    },
    {
     "data": {
      "text/plain": [
       "<Figure size 576x720 with 0 Axes>"
      ]
     },
     "metadata": {},
     "output_type": "display_data"
    },
    {
     "data": {
      "image/png": "[encoded data removed]",
      "text/plain": [
       "<Figure size 360x360 with 1 Axes>"
      ]
     },
     "metadata": {
      "needs_background": "light"
     },
     "output_type": "display_data"
    },
    {
     "data": {
      "text/plain": [
       "<Figure size 576x720 with 0 Axes>"
      ]
     },
     "metadata": {},
     "output_type": "display_data"
    },
    {
     "data": {
      "image/png": "[encoded data removed]",
      "text/plain": [
       "<Figure size 360x360 with 1 Axes>"
      ]
     },
     "metadata": {
      "needs_background": "light"
     },
     "output_type": "display_data"
    },
    {
     "data": {
      "text/plain": [
       "<Figure size 576x720 with 0 Axes>"
      ]
     },
     "metadata": {},
     "output_type": "display_data"
    },
    {
     "data": {
      "image/png": "[encoded data removed]",
      "text/plain": [
       "<Figure size 360x360 with 1 Axes>"
      ]
     },
     "metadata": {
      "needs_background": "light"
     },
     "output_type": "display_data"
    },
    {
     "data": {
      "text/plain": [
       "<Figure size 576x720 with 0 Axes>"
      ]
     },
     "metadata": {},
     "output_type": "display_data"
    },
    {
     "data": {
      "image/png": "[encoded data removed]",
      "text/plain": [
       "<Figure size 360x360 with 1 Axes>"
      ]
     },
     "metadata": {
      "needs_background": "light"
     },
     "output_type": "display_data"
    }
   ],
   "source": [
    "for s in SOURCES:\n",
    "    plt.figure(figsize=(8,10))\n",
    "\n",
    "    sns.catplot(x=\"cosim\", y=\"linktype\", data=link_text_dict[s], kind=\"box\")"
   ]
  },
  {
   "cell_type": "code",
   "execution_count": 11,
   "id": "a04605bf",
   "metadata": {},
   "outputs": [],
   "source": [
    "type_dict={'Backports': 'Backport', \n",
    "           \n",
    "    'Blocked': 'Block',\n",
    "    'Blocker': 'Block',\n",
    "    'Blocks': 'Block',\n",
    "           \n",
    "    'Bonfire Testing': 'Bonfire Testing', \n",
    "    'Bonfire testing': 'Bonfire Testing', \n",
    "    'Git Code Review': 'Bonfire Testing', \n",
    "    'Testing': 'Bonfire Testing',\n",
    "           \n",
    "    'Causality': 'Cause', \n",
    "    'Cause': 'Cause',\n",
    "    'Caused': 'Cause', \n",
    "    'Problem/Incident': 'Cause',\n",
    "           \n",
    "    'Child-Issue': 'Parent-Child', \n",
    "    'Parent Feature': 'Parent-Child',\n",
    "    'Parent/Child': 'Parent-Child',\n",
    "    'multi-level hierarchy [GANTT]': 'Parent-Child',\n",
    "    'Parent-Relation': 'Parent-Child',\n",
    "           \n",
    "    'Cloners': 'Clone', \n",
    "    'Cloners (old)': 'Clone', \n",
    "           \n",
    "    'Collection': 'Incorporate', \n",
    "    'Container': 'Incorporate',\n",
    "    'Contains(WBSGantt)': 'Incorporate', \n",
    "    'Incorporate': 'Incorporate', \n",
    "    'Incorporates': 'Incorporate', \n",
    "    'Part': 'Incorporate',\n",
    "    'PartOf': 'Incorporate',\n",
    "    'Superset': 'Incorporate', \n",
    "           \n",
    "    'Completes': 'Fix', \n",
    "    'Fixes': 'Fix',\n",
    "    'Resolve': 'Fix',\n",
    "           \n",
    "    'Depend': 'Depend', \n",
    "    'Dependency': 'Depend', \n",
    "    'Dependent': 'Depend', \n",
    "    'Depends': 'Depend', \n",
    "    'Gantt Dependency': 'Depend',\n",
    "    'dependent': 'Depend',\n",
    "           \n",
    "    'Derived': 'Derive',\n",
    "           \n",
    "    'Detail': 'Detail', \n",
    "           \n",
    "    'Documentation': 'Documented',\n",
    "    'Documented': 'Documented',\n",
    "    \n",
    "    'Duplicate': 'Duplicate',\n",
    "           \n",
    "    'Epic': 'Epic', \n",
    "    'Epic-Relation': 'Epic',\n",
    "    \n",
    "    'Finish-to-Finish link (WBSGantt)': 'finish-finish', \n",
    "    'Gantt End to End': 'finish-finish', \n",
    "    'Gantt: finish-finish': 'finish-finish',\n",
    "    'finish-finish [GANTT]': 'finish-finish', \n",
    "    \n",
    "    'Gantt End to Start': 'finish-start', \n",
    "    'Gantt: finish-start': 'finish-start',\n",
    "    'finish-start [GANTT]': 'finish-start',\n",
    "\n",
    "    'Gantt Start to Start': 'start-start', \n",
    "    \n",
    "    'Gantt: start-finish': 'start-finish', \n",
    "    \n",
    "    'Follows': 'Follow', \n",
    "    'Sequence': 'Follow', \n",
    "    \n",
    "    'Implement': 'Implement', \n",
    "    'Implements': 'Implements', \n",
    "    \n",
    "    'Issue split': 'Split',\n",
    "    'Split': 'Split',\n",
    "    'Work Breakdown': 'Split',\n",
    "    \n",
    "    'Preceded By': 'Precede', \n",
    "    \n",
    "    'Reference': 'Relate',\n",
    "    'Relate': 'Relate',\n",
    "    'Related': 'Relate', \n",
    "    'Relates': 'Relate',\n",
    "    'Relationship': 'Relate',\n",
    "    \n",
    "    'Regression': 'Breaks', \n",
    "    \n",
    "    'Replacement': 'Replace',\n",
    "    \n",
    "    'Required': 'Require', \n",
    "    \n",
    "    'Supercedes': 'Supercede',\n",
    "    'Supersede': 'Supercede',\n",
    "    'Supersession': 'Supercede', \n",
    "    \n",
    "    'Subtask': 'Subtask',\n",
    "    \n",
    "    'Test': 'Test', \n",
    "    'Tested': 'Test',\n",
    "    \n",
    "    'Trigger': 'Trigger', \n",
    "    \n",
    "    'Non-Link': 'Non-Link'}\n",
    "\n",
    "cat_dict = {'Block': 'Causal',\n",
    "    'Bonfire Testing': 'Workflow',\n",
    "    'Breaks': 'Causal',\n",
    "    'Cause': 'Causal',\n",
    "    'Clone': 'General',\n",
    "    'Depend': 'Causal',\n",
    "    'Detail': 'Workflow',\n",
    "    'Documented': 'Workflow',\n",
    "    'Duplicate': 'General',\n",
    "    'Epic': 'Epic',\n",
    "    'Fix': 'Workflow',\n",
    "    'Follow': 'Causal',\n",
    "    'Incorporate': 'Split',\n",
    "    'Parent-Child': 'Split',\n",
    "    'Relate': 'General',\n",
    "    'Replace': 'General',\n",
    "    'Require': 'Causal',\n",
    "    'Split': 'Split',\n",
    "    'Subtask': 'Split',\n",
    "    'Supercede': 'Causal',\n",
    "    'Trigger': 'Workflow',\n",
    "    'finish-start': 'Causal',\n",
    "    'Non-Link': 'Non-Link'\n",
    "           }"
   ]
  },
  {
   "cell_type": "code",
   "execution_count": 12,
   "id": "abbebb5b",
   "metadata": {},
   "outputs": [],
   "source": [
    "for s in SOURCES:\n",
    "    link_text_dict[s]['mappedtype'] = link_text_dict[s]['linktype'].map(type_dict)\n",
    "    link_text_dict[s]['cattype'] = link_text_dict[s]['mappedtype'].map(cat_dict)"
   ]
  },
  {
   "cell_type": "code",
   "execution_count": 22,
   "id": "867ffd91",
   "metadata": {},
   "outputs": [],
   "source": [
    "relevant_types = ['Relate', 'Duplicate', 'Subtask', 'Depend', 'Clone', 'Incorporate', 'Epic', 'Block', 'Cause', 'Non-Link']\n",
    "\n",
    "median = []\n",
    "mean = []\n",
    "std = []\n",
    "\n",
    "for s in SOURCES:\n",
    "    temp_df = link_text_dict[s]\n",
    "    \n",
    "    temp_median = [s]\n",
    "    temp_mean = [s]\n",
    "    temp_std = [s]\n",
    "    \n",
    "    for i in relevant_types:\n",
    "        if i in set(temp_df['mappedtype'].unique()):\n",
    "            temp_link_df = temp_df[temp_df['mappedtype']==i]\n",
    "            temp_median.append(temp_link_df['cosim'].median())\n",
    "            temp_mean.append(temp_link_df['cosim'].mean())\n",
    "            temp_std.append(temp_link_df['cosim'].std())\n",
    "        else:\n",
    "            temp_median.append(\"not in repo\")\n",
    "            temp_mean.append(\"not in repo\")\n",
    "            temp_std.append(\"not in repo\")\n",
    "            \n",
    "    median.append(temp_median)\n",
    "    mean.append(temp_mean)\n",
    "    std.append(temp_std)\n"
   ]
  },
  {
   "cell_type": "code",
   "execution_count": 23,
   "id": "087e10b8",
   "metadata": {},
   "outputs": [],
   "source": [
    "cols = ['Repo', 'Relate', 'Duplicate', 'Subtask', 'Depend', 'Clone', 'Incorporate', 'Epic', 'Block', 'Cause', 'Non-Link']\n",
    "median_df = pd.DataFrame(median, columns = cols)\n",
    "mean_df = pd.DataFrame(mean, columns = cols)\n",
    "std_df = pd.DataFrame(std, columns = cols)"
   ]
  },
  {
   "cell_type": "code",
   "execution_count": 24,
   "id": "446b5b96",
   "metadata": {},
   "outputs": [],
   "source": [
    "def special_round(x, i):\n",
    "    try:\n",
    "        if i == 0:\n",
    "            y = int(round(x, 0))\n",
    "        else:\n",
    "            y = round(x, i)\n",
    "    except: \n",
    "        y = None\n",
    "    return y"
   ]
  },
  {
   "cell_type": "code",
   "execution_count": 25,
   "id": "40d52265",
   "metadata": {},
   "outputs": [
    {
     "name": "stdout",
     "output_type": "stream",
     "text": [
      "\\begin{tabular}{lrrrrrrrrrr}\n",
      "\\toprule\n",
      "{} &  Relate &  Duplicate &  Subtask &  Depend &  Clone &  Incorporate &  Epic &  Block &  Cause &  Non-Link \\\\\n",
      "Repo          &         &            &          &         &        &              &       &        &        &           \\\\\n",
      "\\midrule\n",
      "Apache        &    0.14 &       0.29 &     0.00 &    0.08 &   0.90 &         0.07 &  0.00 &   0.03 &   0.09 &      0.00 \\\\\n",
      "Hyperledger   &    0.33 &       0.44 &     0.21 &     NaN &   0.95 &          NaN &  0.06 &   0.31 &    NaN &      0.00 \\\\\n",
      "IntelDAOS     &    0.18 &       0.29 &     0.07 &     NaN &   0.99 &          NaN &   NaN &   0.11 &    NaN &      0.00 \\\\\n",
      "JFrog         &    0.37 &       0.38 &     0.00 &    0.28 &   1.00 &         0.27 &   NaN &    NaN &    NaN &      0.02 \\\\\n",
      "Jira          &    0.89 &       0.44 &     0.06 &    0.49 &   0.92 &         0.40 &   NaN &   0.29 &   0.34 &      0.03 \\\\\n",
      "JiraEcosystem &    0.25 &       0.48 &     0.00 &    0.15 &   0.94 &         0.13 &  0.00 &   0.13 &   0.24 &      0.00 \\\\\n",
      "MariaDB       &    0.25 &       0.32 &     0.06 &     NaN &    NaN &         0.13 &  0.00 &   0.22 &   0.13 &      0.04 \\\\\n",
      "Mindville     &    0.40 &       0.56 &      NaN &     NaN &   0.97 &          NaN &   NaN &   0.92 &    NaN &      0.04 \\\\\n",
      "Mojang        &    0.24 &       0.19 &      NaN &     NaN &   0.37 &          NaN &   NaN &   0.19 &    NaN &      0.00 \\\\\n",
      "MongoDB       &    0.17 &       0.31 &     0.17 &    0.24 &   1.00 &          NaN &  0.00 &    NaN &   0.13 &      0.00 \\\\\n",
      "Qt            &    0.24 &       0.30 &     0.21 &    0.12 &   0.91 &          NaN &  0.00 &   0.20 &    NaN &      0.00 \\\\\n",
      "RedHat        &    0.21 &       0.36 &     0.17 &     NaN &   1.00 &         0.00 &   NaN &   0.10 &   0.16 &      0.00 \\\\\n",
      "Sakai         &     NaN &        NaN &     0.15 &     NaN &    NaN &          NaN &   NaN &    NaN &    NaN &      0.00 \\\\\n",
      "SecondLife    &    0.25 &        NaN &     0.17 &    0.15 &   0.58 &         0.00 &   NaN &    NaN &    NaN &      0.03 \\\\\n",
      "Sonatype      &    0.27 &       0.40 &     0.00 &    0.14 &    NaN &          NaN &  0.34 &    NaN &   0.21 &      0.00 \\\\\n",
      "Spring        &    0.20 &       0.30 &     0.00 &    0.16 &   0.30 &          NaN &  0.00 &    NaN &    NaN &      0.00 \\\\\n",
      "\\bottomrule\n",
      "\\end{tabular}\n",
      "\n"
     ]
    }
   ],
   "source": [
    "bla = median_df.set_index('Repo')\n",
    "bla.round(decimals = 2)\n",
    "\n",
    "# print(bla.to_latex())\n",
    "for i in bla.columns:\n",
    "    bla[i] = bla[i].apply(lambda x: special_round(x,2))\n",
    "    \n",
    "print(bla.to_latex())"
   ]
  },
  {
   "cell_type": "code",
   "execution_count": 26,
   "id": "f25579b8",
   "metadata": {},
   "outputs": [
    {
     "data": {
      "text/plain": [
       "Relate         0.292667\n",
       "Duplicate      0.361429\n",
       "Subtask        0.090714\n",
       "Depend         0.201111\n",
       "Clone          0.833077\n",
       "Incorporate    0.142857\n",
       "Epic           0.050000\n",
       "Block          0.250000\n",
       "Cause          0.185714\n",
       "Non-Link       0.010000\n",
       "dtype: float64"
      ]
     },
     "execution_count": 26,
     "metadata": {},
     "output_type": "execute_result"
    }
   ],
   "source": [
    "bla.mean(axis = 0, skipna = True)"
   ]
  },
  {
   "cell_type": "code",
   "execution_count": 7,
   "id": "9146cebd",
   "metadata": {},
   "outputs": [
    {
     "ename": "NameError",
     "evalue": "name 'std_df' is not defined",
     "output_type": "error",
     "traceback": [
      "\u001b[0;31m---------------------------------------------------------------------------\u001b[0m",
      "\u001b[0;31mNameError\u001b[0m                                 Traceback (most recent call last)",
      "\u001b[0;32m<ipython-input-7-ffa007238372>\u001b[0m in \u001b[0;36m<module>\u001b[0;34m\u001b[0m\n\u001b[0;32m----> 1\u001b[0;31m \u001b[0mstd_df\u001b[0m\u001b[0;34m\u001b[0m\u001b[0;34m\u001b[0m\u001b[0m\n\u001b[0m",
      "\u001b[0;31mNameError\u001b[0m: name 'std_df' is not defined"
     ]
    }
   ],
   "source": [
    "std_df"
   ]
  },
  {
   "cell_type": "code",
   "execution_count": 27,
   "id": "31eec505",
   "metadata": {},
   "outputs": [],
   "source": [
    "common_link_text_dict = {}\n",
    "for s in SOURCES:\n",
    "    linktypes = (link_text_dict[s].mappedtype.value_counts()>=len(link_text_dict[s])*0.01).rename_axis('mappedtype').reset_index(name='valid')\n",
    "    valid_types = set(linktypes[linktypes['valid']==True]['mappedtype'])\n",
    "\n",
    "    all_data = link_text_dict[s][(link_text_dict[s][\"mappedtype\"].isin(valid_types))]\n",
    "    \n",
    "    common_link_text_dict[s] = all_data"
   ]
  },
  {
   "cell_type": "code",
   "execution_count": 28,
   "id": "6b30591c",
   "metadata": {
    "scrolled": true
   },
   "outputs": [
    {
     "name": "stderr",
     "output_type": "stream",
     "text": [
      "<ipython-input-28-9370f82300be>:17: SettingWithCopyWarning: \n",
      "A value is trying to be set on a copy of a slice from a DataFrame.\n",
      "Try using .loc[row_indexer,col_indexer] = value instead\n",
      "\n",
      "See the caveats in the documentation: https://pandas.pydata.org/pandas-docs/stable/user_guide/indexing.html#returning-a-view-versus-a-copy\n",
      "  linked_issue_df['title_len'] = title_lengths\n",
      "<ipython-input-28-9370f82300be>:18: SettingWithCopyWarning: \n",
      "A value is trying to be set on a copy of a slice from a DataFrame.\n",
      "Try using .loc[row_indexer,col_indexer] = value instead\n",
      "\n",
      "See the caveats in the documentation: https://pandas.pydata.org/pandas-docs/stable/user_guide/indexing.html#returning-a-view-versus-a-copy\n",
      "  linked_issue_df['desc_len'] = desc_lengths\n",
      "<ipython-input-28-9370f82300be>:20: SettingWithCopyWarning: \n",
      "A value is trying to be set on a copy of a slice from a DataFrame.\n",
      "Try using .loc[row_indexer,col_indexer] = value instead\n",
      "\n",
      "See the caveats in the documentation: https://pandas.pydata.org/pandas-docs/stable/user_guide/indexing.html#returning-a-view-versus-a-copy\n",
      "  linked_issue_df['title_len_char'] = linked_issue_df['title'].apply(lambda x: len(str(x)))\n",
      "<ipython-input-28-9370f82300be>:21: SettingWithCopyWarning: \n",
      "A value is trying to be set on a copy of a slice from a DataFrame.\n",
      "Try using .loc[row_indexer,col_indexer] = value instead\n",
      "\n",
      "See the caveats in the documentation: https://pandas.pydata.org/pandas-docs/stable/user_guide/indexing.html#returning-a-view-versus-a-copy\n",
      "  linked_issue_df['desc_len_char'] = linked_issue_df['description'].apply(lambda x: len(str(x)))\n"
     ]
    }
   ],
   "source": [
    "link_issue_df_dict = {}\n",
    "\n",
    "for s in SOURCES:\n",
    "    issue_df, link_df = load_data(s)\n",
    "    \n",
    "    issue_df['title'].fillna(' ', inplace=True)\n",
    "    issue_df['description'].fillna(' ', inplace=True)\n",
    "    \n",
    "    linked_issues = set(link_df['issue_id_1']).union(set(link_df['issue_id_2']))\n",
    "    linked_issue_df = issue_df[issue_df['issue_id'].isin(linked_issues)]\n",
    "    \n",
    "    titles = linked_issue_df['title']\n",
    "    title_lengths = (titles.str.count(' ')+1).fillna(0).astype(np.int)\n",
    "    titles = linked_issue_df['description']\n",
    "    desc_lengths = (titles.str.count(' ')+1).fillna(0).astype(np.int)\n",
    "    \n",
    "    linked_issue_df['title_len'] = title_lengths\n",
    "    linked_issue_df['desc_len'] = desc_lengths\n",
    "    \n",
    "    linked_issue_df['title_len_char'] = linked_issue_df['title'].apply(lambda x: len(str(x)))\n",
    "    linked_issue_df['desc_len_char'] = linked_issue_df['description'].apply(lambda x: len(str(x)))\n",
    "    \n",
    "    issue_text_data = linked_issue_df[['title_len', 'desc_len', 'title_len_char', 'desc_len_char', 'issue_id']]\n",
    "    \n",
    "    link_issue_df_dict[s] = linked_issue_df\n",
    "    \n",
    "    link_text_df = common_link_text_dict[s]\n",
    "    \n",
    "    link_text_df = link_df.merge(issue_text_data, left_on='issue_id_1', right_on='issue_id')\n",
    "    link_text_df = link_text_df.merge(issue_text_data, left_on='issue_id_2', right_on='issue_id', suffixes=('_1', '_2'))\n",
    "    \n",
    "    link_text_df['diff_char_title'] =  link_text_df['title_len_char_1'] - link_text_df['title_len_char_2']\n",
    "    link_text_df['diff_title'] =  link_text_df['title_len_1'] - link_text_df['title_len_2']\n",
    "    link_text_df['diff_char_desc'] =  link_text_df['desc_len_char_1'] - link_text_df['desc_len_char_2']\n",
    "    link_text_df['diff_desc'] =  link_text_df['desc_len_1'] - link_text_df['desc_len_2']\n",
    "    \n",
    "    common_link_text_dict[s] = link_text_df"
   ]
  },
  {
   "cell_type": "code",
   "execution_count": 29,
   "id": "e30cf23a",
   "metadata": {},
   "outputs": [],
   "source": [
    "for s in SOURCES:\n",
    "    common_link_text_dict[s]['mappedtype'] = common_link_text_dict[s]['linktype'].map(type_dict)\n",
    "    common_link_text_dict[s]['cattype'] = common_link_text_dict[s]['mappedtype'].map(cat_dict)"
   ]
  },
  {
   "cell_type": "code",
   "execution_count": 30,
   "id": "607459ca",
   "metadata": {},
   "outputs": [],
   "source": [
    "for s in SOURCES:\n",
    "    temp_df = common_link_text_dict[s]\n",
    "    temp_df['diff_text'] = temp_df['diff_title'] + temp_df['diff_desc']\n",
    "    temp_df['diff_text'] = temp_df['diff_text'].apply(lambda x: abs(x))\n",
    "    temp_df['diff_char_title'] = temp_df['diff_char_title'].apply(lambda x: abs(x))\n",
    "    temp_df['diff_title'] = temp_df['diff_title'].apply(lambda x: abs(x))\n",
    "    temp_df['diff_char_desc'] = temp_df['diff_char_desc'].apply(lambda x: abs(x))\n",
    "    temp_df['diff_desc'] = temp_df['diff_desc'].apply(lambda x: abs(x))\n",
    "    \n",
    "    common_link_text_dict[s] = temp_df"
   ]
  },
  {
   "cell_type": "code",
   "execution_count": 31,
   "id": "f9648616",
   "metadata": {},
   "outputs": [],
   "source": [
    "for s in SOURCES:\n",
    "    \n",
    "    temp_df = common_link_text_dict[s]\n",
    "    \n",
    "    temp_df['title_len'] = temp_df['title_len_1']+temp_df['title_len_2']\n",
    "    temp_df['desc_len'] = temp_df['desc_len_1']+temp_df['desc_len_2']\n",
    "    \n",
    "    temp_df['title_len_char'] = temp_df['title_len_char_1']+temp_df['title_len_char_2']\n",
    "    temp_df['desc_len_char'] = temp_df['desc_len_char_1']+temp_df['desc_len_char_2']\n",
    "    \n",
    "    temp_df['text_len'] = temp_df['title_len']+temp_df['desc_len']\n",
    "    \n",
    "    \n",
    "    \n",
    "    common_link_text_dict[s] = temp_df"
   ]
  },
  {
   "cell_type": "code",
   "execution_count": 32,
   "id": "fa82a8fe",
   "metadata": {},
   "outputs": [],
   "source": [
    "relevant_types = ['Relate', 'Duplicate', 'Subtask', 'Depend', 'Clone', 'Incorporate', 'Epic', 'Block', 'Cause', 'Non-Link']\n",
    "\n",
    "median = []\n",
    "mean = []\n",
    "std = []\n",
    "\n",
    "for s in SOURCES:\n",
    "    temp_df = common_link_text_dict[s]\n",
    "    \n",
    "    temp_median = [s]\n",
    "    temp_mean = [s]\n",
    "    temp_std = [s]\n",
    "    \n",
    "    for i in relevant_types:\n",
    "        if i in set(temp_df['mappedtype'].unique()):\n",
    "            temp_link_df = temp_df[temp_df['mappedtype']==i]\n",
    "            temp_median.append(temp_link_df['text_len'].median())\n",
    "            temp_mean.append(temp_link_df['text_len'].mean())\n",
    "            temp_std.append(temp_link_df['text_len'].std())\n",
    "        else:\n",
    "            temp_median.append(\"not in repo\")\n",
    "            temp_mean.append(\"not in repo\")\n",
    "            temp_std.append(\"not in repo\")\n",
    "            \n",
    "    median.append(temp_median)\n",
    "    mean.append(temp_mean)\n",
    "    std.append(temp_std)\n"
   ]
  },
  {
   "cell_type": "code",
   "execution_count": 33,
   "id": "c994e047",
   "metadata": {},
   "outputs": [],
   "source": [
    "cols = ['Repo', 'Relate', 'Duplicate', 'Subtask', 'Depend', 'Clone', 'Incorporate', 'Epic', 'Block', 'Cause', 'Non-Link']\n",
    "\n",
    "median_df = pd.DataFrame(median, columns = cols)\n",
    "mean_df = pd.DataFrame(mean, columns = cols)\n",
    "std_df = pd.DataFrame(std, columns = cols)"
   ]
  },
  {
   "cell_type": "code",
   "execution_count": 34,
   "id": "46ec313b",
   "metadata": {},
   "outputs": [
    {
     "name": "stdout",
     "output_type": "stream",
     "text": [
      "\\begin{tabular}{lrrrrrrrrrr}\n",
      "\\toprule\n",
      "{} &  Relate &  Duplicate &  Subtask &  Depend &  Clone &  Incorporate &   Epic &  Block &  Cause &  Non-Link \\\\\n",
      "Repo          &         &            &          &         &        &              &        &        &        &           \\\\\n",
      "\\midrule\n",
      "Apache        &   157.0 &      159.0 &     87.0 &   114.0 &   98.0 &        120.0 &   93.0 &  109.0 &  172.0 &       133 \\\\\n",
      "Hyperledger   &   176.0 &      159.0 &     79.0 &     NaN &   92.0 &          NaN &   96.0 &  131.0 &    NaN &       105 \\\\\n",
      "IntelDAOS     &   268.0 &      398.0 &     90.0 &     NaN &  123.0 &          NaN &    NaN &  297.0 &    NaN &       142 \\\\\n",
      "JFrog         &   152.0 &      172.0 &      9.0 &    70.0 &  260.0 &        195.0 &    NaN &    NaN &    NaN &       131 \\\\\n",
      "Jira          &   192.0 &      182.0 &     76.0 &   158.0 &  180.0 &        183.0 &    NaN &  161.0 &  244.0 &       168 \\\\\n",
      "JiraEcosystem &   119.0 &      104.0 &     36.0 &   105.0 &  108.0 &         93.0 &   51.0 &   88.0 &  142.0 &        88 \\\\\n",
      "MariaDB       &   433.0 &      432.0 &     85.0 &     NaN &    NaN &        188.0 &   70.0 &  341.0 &  439.0 &       350 \\\\\n",
      "Mindville     &   162.0 &      128.0 &      NaN &     NaN &  248.0 &          NaN &    NaN &  101.0 &    NaN &       153 \\\\\n",
      "Mojang        &   155.0 &      146.0 &      NaN &     NaN &  126.0 &          NaN &    NaN &  132.0 &    NaN &       112 \\\\\n",
      "MongoDB       &   165.0 &      154.0 &     68.0 &    96.0 &  100.0 &          NaN &   69.0 &    NaN &  174.0 &       119 \\\\\n",
      "Qt            &   187.0 &      181.0 &     45.0 &   106.0 &  134.0 &          NaN &   89.0 &  216.0 &    NaN &       151 \\\\\n",
      "RedHat        &   135.0 &      136.0 &     74.0 &     NaN &  112.0 &         92.0 &    NaN &   97.0 &  153.0 &       110 \\\\\n",
      "Sakai         &     NaN &        NaN &    106.0 &     NaN &    NaN &          NaN &    NaN &    NaN &    NaN &       143 \\\\\n",
      "SecondLife    &   163.0 &        NaN &     79.0 &   120.0 &  130.0 &        102.0 &    NaN &    NaN &    NaN &       160 \\\\\n",
      "Sonatype      &   162.0 &      185.0 &     68.0 &   107.0 &    NaN &          NaN &  116.0 &    NaN &  184.0 &        50 \\\\\n",
      "Spring        &   173.0 &      179.0 &     58.0 &   107.0 &  124.0 &          NaN &   53.0 &    NaN &    NaN &       127 \\\\\n",
      "\\bottomrule\n",
      "\\end{tabular}\n",
      "\n"
     ]
    }
   ],
   "source": [
    "bla = median_df.set_index('Repo')\n",
    "\n",
    "bla\n",
    "# print(bla.to_latex())\n",
    "for i in bla.columns:\n",
    "    bla[i] = bla[i].apply(lambda x: special_round(x, 0))\n",
    "    \n",
    "print(bla.to_latex())"
   ]
  },
  {
   "cell_type": "code",
   "execution_count": 37,
   "id": "5a93a883",
   "metadata": {},
   "outputs": [
    {
     "data": {
      "text/plain": [
       "Relate         186.600000\n",
       "Duplicate      193.928571\n",
       "Subtask         68.571429\n",
       "Depend         109.222222\n",
       "Clone          141.153846\n",
       "Incorporate    139.000000\n",
       "Epic            79.625000\n",
       "Block          167.300000\n",
       "Cause          215.428571\n",
       "Non-Link       140.125000\n",
       "dtype: float64"
      ]
     },
     "execution_count": 37,
     "metadata": {},
     "output_type": "execute_result"
    }
   ],
   "source": [
    "bla.mean(axis = 0, skipna = True)"
   ]
  },
  {
   "cell_type": "code",
   "execution_count": 38,
   "id": "f6b5f1c8",
   "metadata": {},
   "outputs": [],
   "source": [
    "relevant_types = ['Relate', 'Duplicate', 'Subtask', 'Depend', 'Clone', 'Incorporate', 'Epic', 'Block', 'Cause', 'Non-Link']\n",
    "\n",
    "median = []\n",
    "mean = []\n",
    "std = []\n",
    "\n",
    "for s in SOURCES:\n",
    "    temp_df = common_link_text_dict[s]\n",
    "    \n",
    "    temp_median = [s]\n",
    "    temp_mean = [s]\n",
    "    temp_std = [s]\n",
    "    \n",
    "    for i in relevant_types:\n",
    "        if i in set(temp_df['mappedtype'].unique()):\n",
    "            temp_link_df = temp_df[temp_df['mappedtype']==i]\n",
    "            temp_median.append(temp_link_df['diff_text'].median())\n",
    "            temp_mean.append(temp_link_df['diff_text'].mean())\n",
    "            temp_std.append(temp_link_df['diff_text'].std())\n",
    "        else:\n",
    "            temp_median.append(\"not in repo\")\n",
    "            temp_mean.append(\"not in repo\")\n",
    "            temp_std.append(\"not in repo\")\n",
    "            \n",
    "    median.append(temp_median)\n",
    "    mean.append(temp_mean)\n",
    "    std.append(temp_std)\n"
   ]
  },
  {
   "cell_type": "code",
   "execution_count": 39,
   "id": "7919a20f",
   "metadata": {},
   "outputs": [],
   "source": [
    "cols = ['Repo', 'Relate', 'Duplicate', 'Subtask', 'Depend', 'Clone', 'Incorporate', 'Epic', 'Block', 'Cause', 'Non-Link']\n",
    "\n",
    "median_df = pd.DataFrame(median, columns = cols)\n",
    "mean_df = pd.DataFrame(mean, columns = cols)\n",
    "std_df = pd.DataFrame(std, columns = cols)"
   ]
  },
  {
   "cell_type": "code",
   "execution_count": 40,
   "id": "b7e86a8e",
   "metadata": {},
   "outputs": [
    {
     "name": "stdout",
     "output_type": "stream",
     "text": [
      "\\begin{tabular}{lrrrrrrrrrr}\n",
      "\\toprule\n",
      "{} &  Relate &  Duplicate &  Subtask &  Depend &  Clone &  Incorporate &  Epic &  Block &  Cause &  Non-Link \\\\\n",
      "Repo          &         &            &          &         &        &              &       &        &        &           \\\\\n",
      "\\midrule\n",
      "Apache        &    50.0 &       43.0 &     34.0 &    37.0 &    3.0 &         41.0 &  44.0 &   36.0 &   62.0 &        52 \\\\\n",
      "Hyperledger   &    58.0 &       50.0 &     35.0 &     NaN &    2.0 &          NaN &  48.0 &   46.0 &    NaN &        46 \\\\\n",
      "IntelDAOS     &    91.0 &      146.0 &     30.0 &     NaN &    2.0 &          NaN &   NaN &  147.0 &    NaN &        59 \\\\\n",
      "JFrog         &    44.0 &       49.0 &      5.0 &    18.0 &    2.0 &         61.0 &   NaN &    NaN &    NaN &        60 \\\\\n",
      "Jira          &     0.0 &       43.0 &     33.0 &    39.0 &    8.0 &         49.0 &   NaN &   43.0 &   68.0 &        54 \\\\\n",
      "JiraEcosystem &    32.0 &       24.0 &     12.0 &    36.0 &    4.0 &         31.0 &  28.0 &   24.0 &   51.0 &        36 \\\\\n",
      "MariaDB       &   144.0 &      124.0 &     37.0 &     NaN &    NaN &         98.0 &  38.0 &  122.0 &  166.0 &       162 \\\\\n",
      "Mindville     &    26.0 &       31.0 &      NaN &     NaN &    1.0 &          NaN &   NaN &   21.0 &    NaN &        31 \\\\\n",
      "Mojang        &    42.0 &       49.0 &      NaN &     NaN &   24.0 &          NaN &   NaN &   41.0 &    NaN &        35 \\\\\n",
      "MongoDB       &    58.0 &       47.0 &     22.0 &    36.0 &    1.0 &          NaN &  33.0 &    NaN &   63.0 &        49 \\\\\n",
      "Qt            &    56.0 &       51.0 &     16.0 &    44.0 &    9.0 &          NaN &  40.0 &  143.0 &    NaN &        55 \\\\\n",
      "RedHat        &    42.0 &       37.0 &     27.0 &     NaN &    0.0 &         44.0 &   NaN &   35.0 &   52.0 &        46 \\\\\n",
      "Sakai         &     NaN &        NaN &     36.0 &     NaN &    NaN &          NaN &   NaN &    NaN &    NaN &        48 \\\\\n",
      "SecondLife    &    51.0 &        NaN &     31.0 &    25.0 &   17.0 &         70.0 &   NaN &    NaN &    NaN &        54 \\\\\n",
      "Sonatype      &    45.0 &       42.0 &     30.0 &    46.0 &    NaN &          NaN &  53.0 &    NaN &   64.0 &        23 \\\\\n",
      "Spring        &    52.0 &       50.0 &     23.0 &    38.0 &   44.0 &          NaN &  23.0 &    NaN &    NaN &        53 \\\\\n",
      "\\bottomrule\n",
      "\\end{tabular}\n",
      "\n"
     ]
    }
   ],
   "source": [
    "bla = median_df.set_index('Repo')\n",
    "\n",
    "bla\n",
    "# print(bla.to_latex())\n",
    "for i in bla.columns:\n",
    "    bla[i] = bla[i].apply(lambda x: special_round(x, 0))\n",
    "    \n",
    "print(bla.to_latex())"
   ]
  },
  {
   "cell_type": "code",
   "execution_count": 41,
   "id": "d81e7587",
   "metadata": {},
   "outputs": [
    {
     "data": {
      "text/plain": [
       "Relate         52.733333\n",
       "Duplicate      56.142857\n",
       "Subtask        26.500000\n",
       "Depend         35.444444\n",
       "Clone           9.000000\n",
       "Incorporate    56.285714\n",
       "Epic           38.375000\n",
       "Block          65.800000\n",
       "Cause          75.142857\n",
       "Non-Link       53.937500\n",
       "dtype: float64"
      ]
     },
     "execution_count": 41,
     "metadata": {},
     "output_type": "execute_result"
    }
   ],
   "source": [
    "bla.mean(axis = 0, skipna = True)"
   ]
  },
  {
   "cell_type": "code",
   "execution_count": 53,
   "id": "027d78da",
   "metadata": {},
   "outputs": [
    {
     "name": "stdout",
     "output_type": "stream",
     "text": [
      "APACHE\n",
      "HYPERLEDGER\n",
      "INTELDAOS\n",
      "JFROG\n",
      "JIRA\n",
      "JIRAECOSYSTEM\n",
      "MARIADB\n",
      "MINDVILLE\n",
      "MOJANG\n",
      "MONGODB\n",
      "QT\n",
      "REDHAT\n",
      "SAKAI\n",
      "SECONDLIFE\n",
      "SONATYPE\n",
      "SPRING\n"
     ]
    }
   ],
   "source": [
    "count_df = pd.DataFrame()\n",
    "\n",
    "for s in SOURCES:\n",
    "    print(s.upper())\n",
    "    countvects_df = countvect_dict[s]\n",
    "    link_text_df = common_link_text_dict[s]\n",
    "    link_text_df = link_text_df.T.drop_duplicates().T\n",
    "    \n",
    "    countvects_df = countvects_df.reset_index()\n",
    "\n",
    "    for i in link_text_df.mappedtype.unique():\n",
    "        temp_df = link_text_df[link_text_df['mappedtype']==i]\n",
    "        temp_issues = set(temp_df['issue_id_1']).union(set(temp_df['issue_id_2']))\n",
    "        \n",
    "        temp_countvects_df = countvects_df[countvects_df['issue_id'].isin(temp_issues)]\n",
    "        \n",
    "        counts = temp_countvects_df.set_index('issue_id').sum().sort_values(ascending=False)[:20]\n",
    "        \n",
    "        bla = counts.reset_index().drop(0)\n",
    "        bla.loc['SOURCE']=s\n",
    "        bla.loc['mappedtype']=i\n",
    "#         print(bla.T)\n",
    "        count_df = pd.concat([count_df, bla.T])\n",
    "    \n",
    "    \n",
    "#         print(temp_countvects_df.sum().sort_values(ascending=False))"
   ]
  },
  {
   "cell_type": "code",
   "execution_count": 55,
   "id": "333998dd",
   "metadata": {},
   "outputs": [],
   "source": [
    "count_df.set_index(['SOURCE', 'mappedtype'], inplace = True)"
   ]
  },
  {
   "cell_type": "code",
   "execution_count": 62,
   "id": "6e07f7a9",
   "metadata": {},
   "outputs": [
    {
     "name": "stderr",
     "output_type": "stream",
     "text": [
      "<ipython-input-62-1390d13c0cdd>:4: FutureWarning: Passing a negative integer is deprecated in version 1.0 and will not be supported in future version. Instead, use None to not limit the column width.\n",
      "  pd.set_option('display.max_colwidth', -1)\n"
     ]
    }
   ],
   "source": [
    "pd.set_option('display.max_rows', None)\n",
    "pd.set_option('display.max_columns', None)\n",
    "pd.set_option('display.width', None)\n",
    "pd.set_option('display.max_colwidth', -1)"
   ]
  },
  {
   "cell_type": "code",
   "execution_count": 222,
   "id": "dc0c96a4",
   "metadata": {},
   "outputs": [
    {
     "data": {
      "text/html": [
       "<div>\n",
       "<style scoped>\n",
       "    .dataframe tbody tr th:only-of-type {\n",
       "        vertical-align: middle;\n",
       "    }\n",
       "\n",
       "    .dataframe tbody tr th {\n",
       "        vertical-align: top;\n",
       "    }\n",
       "\n",
       "    .dataframe thead th {\n",
       "        text-align: right;\n",
       "    }\n",
       "</style>\n",
       "<table border=\"1\" class=\"dataframe\">\n",
       "  <thead>\n",
       "    <tr style=\"text-align: right;\">\n",
       "      <th></th>\n",
       "      <th>1</th>\n",
       "      <th>2</th>\n",
       "      <th>3</th>\n",
       "      <th>4</th>\n",
       "      <th>5</th>\n",
       "      <th>6</th>\n",
       "      <th>7</th>\n",
       "      <th>8</th>\n",
       "      <th>9</th>\n",
       "      <th>10</th>\n",
       "      <th>11</th>\n",
       "      <th>12</th>\n",
       "      <th>13</th>\n",
       "      <th>14</th>\n",
       "      <th>15</th>\n",
       "      <th>16</th>\n",
       "      <th>17</th>\n",
       "      <th>18</th>\n",
       "      <th>19</th>\n",
       "    </tr>\n",
       "    <tr>\n",
       "      <th>mappedtype</th>\n",
       "      <th></th>\n",
       "      <th></th>\n",
       "      <th></th>\n",
       "      <th></th>\n",
       "      <th></th>\n",
       "      <th></th>\n",
       "      <th></th>\n",
       "      <th></th>\n",
       "      <th></th>\n",
       "      <th></th>\n",
       "      <th></th>\n",
       "      <th></th>\n",
       "      <th></th>\n",
       "      <th></th>\n",
       "      <th></th>\n",
       "      <th></th>\n",
       "      <th></th>\n",
       "      <th></th>\n",
       "      <th></th>\n",
       "    </tr>\n",
       "  </thead>\n",
       "  <tbody>\n",
       "    <tr>\n",
       "      <th>Relate</th>\n",
       "      <td>org</td>\n",
       "      <td>apache</td>\n",
       "      <td>hadoop</td>\n",
       "      <td>code</td>\n",
       "      <td>run</td>\n",
       "      <td>com</td>\n",
       "      <td>error</td>\n",
       "      <td>10</td>\n",
       "      <td>server</td>\n",
       "      <td>test</td>\n",
       "      <td>file</td>\n",
       "      <td>thread</td>\n",
       "      <td>class</td>\n",
       "      <td>lang</td>\n",
       "      <td>http</td>\n",
       "      <td>method</td>\n",
       "      <td>client</td>\n",
       "      <td>new</td>\n",
       "      <td>data</td>\n",
       "    </tr>\n",
       "    <tr>\n",
       "      <th>Relate</th>\n",
       "      <td>305505</td>\n",
       "      <td>249685</td>\n",
       "      <td>70016</td>\n",
       "      <td>66091</td>\n",
       "      <td>46717</td>\n",
       "      <td>41846</td>\n",
       "      <td>41825</td>\n",
       "      <td>40686</td>\n",
       "      <td>40494</td>\n",
       "      <td>39346</td>\n",
       "      <td>36743</td>\n",
       "      <td>33678</td>\n",
       "      <td>31560</td>\n",
       "      <td>31310</td>\n",
       "      <td>28114</td>\n",
       "      <td>27300</td>\n",
       "      <td>26032</td>\n",
       "      <td>25437</td>\n",
       "      <td>25414</td>\n",
       "    </tr>\n",
       "    <tr>\n",
       "      <th>Supercede</th>\n",
       "      <td>org</td>\n",
       "      <td>apache</td>\n",
       "      <td>code</td>\n",
       "      <td>hadoop</td>\n",
       "      <td>error</td>\n",
       "      <td>com</td>\n",
       "      <td>build</td>\n",
       "      <td>run</td>\n",
       "      <td>file</td>\n",
       "      <td>use</td>\n",
       "      <td>thread</td>\n",
       "      <td>tests</td>\n",
       "      <td>https</td>\n",
       "      <td>test</td>\n",
       "      <td>log</td>\n",
       "      <td>files</td>\n",
       "      <td>version</td>\n",
       "      <td>data</td>\n",
       "      <td>server</td>\n",
       "    </tr>\n",
       "    <tr>\n",
       "      <th>Supercede</th>\n",
       "      <td>10589</td>\n",
       "      <td>8727</td>\n",
       "      <td>3217</td>\n",
       "      <td>2222</td>\n",
       "      <td>2105</td>\n",
       "      <td>2005</td>\n",
       "      <td>1926</td>\n",
       "      <td>1795</td>\n",
       "      <td>1701</td>\n",
       "      <td>1558</td>\n",
       "      <td>1544</td>\n",
       "      <td>1480</td>\n",
       "      <td>1407</td>\n",
       "      <td>1403</td>\n",
       "      <td>1396</td>\n",
       "      <td>1394</td>\n",
       "      <td>1391</td>\n",
       "      <td>1349</td>\n",
       "      <td>1346</td>\n",
       "    </tr>\n",
       "    <tr>\n",
       "      <th>Breaks</th>\n",
       "      <td>org</td>\n",
       "      <td>apache</td>\n",
       "      <td>hadoop</td>\n",
       "      <td>code</td>\n",
       "      <td>server</td>\n",
       "      <td>error</td>\n",
       "      <td>run</td>\n",
       "      <td>test</td>\n",
       "      <td>class</td>\n",
       "      <td>lang</td>\n",
       "      <td>file</td>\n",
       "      <td>com</td>\n",
       "      <td>thread</td>\n",
       "      <td>10</td>\n",
       "      <td>client</td>\n",
       "      <td>method</td>\n",
       "      <td>main</td>\n",
       "      <td>data</td>\n",
       "      <td>string</td>\n",
       "    </tr>\n",
       "    <tr>\n",
       "      <th>Breaks</th>\n",
       "      <td>25318</td>\n",
       "      <td>22108</td>\n",
       "      <td>11795</td>\n",
       "      <td>5596</td>\n",
       "      <td>4189</td>\n",
       "      <td>3963</td>\n",
       "      <td>3913</td>\n",
       "      <td>3688</td>\n",
       "      <td>3597</td>\n",
       "      <td>3101</td>\n",
       "      <td>2966</td>\n",
       "      <td>2895</td>\n",
       "      <td>2730</td>\n",
       "      <td>2394</td>\n",
       "      <td>2369</td>\n",
       "      <td>2170</td>\n",
       "      <td>2104</td>\n",
       "      <td>2060</td>\n",
       "      <td>1969</td>\n",
       "    </tr>\n",
       "    <tr>\n",
       "      <th>Duplicate</th>\n",
       "      <td>org</td>\n",
       "      <td>apache</td>\n",
       "      <td>file</td>\n",
       "      <td>class</td>\n",
       "      <td>method</td>\n",
       "      <td>com</td>\n",
       "      <td>run</td>\n",
       "      <td>code</td>\n",
       "      <td>hadoop</td>\n",
       "      <td>error</td>\n",
       "      <td>10</td>\n",
       "      <td>lang</td>\n",
       "      <td>test</td>\n",
       "      <td>thread</td>\n",
       "      <td>server</td>\n",
       "      <td>api</td>\n",
       "      <td>data</td>\n",
       "      <td>http</td>\n",
       "      <td>main</td>\n",
       "    </tr>\n",
       "    <tr>\n",
       "      <th>Duplicate</th>\n",
       "      <td>324945</td>\n",
       "      <td>166316</td>\n",
       "      <td>146780</td>\n",
       "      <td>146709</td>\n",
       "      <td>124780</td>\n",
       "      <td>52260</td>\n",
       "      <td>44223</td>\n",
       "      <td>34820</td>\n",
       "      <td>34171</td>\n",
       "      <td>30179</td>\n",
       "      <td>29255</td>\n",
       "      <td>29051</td>\n",
       "      <td>25641</td>\n",
       "      <td>25172</td>\n",
       "      <td>24468</td>\n",
       "      <td>21194</td>\n",
       "      <td>20060</td>\n",
       "      <td>18446</td>\n",
       "      <td>16337</td>\n",
       "    </tr>\n",
       "    <tr>\n",
       "      <th>Depend</th>\n",
       "      <td>org</td>\n",
       "      <td>apache</td>\n",
       "      <td>hadoop</td>\n",
       "      <td>code</td>\n",
       "      <td>file</td>\n",
       "      <td>test</td>\n",
       "      <td>thread</td>\n",
       "      <td>http</td>\n",
       "      <td>use</td>\n",
       "      <td>10</td>\n",
       "      <td>add</td>\n",
       "      <td>support</td>\n",
       "      <td>new</td>\n",
       "      <td>com</td>\n",
       "      <td>error</td>\n",
       "      <td>run</td>\n",
       "      <td>server</td>\n",
       "      <td>version</td>\n",
       "      <td>data</td>\n",
       "    </tr>\n",
       "    <tr>\n",
       "      <th>Depend</th>\n",
       "      <td>29696</td>\n",
       "      <td>26015</td>\n",
       "      <td>9007</td>\n",
       "      <td>7937</td>\n",
       "      <td>5125</td>\n",
       "      <td>4811</td>\n",
       "      <td>4772</td>\n",
       "      <td>4737</td>\n",
       "      <td>4605</td>\n",
       "      <td>4605</td>\n",
       "      <td>4551</td>\n",
       "      <td>4436</td>\n",
       "      <td>4275</td>\n",
       "      <td>4257</td>\n",
       "      <td>4144</td>\n",
       "      <td>3703</td>\n",
       "      <td>3339</td>\n",
       "      <td>3259</td>\n",
       "      <td>3226</td>\n",
       "    </tr>\n",
       "    <tr>\n",
       "      <th>Block</th>\n",
       "      <td>org</td>\n",
       "      <td>apache</td>\n",
       "      <td>file</td>\n",
       "      <td>method</td>\n",
       "      <td>class</td>\n",
       "      <td>code</td>\n",
       "      <td>run</td>\n",
       "      <td>hadoop</td>\n",
       "      <td>test</td>\n",
       "      <td>thread</td>\n",
       "      <td>10</td>\n",
       "      <td>com</td>\n",
       "      <td>lang</td>\n",
       "      <td>error</td>\n",
       "      <td>server</td>\n",
       "      <td>support</td>\n",
       "      <td>use</td>\n",
       "      <td>data</td>\n",
       "      <td>api</td>\n",
       "    </tr>\n",
       "    <tr>\n",
       "      <th>Block</th>\n",
       "      <td>61892</td>\n",
       "      <td>40187</td>\n",
       "      <td>20733</td>\n",
       "      <td>17910</td>\n",
       "      <td>16933</td>\n",
       "      <td>10346</td>\n",
       "      <td>10140</td>\n",
       "      <td>9455</td>\n",
       "      <td>9091</td>\n",
       "      <td>8229</td>\n",
       "      <td>6577</td>\n",
       "      <td>6459</td>\n",
       "      <td>6305</td>\n",
       "      <td>5920</td>\n",
       "      <td>5288</td>\n",
       "      <td>5287</td>\n",
       "      <td>5202</td>\n",
       "      <td>5086</td>\n",
       "      <td>5038</td>\n",
       "    </tr>\n",
       "    <tr>\n",
       "      <th>Fix</th>\n",
       "      <td>org</td>\n",
       "      <td>apache</td>\n",
       "      <td>10</td>\n",
       "      <td>run</td>\n",
       "      <td>com</td>\n",
       "      <td>thread</td>\n",
       "      <td>code</td>\n",
       "      <td>build</td>\n",
       "      <td>hadoop</td>\n",
       "      <td>tests</td>\n",
       "      <td>lang</td>\n",
       "      <td>server</td>\n",
       "      <td>method</td>\n",
       "      <td>error</td>\n",
       "      <td>data</td>\n",
       "      <td>test</td>\n",
       "      <td>https</td>\n",
       "      <td>client</td>\n",
       "      <td>http</td>\n",
       "    </tr>\n",
       "    <tr>\n",
       "      <th>Fix</th>\n",
       "      <td>12129</td>\n",
       "      <td>7867</td>\n",
       "      <td>4202</td>\n",
       "      <td>1827</td>\n",
       "      <td>1791</td>\n",
       "      <td>1782</td>\n",
       "      <td>1514</td>\n",
       "      <td>1447</td>\n",
       "      <td>1402</td>\n",
       "      <td>1344</td>\n",
       "      <td>1250</td>\n",
       "      <td>1196</td>\n",
       "      <td>1154</td>\n",
       "      <td>1078</td>\n",
       "      <td>1038</td>\n",
       "      <td>989</td>\n",
       "      <td>798</td>\n",
       "      <td>701</td>\n",
       "      <td>619</td>\n",
       "    </tr>\n",
       "    <tr>\n",
       "      <th>Incorporate</th>\n",
       "      <td>org</td>\n",
       "      <td>apache</td>\n",
       "      <td>work</td>\n",
       "      <td>hadoop</td>\n",
       "      <td>code</td>\n",
       "      <td>test</td>\n",
       "      <td>com</td>\n",
       "      <td>run</td>\n",
       "      <td>error</td>\n",
       "      <td>use</td>\n",
       "      <td>server</td>\n",
       "      <td>thread</td>\n",
       "      <td>file</td>\n",
       "      <td>new</td>\n",
       "      <td>data</td>\n",
       "      <td>lang</td>\n",
       "      <td>add</td>\n",
       "      <td>support</td>\n",
       "      <td>10</td>\n",
       "    </tr>\n",
       "    <tr>\n",
       "      <th>Incorporate</th>\n",
       "      <td>24757</td>\n",
       "      <td>22496</td>\n",
       "      <td>10441</td>\n",
       "      <td>8045</td>\n",
       "      <td>6797</td>\n",
       "      <td>4071</td>\n",
       "      <td>3993</td>\n",
       "      <td>3934</td>\n",
       "      <td>3842</td>\n",
       "      <td>3737</td>\n",
       "      <td>3479</td>\n",
       "      <td>3415</td>\n",
       "      <td>3344</td>\n",
       "      <td>3339</td>\n",
       "      <td>3158</td>\n",
       "      <td>2980</td>\n",
       "      <td>2877</td>\n",
       "      <td>2819</td>\n",
       "      <td>2751</td>\n",
       "    </tr>\n",
       "    <tr>\n",
       "      <th>Clone</th>\n",
       "      <td>org</td>\n",
       "      <td>apache</td>\n",
       "      <td>file</td>\n",
       "      <td>class</td>\n",
       "      <td>method</td>\n",
       "      <td>code</td>\n",
       "      <td>com</td>\n",
       "      <td>http</td>\n",
       "      <td>error</td>\n",
       "      <td>type</td>\n",
       "      <td>run</td>\n",
       "      <td>https</td>\n",
       "      <td>server</td>\n",
       "      <td>hadoop</td>\n",
       "      <td>api</td>\n",
       "      <td>test</td>\n",
       "      <td>string</td>\n",
       "      <td>lang</td>\n",
       "      <td>new</td>\n",
       "    </tr>\n",
       "    <tr>\n",
       "      <th>Clone</th>\n",
       "      <td>21268</td>\n",
       "      <td>15119</td>\n",
       "      <td>6735</td>\n",
       "      <td>5070</td>\n",
       "      <td>5036</td>\n",
       "      <td>4019</td>\n",
       "      <td>3868</td>\n",
       "      <td>3149</td>\n",
       "      <td>3121</td>\n",
       "      <td>2850</td>\n",
       "      <td>2731</td>\n",
       "      <td>2493</td>\n",
       "      <td>2483</td>\n",
       "      <td>2300</td>\n",
       "      <td>2105</td>\n",
       "      <td>1984</td>\n",
       "      <td>1963</td>\n",
       "      <td>1889</td>\n",
       "      <td>1830</td>\n",
       "    </tr>\n",
       "    <tr>\n",
       "      <th>Subtask</th>\n",
       "      <td>java</td>\n",
       "      <td>apache</td>\n",
       "      <td>version</td>\n",
       "      <td>hadoop</td>\n",
       "      <td>code</td>\n",
       "      <td>https</td>\n",
       "      <td>com</td>\n",
       "      <td>10</td>\n",
       "      <td>test</td>\n",
       "      <td>add</td>\n",
       "      <td>current</td>\n",
       "      <td>support</td>\n",
       "      <td>run</td>\n",
       "      <td>server</td>\n",
       "      <td>use</td>\n",
       "      <td>file</td>\n",
       "      <td>new</td>\n",
       "      <td>api</td>\n",
       "      <td>data</td>\n",
       "    </tr>\n",
       "    <tr>\n",
       "      <th>Subtask</th>\n",
       "      <td>121280</td>\n",
       "      <td>110250</td>\n",
       "      <td>37160</td>\n",
       "      <td>32213</td>\n",
       "      <td>31436</td>\n",
       "      <td>28621</td>\n",
       "      <td>24129</td>\n",
       "      <td>22661</td>\n",
       "      <td>21961</td>\n",
       "      <td>21526</td>\n",
       "      <td>19727</td>\n",
       "      <td>18782</td>\n",
       "      <td>18592</td>\n",
       "      <td>18491</td>\n",
       "      <td>16346</td>\n",
       "      <td>16058</td>\n",
       "      <td>15940</td>\n",
       "      <td>15478</td>\n",
       "      <td>15153</td>\n",
       "    </tr>\n",
       "    <tr>\n",
       "      <th>Parent-Child</th>\n",
       "      <td>org</td>\n",
       "      <td>apache</td>\n",
       "      <td>code</td>\n",
       "      <td>table</td>\n",
       "      <td>type</td>\n",
       "      <td>https</td>\n",
       "      <td>hadoop</td>\n",
       "      <td>add</td>\n",
       "      <td>support</td>\n",
       "      <td>data</td>\n",
       "      <td>test</td>\n",
       "      <td>error</td>\n",
       "      <td>com</td>\n",
       "      <td>use</td>\n",
       "      <td>run</td>\n",
       "      <td>tests</td>\n",
       "      <td>new</td>\n",
       "      <td>string</td>\n",
       "      <td>time</td>\n",
       "    </tr>\n",
       "    <tr>\n",
       "      <th>Parent-Child</th>\n",
       "      <td>3969</td>\n",
       "      <td>3932</td>\n",
       "      <td>1245</td>\n",
       "      <td>1109</td>\n",
       "      <td>1031</td>\n",
       "      <td>931</td>\n",
       "      <td>931</td>\n",
       "      <td>843</td>\n",
       "      <td>826</td>\n",
       "      <td>692</td>\n",
       "      <td>665</td>\n",
       "      <td>627</td>\n",
       "      <td>625</td>\n",
       "      <td>617</td>\n",
       "      <td>566</td>\n",
       "      <td>563</td>\n",
       "      <td>549</td>\n",
       "      <td>542</td>\n",
       "      <td>538</td>\n",
       "    </tr>\n",
       "    <tr>\n",
       "      <th>Require</th>\n",
       "      <td>org</td>\n",
       "      <td>apache</td>\n",
       "      <td>hadoop</td>\n",
       "      <td>code</td>\n",
       "      <td>com</td>\n",
       "      <td>new</td>\n",
       "      <td>add</td>\n",
       "      <td>test</td>\n",
       "      <td>use</td>\n",
       "      <td>support</td>\n",
       "      <td>api</td>\n",
       "      <td>https</td>\n",
       "      <td>run</td>\n",
       "      <td>server</td>\n",
       "      <td>file</td>\n",
       "      <td>data</td>\n",
       "      <td>table</td>\n",
       "      <td>client</td>\n",
       "      <td>error</td>\n",
       "    </tr>\n",
       "    <tr>\n",
       "      <th>Require</th>\n",
       "      <td>7729</td>\n",
       "      <td>7469</td>\n",
       "      <td>2906</td>\n",
       "      <td>2255</td>\n",
       "      <td>2158</td>\n",
       "      <td>1483</td>\n",
       "      <td>1444</td>\n",
       "      <td>1381</td>\n",
       "      <td>1346</td>\n",
       "      <td>1323</td>\n",
       "      <td>1227</td>\n",
       "      <td>1178</td>\n",
       "      <td>1157</td>\n",
       "      <td>1140</td>\n",
       "      <td>1113</td>\n",
       "      <td>1056</td>\n",
       "      <td>1008</td>\n",
       "      <td>928</td>\n",
       "      <td>877</td>\n",
       "    </tr>\n",
       "    <tr>\n",
       "      <th>Cause</th>\n",
       "      <td>org</td>\n",
       "      <td>apache</td>\n",
       "      <td>code</td>\n",
       "      <td>hadoop</td>\n",
       "      <td>run</td>\n",
       "      <td>error</td>\n",
       "      <td>test</td>\n",
       "      <td>server</td>\n",
       "      <td>thread</td>\n",
       "      <td>file</td>\n",
       "      <td>https</td>\n",
       "      <td>com</td>\n",
       "      <td>lang</td>\n",
       "      <td>method</td>\n",
       "      <td>build</td>\n",
       "      <td>10</td>\n",
       "      <td>class</td>\n",
       "      <td>failed</td>\n",
       "      <td>main</td>\n",
       "    </tr>\n",
       "    <tr>\n",
       "      <th>Cause</th>\n",
       "      <td>23308</td>\n",
       "      <td>19781</td>\n",
       "      <td>5000</td>\n",
       "      <td>4806</td>\n",
       "      <td>3445</td>\n",
       "      <td>3269</td>\n",
       "      <td>3110</td>\n",
       "      <td>2897</td>\n",
       "      <td>2794</td>\n",
       "      <td>2744</td>\n",
       "      <td>2577</td>\n",
       "      <td>2519</td>\n",
       "      <td>2483</td>\n",
       "      <td>2252</td>\n",
       "      <td>2114</td>\n",
       "      <td>2035</td>\n",
       "      <td>1753</td>\n",
       "      <td>1626</td>\n",
       "      <td>1582</td>\n",
       "    </tr>\n",
       "    <tr>\n",
       "      <th>Non-Link</th>\n",
       "      <td>org</td>\n",
       "      <td>apache</td>\n",
       "      <td>code</td>\n",
       "      <td>10</td>\n",
       "      <td>com</td>\n",
       "      <td>file</td>\n",
       "      <td>hadoop</td>\n",
       "      <td>run</td>\n",
       "      <td>error</td>\n",
       "      <td>thread</td>\n",
       "      <td>method</td>\n",
       "      <td>class</td>\n",
       "      <td>test</td>\n",
       "      <td>http</td>\n",
       "      <td>support</td>\n",
       "      <td>server</td>\n",
       "      <td>lang</td>\n",
       "      <td>https</td>\n",
       "      <td>data</td>\n",
       "    </tr>\n",
       "    <tr>\n",
       "      <th>Non-Link</th>\n",
       "      <td>63352</td>\n",
       "      <td>44468</td>\n",
       "      <td>11758</td>\n",
       "      <td>11225</td>\n",
       "      <td>11216</td>\n",
       "      <td>10688</td>\n",
       "      <td>9411</td>\n",
       "      <td>9269</td>\n",
       "      <td>8362</td>\n",
       "      <td>8301</td>\n",
       "      <td>7859</td>\n",
       "      <td>7216</td>\n",
       "      <td>7094</td>\n",
       "      <td>6742</td>\n",
       "      <td>6531</td>\n",
       "      <td>6427</td>\n",
       "      <td>5988</td>\n",
       "      <td>5836</td>\n",
       "      <td>5487</td>\n",
       "    </tr>\n",
       "    <tr>\n",
       "      <th>Epic</th>\n",
       "      <td>org</td>\n",
       "      <td>java</td>\n",
       "      <td>apache</td>\n",
       "      <td>code</td>\n",
       "      <td>update</td>\n",
       "      <td>test</td>\n",
       "      <td>http</td>\n",
       "      <td>api</td>\n",
       "      <td>add</td>\n",
       "      <td>user</td>\n",
       "      <td>new</td>\n",
       "      <td>run</td>\n",
       "      <td>default</td>\n",
       "      <td>server</td>\n",
       "      <td>error</td>\n",
       "      <td>support</td>\n",
       "      <td>com</td>\n",
       "      <td>file</td>\n",
       "      <td>https</td>\n",
       "    </tr>\n",
       "    <tr>\n",
       "      <th>Epic</th>\n",
       "      <td>10322</td>\n",
       "      <td>9728</td>\n",
       "      <td>9568</td>\n",
       "      <td>4416</td>\n",
       "      <td>3898</td>\n",
       "      <td>3244</td>\n",
       "      <td>3127</td>\n",
       "      <td>3109</td>\n",
       "      <td>3046</td>\n",
       "      <td>2980</td>\n",
       "      <td>2908</td>\n",
       "      <td>2748</td>\n",
       "      <td>2740</td>\n",
       "      <td>2639</td>\n",
       "      <td>2451</td>\n",
       "      <td>2411</td>\n",
       "      <td>2373</td>\n",
       "      <td>2349</td>\n",
       "      <td>2339</td>\n",
       "    </tr>\n",
       "    <tr>\n",
       "      <th>Bonfire Testing</th>\n",
       "      <td>build</td>\n",
       "      <td>apache</td>\n",
       "      <td>org</td>\n",
       "      <td>java</td>\n",
       "      <td>thread</td>\n",
       "      <td>server</td>\n",
       "      <td>code</td>\n",
       "      <td>file</td>\n",
       "      <td>error</td>\n",
       "      <td>run</td>\n",
       "      <td>test</td>\n",
       "      <td>main</td>\n",
       "      <td>https</td>\n",
       "      <td>type</td>\n",
       "      <td>10</td>\n",
       "      <td>table</td>\n",
       "      <td>use</td>\n",
       "      <td>class</td>\n",
       "      <td>hadoop</td>\n",
       "    </tr>\n",
       "    <tr>\n",
       "      <th>Bonfire Testing</th>\n",
       "      <td>665</td>\n",
       "      <td>631</td>\n",
       "      <td>570</td>\n",
       "      <td>513</td>\n",
       "      <td>259</td>\n",
       "      <td>164</td>\n",
       "      <td>140</td>\n",
       "      <td>131</td>\n",
       "      <td>114</td>\n",
       "      <td>107</td>\n",
       "      <td>90</td>\n",
       "      <td>90</td>\n",
       "      <td>82</td>\n",
       "      <td>80</td>\n",
       "      <td>80</td>\n",
       "      <td>70</td>\n",
       "      <td>69</td>\n",
       "      <td>66</td>\n",
       "      <td>65</td>\n",
       "    </tr>\n",
       "    <tr>\n",
       "      <th>Split</th>\n",
       "      <td>type</td>\n",
       "      <td>java</td>\n",
       "      <td>org</td>\n",
       "      <td>value</td>\n",
       "      <td>apache</td>\n",
       "      <td>support</td>\n",
       "      <td>code</td>\n",
       "      <td>add</td>\n",
       "      <td>10</td>\n",
       "      <td>https</td>\n",
       "      <td>test</td>\n",
       "      <td>using</td>\n",
       "      <td>need</td>\n",
       "      <td>use</td>\n",
       "      <td>update</td>\n",
       "      <td>thread</td>\n",
       "      <td>list</td>\n",
       "      <td>default</td>\n",
       "      <td>like</td>\n",
       "    </tr>\n",
       "    <tr>\n",
       "      <th>Split</th>\n",
       "      <td>214</td>\n",
       "      <td>135</td>\n",
       "      <td>96</td>\n",
       "      <td>57</td>\n",
       "      <td>49</td>\n",
       "      <td>40</td>\n",
       "      <td>27</td>\n",
       "      <td>27</td>\n",
       "      <td>27</td>\n",
       "      <td>25</td>\n",
       "      <td>25</td>\n",
       "      <td>22</td>\n",
       "      <td>19</td>\n",
       "      <td>18</td>\n",
       "      <td>18</td>\n",
       "      <td>16</td>\n",
       "      <td>16</td>\n",
       "      <td>16</td>\n",
       "      <td>14</td>\n",
       "    </tr>\n",
       "  </tbody>\n",
       "</table>\n",
       "</div>"
      ],
      "text/plain": [
       "                     1       2        3       4       5        6       7   \\\n",
       "mappedtype                                                                  \n",
       "Relate              org  apache   hadoop    code     run      com   error   \n",
       "Relate           305505  249685    70016   66091   46717    41846   41825   \n",
       "Supercede           org  apache     code  hadoop   error      com   build   \n",
       "Supercede         10589    8727     3217    2222    2105     2005    1926   \n",
       "Breaks              org  apache   hadoop    code  server    error     run   \n",
       "Breaks            25318   22108    11795    5596    4189     3963    3913   \n",
       "Duplicate           org  apache     file   class  method      com     run   \n",
       "Duplicate        324945  166316   146780  146709  124780    52260   44223   \n",
       "Depend              org  apache   hadoop    code    file     test  thread   \n",
       "Depend            29696   26015     9007    7937    5125     4811    4772   \n",
       "Block               org  apache     file  method   class     code     run   \n",
       "Block             61892   40187    20733   17910   16933    10346   10140   \n",
       "Fix                 org  apache       10     run     com   thread    code   \n",
       "Fix               12129    7867     4202    1827    1791     1782    1514   \n",
       "Incorporate         org  apache     work  hadoop    code     test     com   \n",
       "Incorporate       24757   22496    10441    8045    6797     4071    3993   \n",
       "Clone               org  apache     file   class  method     code     com   \n",
       "Clone             21268   15119     6735    5070    5036     4019    3868   \n",
       "Subtask            java  apache  version  hadoop    code    https     com   \n",
       "Subtask          121280  110250    37160   32213   31436    28621   24129   \n",
       "Parent-Child        org  apache     code   table    type    https  hadoop   \n",
       "Parent-Child       3969    3932     1245    1109    1031      931     931   \n",
       "Require             org  apache   hadoop    code     com      new     add   \n",
       "Require            7729    7469     2906    2255    2158     1483    1444   \n",
       "Cause               org  apache     code  hadoop     run    error    test   \n",
       "Cause             23308   19781     5000    4806    3445     3269    3110   \n",
       "Non-Link            org  apache     code      10     com     file  hadoop   \n",
       "Non-Link          63352   44468    11758   11225   11216    10688    9411   \n",
       "Epic                org    java   apache    code  update     test    http   \n",
       "Epic              10322    9728     9568    4416    3898     3244    3127   \n",
       "Bonfire Testing   build  apache      org    java  thread   server    code   \n",
       "Bonfire Testing     665     631      570     513     259      164     140   \n",
       "Split              type    java      org   value  apache  support    code   \n",
       "Split               214     135       96      57      49       40      27   \n",
       "\n",
       "                     8        9        10       11       12       13      14  \\\n",
       "mappedtype                                                                     \n",
       "Relate               10   server     test     file   thread    class    lang   \n",
       "Relate            40686    40494    39346    36743    33678    31560   31310   \n",
       "Supercede           run     file      use   thread    tests    https    test   \n",
       "Supercede          1795     1701     1558     1544     1480     1407    1403   \n",
       "Breaks             test    class     lang     file      com   thread      10   \n",
       "Breaks             3688     3597     3101     2966     2895     2730    2394   \n",
       "Duplicate          code   hadoop    error       10     lang     test  thread   \n",
       "Duplicate         34820    34171    30179    29255    29051    25641   25172   \n",
       "Depend             http      use       10      add  support      new     com   \n",
       "Depend             4737     4605     4605     4551     4436     4275    4257   \n",
       "Block            hadoop     test   thread       10      com     lang   error   \n",
       "Block              9455     9091     8229     6577     6459     6305    5920   \n",
       "Fix               build   hadoop    tests     lang   server   method   error   \n",
       "Fix                1447     1402     1344     1250     1196     1154    1078   \n",
       "Incorporate         run    error      use   server   thread     file     new   \n",
       "Incorporate        3934     3842     3737     3479     3415     3344    3339   \n",
       "Clone              http    error     type      run    https   server  hadoop   \n",
       "Clone              3149     3121     2850     2731     2493     2483    2300   \n",
       "Subtask              10     test      add  current  support      run  server   \n",
       "Subtask           22661    21961    21526    19727    18782    18592   18491   \n",
       "Parent-Child        add  support     data     test    error      com     use   \n",
       "Parent-Child        843      826      692      665      627      625     617   \n",
       "Require            test      use  support      api    https      run  server   \n",
       "Require            1381     1346     1323     1227     1178     1157    1140   \n",
       "Cause            server   thread     file    https      com     lang  method   \n",
       "Cause              2897     2794     2744     2577     2519     2483    2252   \n",
       "Non-Link            run    error   thread   method    class     test    http   \n",
       "Non-Link           9269     8362     8301     7859     7216     7094    6742   \n",
       "Epic                api      add     user      new      run  default  server   \n",
       "Epic               3109     3046     2980     2908     2748     2740    2639   \n",
       "Bonfire Testing    file    error      run     test     main    https    type   \n",
       "Bonfire Testing     131      114      107       90       90       82      80   \n",
       "Split               add       10    https     test    using     need     use   \n",
       "Split                27       27       25       25       22       19      18   \n",
       "\n",
       "                      15       16       17       18      19  \n",
       "mappedtype                                                   \n",
       "Relate              http   method   client      new    data  \n",
       "Relate             28114    27300    26032    25437   25414  \n",
       "Supercede            log    files  version     data  server  \n",
       "Supercede           1396     1394     1391     1349    1346  \n",
       "Breaks            client   method     main     data  string  \n",
       "Breaks              2369     2170     2104     2060    1969  \n",
       "Duplicate         server      api     data     http    main  \n",
       "Duplicate          24468    21194    20060    18446   16337  \n",
       "Depend             error      run   server  version    data  \n",
       "Depend              4144     3703     3339     3259    3226  \n",
       "Block             server  support      use     data     api  \n",
       "Block               5288     5287     5202     5086    5038  \n",
       "Fix                 data     test    https   client    http  \n",
       "Fix                 1038      989      798      701     619  \n",
       "Incorporate         data     lang      add  support      10  \n",
       "Incorporate         3158     2980     2877     2819    2751  \n",
       "Clone                api     test   string     lang     new  \n",
       "Clone               2105     1984     1963     1889    1830  \n",
       "Subtask              use     file      new      api    data  \n",
       "Subtask            16346    16058    15940    15478   15153  \n",
       "Parent-Child         run    tests      new   string    time  \n",
       "Parent-Child         566      563      549      542     538  \n",
       "Require             file     data    table   client   error  \n",
       "Require             1113     1056     1008      928     877  \n",
       "Cause              build       10    class   failed    main  \n",
       "Cause               2114     2035     1753     1626    1582  \n",
       "Non-Link         support   server     lang    https    data  \n",
       "Non-Link            6531     6427     5988     5836    5487  \n",
       "Epic               error  support      com     file   https  \n",
       "Epic                2451     2411     2373     2349    2339  \n",
       "Bonfire Testing       10    table      use    class  hadoop  \n",
       "Bonfire Testing       80       70       69       66      65  \n",
       "Split             update   thread     list  default    like  \n",
       "Split                 18       16       16       16      14  "
      ]
     },
     "execution_count": 222,
     "metadata": {},
     "output_type": "execute_result"
    }
   ],
   "source": [
    "count_df.loc['Apache']"
   ]
  },
  {
   "cell_type": "code",
   "execution_count": 10,
   "id": "8424043d",
   "metadata": {},
   "outputs": [],
   "source": [
    "def get_w2v_sim(x, y):\n",
    "    cosim = cosine_similarity(x, y).flatten()\n",
    "    return float(cosim)"
   ]
  },
  {
   "cell_type": "code",
   "execution_count": 12,
   "id": "c38ddbea",
   "metadata": {},
   "outputs": [
    {
     "name": "stdout",
     "output_type": "stream",
     "text": [
      "JFROG\n"
     ]
    },
    {
     "name": "stderr",
     "output_type": "stream",
     "text": [
      "<ipython-input-12-353dba77a508>:13: SettingWithCopyWarning: \n",
      "A value is trying to be set on a copy of a slice from a DataFrame.\n",
      "Try using .loc[row_indexer,col_indexer] = value instead\n",
      "\n",
      "See the caveats in the documentation: https://pandas.pydata.org/pandas-docs/stable/user_guide/indexing.html#returning-a-view-versus-a-copy\n",
      "  linked_issue_df['text'] = linked_issue_df['title']+ \" \" + linked_issue_df['description']\n",
      "100%|██████████| 3522/3522 [00:03<00:00, 1169.70it/s]\n"
     ]
    }
   ],
   "source": [
    "link_text_w2v_dict = {}\n",
    "\n",
    "for s in ['JFrog']:\n",
    "    print(s.upper())\n",
    "    issue_df, link_df = load_data(s)\n",
    "    \n",
    "    text_data = np.load('experiments/w2v/text_data_'+s.lower()+'.npy')\n",
    "    issue_df['text_emb']=list(text_data)\n",
    "    \n",
    "    linked_issues = set(link_df['issue_id_1']).union(set(link_df['issue_id_2']))\n",
    "    linked_issue_df = issue_df[issue_df['issue_id'].isin(linked_issues)]\n",
    "    \n",
    "    linked_issue_df['text'] = linked_issue_df['title']+ \" \" + linked_issue_df['description']\n",
    "       \n",
    "    issue_text_data = linked_issue_df[['text', 'text_emb', 'issue_id']]\n",
    "    \n",
    "    link_text_df = link_df.merge(issue_text_data, left_on='issue_id_1', right_on='issue_id')\n",
    "    link_text_df = link_text_df.merge(issue_text_data, left_on='issue_id_2', right_on='issue_id', suffixes=('_1', '_2'))\n",
    "    \n",
    "    cosims_w2v = []\n",
    "\n",
    "    for i in tqdm(link_text_df.index):\n",
    "        cosims_w2v.append(get_w2v_sim([link_text_df['text_emb_1'].iloc[i]], [link_text_df['text_emb_2'].iloc[i]]))\n",
    "\n",
    "    link_text_df['cosim_w2v'] = cosims_w2v\n",
    "                  \n",
    "    link_text_w2v_dict[s] = link_text_df "
   ]
  },
  {
   "cell_type": "code",
   "execution_count": 21,
   "id": "316143bc",
   "metadata": {},
   "outputs": [
    {
     "name": "stdout",
     "output_type": "stream",
     "text": [
      "Creating embeddings.\n",
      "Found 1917494 word vectors.\n"
     ]
    }
   ],
   "source": [
    "print(\"Creating embeddings.\")\n",
    "embeddings_index = {}\n",
    "with open('../../../LYNX/lynx/jupyter/class_clara/glove.42B/glove.42B.300d.txt') as f:\n",
    "    for line in f:\n",
    "        word, coefs = line.split(maxsplit=1)\n",
    "        coefs = np.fromstring(coefs, 'f', sep=' ')\n",
    "        embeddings_index[word] = coefs\n",
    "\n",
    "print('Found %s word vectors.' % len(embeddings_index))\n",
    "\n",
    "unknown_words =[]"
   ]
  },
  {
   "cell_type": "code",
   "execution_count": 6,
   "id": "f6e3c3be",
   "metadata": {},
   "outputs": [
    {
     "name": "stderr",
     "output_type": "stream",
     "text": [
      "2022-02-04 10:41:53 INFO: Loading these models for language: en (English):\n",
      "========================\n",
      "| Processor | Package  |\n",
      "------------------------\n",
      "| tokenize  | combined |\n",
      "========================\n",
      "\n",
      "2022-02-04 10:41:53 INFO: Use device: gpu\n",
      "2022-02-04 10:41:53 INFO: Loading: tokenize\n",
      "2022-02-04 10:41:56 INFO: Done loading processors!\n"
     ]
    }
   ],
   "source": [
    "import stanza\n",
    "from tensorflow.keras.preprocessing.text import Tokenizer\n",
    "\n",
    "# stanza.download(lang ='en')\n",
    "\n",
    "nlp = stanza.Pipeline(lang='en', processors='tokenize')"
   ]
  },
  {
   "cell_type": "code",
   "execution_count": 17,
   "id": "b99831fd",
   "metadata": {},
   "outputs": [],
   "source": [
    "\n",
    "from tensorflow.keras.preprocessing.sequence import pad_sequences"
   ]
  },
  {
   "cell_type": "code",
   "execution_count": 23,
   "id": "887e23b2",
   "metadata": {},
   "outputs": [
    {
     "name": "stderr",
     "output_type": "stream",
     "text": [
      " 21%|██        | 737/3522 [00:07<00:26, 106.74it/s]"
     ]
    },
    {
     "name": "stdout",
     "output_type": "stream",
     "text": [
      "718\n"
     ]
    },
    {
     "name": "stderr",
     "output_type": "stream",
     "text": [
      " 24%|██▎       | 835/3522 [00:08<00:31, 84.53it/s] "
     ]
    },
    {
     "name": "stdout",
     "output_type": "stream",
     "text": [
      "835\n"
     ]
    },
    {
     "name": "stderr",
     "output_type": "stream",
     "text": [
      "\r",
      " 24%|██▍       | 844/3522 [00:09<00:57, 46.34it/s]"
     ]
    },
    {
     "name": "stdout",
     "output_type": "stream",
     "text": [
      "837\n",
      "842\n",
      "842\n",
      "843\n",
      "844\n",
      "844\n"
     ]
    },
    {
     "name": "stderr",
     "output_type": "stream",
     "text": [
      " 24%|██▍       | 859/3522 [00:09<00:51, 51.87it/s]"
     ]
    },
    {
     "name": "stdout",
     "output_type": "stream",
     "text": [
      "851\n",
      "853\n",
      "854\n",
      "854\n",
      "855\n",
      "856\n",
      "856\n",
      "857\n",
      "857\n",
      "858\n",
      "859\n",
      "859\n"
     ]
    },
    {
     "name": "stderr",
     "output_type": "stream",
     "text": [
      " 25%|██▍       | 877/3522 [00:09<00:45, 58.73it/s]"
     ]
    },
    {
     "name": "stdout",
     "output_type": "stream",
     "text": [
      "869\n",
      "870\n",
      "871\n",
      "872\n",
      "873\n",
      "874\n",
      "874\n",
      "875\n",
      "875\n",
      "876\n"
     ]
    },
    {
     "name": "stderr",
     "output_type": "stream",
     "text": [
      "\r",
      " 25%|██▌       | 885/3522 [00:09<00:55, 47.32it/s]"
     ]
    },
    {
     "name": "stdout",
     "output_type": "stream",
     "text": [
      "883\n",
      "884\n",
      "885\n",
      "886\n"
     ]
    },
    {
     "name": "stderr",
     "output_type": "stream",
     "text": [
      " 26%|██▌       | 903/3522 [00:10<01:11, 36.45it/s]"
     ]
    },
    {
     "name": "stdout",
     "output_type": "stream",
     "text": [
      "896\n",
      "897\n",
      "898\n",
      "899\n",
      "900\n",
      "901\n",
      "902\n",
      "903\n",
      "904\n",
      "905\n"
     ]
    },
    {
     "name": "stderr",
     "output_type": "stream",
     "text": [
      " 26%|██▌       | 924/3522 [00:11<01:39, 26.12it/s]"
     ]
    },
    {
     "name": "stdout",
     "output_type": "stream",
     "text": [
      "910\n",
      "911\n",
      "912\n",
      "913\n",
      "913\n",
      "914\n",
      "915\n",
      "915\n",
      "916\n",
      "917\n",
      "917\n",
      "918\n",
      "918\n",
      "919\n",
      "920\n",
      "920\n",
      "921\n"
     ]
    },
    {
     "name": "stderr",
     "output_type": "stream",
     "text": [
      " 35%|███▍      | 1220/3522 [00:45<05:07,  7.48it/s]"
     ]
    },
    {
     "name": "stdout",
     "output_type": "stream",
     "text": [
      "1221\n"
     ]
    },
    {
     "name": "stderr",
     "output_type": "stream",
     "text": [
      " 38%|███▊      | 1346/3522 [00:58<03:21, 10.78it/s]"
     ]
    },
    {
     "name": "stdout",
     "output_type": "stream",
     "text": [
      "1344\n"
     ]
    },
    {
     "name": "stderr",
     "output_type": "stream",
     "text": [
      " 39%|███▉      | 1371/3522 [01:00<02:56, 12.21it/s]"
     ]
    },
    {
     "name": "stdout",
     "output_type": "stream",
     "text": [
      "1367\n",
      "1367\n"
     ]
    },
    {
     "name": "stderr",
     "output_type": "stream",
     "text": [
      " 39%|███▉      | 1378/3522 [01:01<02:53, 12.32it/s]"
     ]
    },
    {
     "name": "stdout",
     "output_type": "stream",
     "text": [
      "1373\n",
      "1374\n",
      "1375\n",
      "1375\n",
      "1376\n",
      "1376\n",
      "1377\n",
      "1377\n",
      "1378\n",
      "1378\n",
      "1379\n",
      "1380\n",
      "1381\n",
      "1382\n"
     ]
    },
    {
     "name": "stderr",
     "output_type": "stream",
     "text": [
      " 40%|███▉      | 1406/3522 [01:03<02:27, 14.37it/s]"
     ]
    },
    {
     "name": "stdout",
     "output_type": "stream",
     "text": [
      "1401\n"
     ]
    },
    {
     "name": "stderr",
     "output_type": "stream",
     "text": [
      " 43%|████▎     | 1497/3522 [01:11<01:17, 25.97it/s]"
     ]
    },
    {
     "name": "stdout",
     "output_type": "stream",
     "text": [
      "1494\n",
      "1496\n"
     ]
    },
    {
     "name": "stderr",
     "output_type": "stream",
     "text": [
      " 44%|████▍     | 1550/3522 [01:15<01:59, 16.47it/s]"
     ]
    },
    {
     "name": "stdout",
     "output_type": "stream",
     "text": [
      "1549\n"
     ]
    },
    {
     "name": "stderr",
     "output_type": "stream",
     "text": [
      " 45%|████▌     | 1585/3522 [01:20<01:32, 20.85it/s]"
     ]
    },
    {
     "name": "stdout",
     "output_type": "stream",
     "text": [
      "1582\n"
     ]
    },
    {
     "name": "stderr",
     "output_type": "stream",
     "text": [
      " 45%|████▌     | 1600/3522 [01:21<01:46, 18.02it/s]"
     ]
    },
    {
     "name": "stdout",
     "output_type": "stream",
     "text": [
      "1590\n",
      "1591\n",
      "1592\n",
      "1593\n",
      "1594\n",
      "1596\n",
      "1598\n"
     ]
    },
    {
     "name": "stderr",
     "output_type": "stream",
     "text": [
      " 46%|████▌     | 1618/3522 [01:21<01:09, 27.57it/s]"
     ]
    },
    {
     "name": "stdout",
     "output_type": "stream",
     "text": [
      "1611\n"
     ]
    },
    {
     "name": "stderr",
     "output_type": "stream",
     "text": [
      " 48%|████▊     | 1685/3522 [01:26<02:11, 13.99it/s]"
     ]
    },
    {
     "name": "stdout",
     "output_type": "stream",
     "text": [
      "1682\n"
     ]
    },
    {
     "name": "stderr",
     "output_type": "stream",
     "text": [
      " 48%|████▊     | 1697/3522 [01:28<04:50,  6.28it/s]"
     ]
    },
    {
     "name": "stdout",
     "output_type": "stream",
     "text": [
      "1697\n"
     ]
    },
    {
     "name": "stderr",
     "output_type": "stream",
     "text": [
      " 49%|████▊     | 1712/3522 [01:30<02:36, 11.60it/s]"
     ]
    },
    {
     "name": "stdout",
     "output_type": "stream",
     "text": [
      "1705\n"
     ]
    },
    {
     "name": "stderr",
     "output_type": "stream",
     "text": [
      " 49%|████▉     | 1737/3522 [01:31<01:34, 18.87it/s]"
     ]
    },
    {
     "name": "stdout",
     "output_type": "stream",
     "text": [
      "1736\n"
     ]
    },
    {
     "name": "stderr",
     "output_type": "stream",
     "text": [
      " 50%|█████     | 1776/3522 [01:35<04:57,  5.86it/s]"
     ]
    },
    {
     "name": "stdout",
     "output_type": "stream",
     "text": [
      "1777\n"
     ]
    },
    {
     "name": "stderr",
     "output_type": "stream",
     "text": [
      " 51%|█████     | 1795/3522 [01:37<02:12, 13.08it/s]"
     ]
    },
    {
     "name": "stdout",
     "output_type": "stream",
     "text": [
      "1791\n"
     ]
    },
    {
     "name": "stderr",
     "output_type": "stream",
     "text": [
      " 52%|█████▏    | 1836/3522 [01:40<01:59, 14.07it/s]"
     ]
    },
    {
     "name": "stdout",
     "output_type": "stream",
     "text": [
      "1831\n",
      "1834\n"
     ]
    },
    {
     "name": "stderr",
     "output_type": "stream",
     "text": [
      " 53%|█████▎    | 1881/3522 [01:43<01:48, 15.09it/s]"
     ]
    },
    {
     "name": "stdout",
     "output_type": "stream",
     "text": [
      "1879\n"
     ]
    },
    {
     "name": "stderr",
     "output_type": "stream",
     "text": [
      " 54%|█████▍    | 1906/3522 [01:44<01:14, 21.70it/s]"
     ]
    },
    {
     "name": "stdout",
     "output_type": "stream",
     "text": [
      "1904\n"
     ]
    },
    {
     "name": "stderr",
     "output_type": "stream",
     "text": [
      " 54%|█████▍    | 1917/3522 [01:45<01:50, 14.51it/s]"
     ]
    },
    {
     "name": "stdout",
     "output_type": "stream",
     "text": [
      "1913\n"
     ]
    },
    {
     "name": "stderr",
     "output_type": "stream",
     "text": [
      " 55%|█████▌    | 1947/3522 [01:46<00:44, 35.53it/s]"
     ]
    },
    {
     "name": "stdout",
     "output_type": "stream",
     "text": [
      "1937\n",
      "1938\n",
      "1939\n",
      "1941\n",
      "1942\n",
      "1944\n",
      "1945\n",
      "1946\n"
     ]
    },
    {
     "name": "stderr",
     "output_type": "stream",
     "text": [
      " 56%|█████▌    | 1969/3522 [01:53<04:22,  5.91it/s]"
     ]
    },
    {
     "name": "stdout",
     "output_type": "stream",
     "text": [
      "1971\n"
     ]
    },
    {
     "name": "stderr",
     "output_type": "stream",
     "text": [
      " 56%|█████▌    | 1977/3522 [01:54<03:43,  6.92it/s]"
     ]
    },
    {
     "name": "stdout",
     "output_type": "stream",
     "text": [
      "1974\n"
     ]
    },
    {
     "name": "stderr",
     "output_type": "stream",
     "text": [
      " 58%|█████▊    | 2035/3522 [01:57<01:37, 15.18it/s]"
     ]
    },
    {
     "name": "stdout",
     "output_type": "stream",
     "text": [
      "2033\n"
     ]
    },
    {
     "name": "stderr",
     "output_type": "stream",
     "text": [
      " 58%|█████▊    | 2054/3522 [01:58<01:05, 22.55it/s]"
     ]
    },
    {
     "name": "stdout",
     "output_type": "stream",
     "text": [
      "2048\n"
     ]
    },
    {
     "name": "stderr",
     "output_type": "stream",
     "text": [
      " 59%|█████▉    | 2081/3522 [01:59<00:46, 30.94it/s]"
     ]
    },
    {
     "name": "stdout",
     "output_type": "stream",
     "text": [
      "2073\n",
      "2074\n",
      "2075\n"
     ]
    },
    {
     "name": "stderr",
     "output_type": "stream",
     "text": [
      " 60%|█████▉    | 2097/3522 [02:00<01:00, 23.48it/s]"
     ]
    },
    {
     "name": "stdout",
     "output_type": "stream",
     "text": [
      "2090\n",
      "2091\n",
      "2091\n",
      "2095\n",
      "2095\n"
     ]
    },
    {
     "name": "stderr",
     "output_type": "stream",
     "text": [
      " 60%|██████    | 2117/3522 [02:00<00:49, 28.15it/s]"
     ]
    },
    {
     "name": "stdout",
     "output_type": "stream",
     "text": [
      "2113\n",
      "2114\n"
     ]
    },
    {
     "name": "stderr",
     "output_type": "stream",
     "text": [
      " 60%|██████    | 2130/3522 [02:01<00:43, 32.30it/s]"
     ]
    },
    {
     "name": "stdout",
     "output_type": "stream",
     "text": [
      "2125\n"
     ]
    },
    {
     "name": "stderr",
     "output_type": "stream",
     "text": [
      " 61%|██████    | 2139/3522 [02:01<00:39, 34.96it/s]"
     ]
    },
    {
     "name": "stdout",
     "output_type": "stream",
     "text": [
      "2134\n"
     ]
    },
    {
     "name": "stderr",
     "output_type": "stream",
     "text": [
      " 61%|██████▏   | 2158/3522 [02:02<00:36, 37.73it/s]"
     ]
    },
    {
     "name": "stdout",
     "output_type": "stream",
     "text": [
      "2148\n",
      "2151\n",
      "2154\n"
     ]
    },
    {
     "name": "stderr",
     "output_type": "stream",
     "text": [
      " 62%|██████▏   | 2173/3522 [02:02<00:36, 37.25it/s]"
     ]
    },
    {
     "name": "stdout",
     "output_type": "stream",
     "text": [
      "2167\n",
      "2169\n",
      "2174\n",
      "2175\n"
     ]
    },
    {
     "name": "stderr",
     "output_type": "stream",
     "text": [
      "\r",
      " 62%|██████▏   | 2178/3522 [02:02<00:33, 40.22it/s]"
     ]
    },
    {
     "name": "stdout",
     "output_type": "stream",
     "text": [
      "2176\n",
      "2178\n"
     ]
    },
    {
     "name": "stderr",
     "output_type": "stream",
     "text": [
      " 62%|██████▏   | 2187/3522 [02:03<00:48, 27.71it/s]"
     ]
    },
    {
     "name": "stdout",
     "output_type": "stream",
     "text": [
      "2187\n",
      "2187\n",
      "2188\n"
     ]
    },
    {
     "name": "stderr",
     "output_type": "stream",
     "text": [
      " 62%|██████▏   | 2194/3522 [02:04<02:40,  8.26it/s]"
     ]
    },
    {
     "name": "stdout",
     "output_type": "stream",
     "text": [
      "2193\n",
      "2194\n",
      "2195\n"
     ]
    },
    {
     "name": "stderr",
     "output_type": "stream",
     "text": [
      " 63%|██████▎   | 2202/3522 [02:05<02:00, 11.00it/s]"
     ]
    },
    {
     "name": "stdout",
     "output_type": "stream",
     "text": [
      "2200\n",
      "2200\n"
     ]
    },
    {
     "name": "stderr",
     "output_type": "stream",
     "text": [
      " 63%|██████▎   | 2213/3522 [02:05<01:10, 18.64it/s]"
     ]
    },
    {
     "name": "stdout",
     "output_type": "stream",
     "text": [
      "2205\n",
      "2209\n",
      "2210\n",
      "2213\n"
     ]
    },
    {
     "name": "stderr",
     "output_type": "stream",
     "text": [
      " 63%|██████▎   | 2225/3522 [02:05<00:52, 24.49it/s]"
     ]
    },
    {
     "name": "stdout",
     "output_type": "stream",
     "text": [
      "2224\n"
     ]
    },
    {
     "name": "stderr",
     "output_type": "stream",
     "text": [
      " 63%|██████▎   | 2234/3522 [02:06<00:53, 23.93it/s]"
     ]
    },
    {
     "name": "stdout",
     "output_type": "stream",
     "text": [
      "2230\n"
     ]
    },
    {
     "name": "stderr",
     "output_type": "stream",
     "text": [
      "\r",
      " 64%|██████▎   | 2238/3522 [02:06<00:54, 23.37it/s]"
     ]
    },
    {
     "name": "stdout",
     "output_type": "stream",
     "text": [
      "2236\n",
      "2239\n",
      "2240\n"
     ]
    },
    {
     "name": "stderr",
     "output_type": "stream",
     "text": [
      " 64%|██████▍   | 2251/3522 [02:11<05:50,  3.63it/s]"
     ]
    },
    {
     "name": "stdout",
     "output_type": "stream",
     "text": [
      "2249\n"
     ]
    },
    {
     "name": "stderr",
     "output_type": "stream",
     "text": [
      "\r",
      " 64%|██████▍   | 2254/3522 [02:12<05:00,  4.22it/s]"
     ]
    },
    {
     "name": "stdout",
     "output_type": "stream",
     "text": [
      "2252\n",
      "2252\n",
      "2255\n",
      "2255\n"
     ]
    },
    {
     "name": "stderr",
     "output_type": "stream",
     "text": [
      " 64%|██████▍   | 2267/3522 [02:13<02:45,  7.60it/s]"
     ]
    },
    {
     "name": "stdout",
     "output_type": "stream",
     "text": [
      "2262\n",
      "2263\n",
      "2265\n",
      "2265\n",
      "2266\n"
     ]
    },
    {
     "name": "stderr",
     "output_type": "stream",
     "text": [
      " 66%|██████▌   | 2309/3522 [02:16<00:37, 32.71it/s]"
     ]
    },
    {
     "name": "stdout",
     "output_type": "stream",
     "text": [
      "2298\n",
      "2302\n",
      "2303\n",
      "2304\n",
      "2307\n"
     ]
    },
    {
     "name": "stderr",
     "output_type": "stream",
     "text": [
      " 66%|██████▌   | 2318/3522 [02:17<00:37, 32.50it/s]"
     ]
    },
    {
     "name": "stdout",
     "output_type": "stream",
     "text": [
      "2319\n"
     ]
    },
    {
     "name": "stderr",
     "output_type": "stream",
     "text": [
      " 66%|██████▌   | 2326/3522 [02:17<01:00, 19.75it/s]"
     ]
    },
    {
     "name": "stdout",
     "output_type": "stream",
     "text": [
      "2325\n",
      "2326\n",
      "2327\n",
      "2328\n",
      "2329\n",
      "2330\n"
     ]
    },
    {
     "name": "stderr",
     "output_type": "stream",
     "text": [
      " 66%|██████▋   | 2339/3522 [02:20<04:57,  3.98it/s]"
     ]
    },
    {
     "name": "stdout",
     "output_type": "stream",
     "text": [
      "2340\n",
      "2342\n"
     ]
    },
    {
     "name": "stderr",
     "output_type": "stream",
     "text": [
      " 67%|██████▋   | 2364/3522 [02:21<01:28, 13.12it/s]"
     ]
    },
    {
     "name": "stdout",
     "output_type": "stream",
     "text": [
      "2364\n",
      "2365\n",
      "2366\n",
      "2366\n",
      "2367\n"
     ]
    },
    {
     "name": "stderr",
     "output_type": "stream",
     "text": [
      "\r",
      " 67%|██████▋   | 2368/3522 [02:22<01:48, 10.62it/s]"
     ]
    },
    {
     "name": "stdout",
     "output_type": "stream",
     "text": [
      "2368\n",
      "2369\n"
     ]
    },
    {
     "name": "stderr",
     "output_type": "stream",
     "text": [
      "\r",
      " 67%|██████▋   | 2372/3522 [02:22<01:59,  9.62it/s]"
     ]
    },
    {
     "name": "stdout",
     "output_type": "stream",
     "text": [
      "2371\n"
     ]
    },
    {
     "name": "stderr",
     "output_type": "stream",
     "text": [
      " 68%|██████▊   | 2378/3522 [02:23<01:28, 12.95it/s]"
     ]
    },
    {
     "name": "stdout",
     "output_type": "stream",
     "text": [
      "2372\n",
      "2373\n",
      "2373\n",
      "2376\n",
      "2379\n",
      "2380\n"
     ]
    },
    {
     "name": "stderr",
     "output_type": "stream",
     "text": [
      " 68%|██████▊   | 2398/3522 [02:24<00:57, 19.60it/s]"
     ]
    },
    {
     "name": "stdout",
     "output_type": "stream",
     "text": [
      "2392\n",
      "2396\n",
      "2398\n"
     ]
    },
    {
     "name": "stderr",
     "output_type": "stream",
     "text": [
      "\r",
      " 68%|██████▊   | 2402/3522 [02:24<01:10, 15.93it/s]"
     ]
    },
    {
     "name": "stdout",
     "output_type": "stream",
     "text": [
      "2400\n"
     ]
    },
    {
     "name": "stderr",
     "output_type": "stream",
     "text": [
      "\r",
      " 68%|██████▊   | 2405/3522 [02:25<01:23, 13.39it/s]"
     ]
    },
    {
     "name": "stdout",
     "output_type": "stream",
     "text": [
      "2405\n"
     ]
    },
    {
     "name": "stderr",
     "output_type": "stream",
     "text": [
      " 69%|██████▉   | 2426/3522 [02:27<01:21, 13.38it/s]"
     ]
    },
    {
     "name": "stdout",
     "output_type": "stream",
     "text": [
      "2419\n",
      "2419\n",
      "2420\n",
      "2422\n",
      "2423\n",
      "2424\n",
      "2426\n",
      "2428\n",
      "2429\n",
      "2430\n",
      "2431\n"
     ]
    },
    {
     "name": "stderr",
     "output_type": "stream",
     "text": [
      "\r",
      " 69%|██████▉   | 2432/3522 [02:27<00:58, 18.70it/s]"
     ]
    },
    {
     "name": "stdout",
     "output_type": "stream",
     "text": [
      "2432\n",
      "2433\n",
      "2434\n"
     ]
    },
    {
     "name": "stderr",
     "output_type": "stream",
     "text": [
      " 69%|██████▉   | 2442/3522 [02:28<01:00, 17.99it/s]"
     ]
    },
    {
     "name": "stdout",
     "output_type": "stream",
     "text": [
      "2439\n",
      "2440\n"
     ]
    },
    {
     "name": "stderr",
     "output_type": "stream",
     "text": [
      " 70%|██████▉   | 2461/3522 [02:29<00:44, 24.11it/s]"
     ]
    },
    {
     "name": "stdout",
     "output_type": "stream",
     "text": [
      "2448\n",
      "2449\n",
      "2450\n",
      "2451\n",
      "2452\n",
      "2453\n",
      "2455\n",
      "2456\n",
      "2457\n",
      "2458\n",
      "2459\n",
      "2460\n",
      "2461\n",
      "2462\n",
      "2462\n",
      "2463\n",
      "2463\n",
      "2464\n",
      "2464\n",
      "2465\n",
      "2466\n",
      "2467\n",
      "2467\n",
      "2468\n",
      "2469\n",
      "2469\n",
      "2470\n",
      "2471\n"
     ]
    },
    {
     "name": "stderr",
     "output_type": "stream",
     "text": [
      "\r",
      " 70%|███████   | 2477/3522 [02:29<00:24, 42.73it/s]"
     ]
    },
    {
     "name": "stdout",
     "output_type": "stream",
     "text": [
      "2472\n",
      "2472\n",
      "2473\n",
      "2473\n",
      "2478\n",
      "2478\n"
     ]
    },
    {
     "name": "stderr",
     "output_type": "stream",
     "text": [
      "\r",
      " 71%|███████   | 2485/3522 [02:31<01:52,  9.21it/s]"
     ]
    },
    {
     "name": "stdout",
     "output_type": "stream",
     "text": [
      "2481\n",
      "2482\n",
      "2483\n",
      "2485\n"
     ]
    },
    {
     "name": "stderr",
     "output_type": "stream",
     "text": [
      " 71%|███████   | 2497/3522 [02:33<01:42, 10.01it/s]"
     ]
    },
    {
     "name": "stdout",
     "output_type": "stream",
     "text": [
      "2487\n",
      "2487\n",
      "2488\n",
      "2491\n",
      "2492\n",
      "2494\n",
      "2495\n",
      "2496\n",
      "2497\n"
     ]
    },
    {
     "name": "stderr",
     "output_type": "stream",
     "text": [
      "\r",
      " 71%|███████   | 2502/3522 [02:33<01:26, 11.74it/s]"
     ]
    },
    {
     "name": "stdout",
     "output_type": "stream",
     "text": [
      "2499\n",
      "2503\n"
     ]
    },
    {
     "name": "stderr",
     "output_type": "stream",
     "text": [
      " 71%|███████▏  | 2513/3522 [02:33<00:56, 17.88it/s]"
     ]
    },
    {
     "name": "stdout",
     "output_type": "stream",
     "text": [
      "2507\n",
      "2507\n",
      "2508\n",
      "2511\n",
      "2513\n",
      "2514\n",
      "2514\n"
     ]
    },
    {
     "name": "stderr",
     "output_type": "stream",
     "text": [
      " 72%|███████▏  | 2534/3522 [02:33<00:27, 35.68it/s]"
     ]
    },
    {
     "name": "stdout",
     "output_type": "stream",
     "text": [
      "2520\n",
      "2521\n",
      "2522\n",
      "2523\n",
      "2523\n",
      "2524\n",
      "2526\n",
      "2527\n",
      "2527\n",
      "2529\n",
      "2533\n"
     ]
    },
    {
     "name": "stderr",
     "output_type": "stream",
     "text": [
      "\r",
      " 72%|███████▏  | 2541/3522 [02:34<00:23, 41.89it/s]"
     ]
    },
    {
     "name": "stdout",
     "output_type": "stream",
     "text": [
      "2535\n",
      "2536\n",
      "2537\n",
      "2537\n",
      "2539\n",
      "2540\n",
      "2541\n",
      "2543\n",
      "2543\n",
      "2544\n",
      "2545\n",
      "2546\n",
      "2546\n",
      "2547\n",
      "2547\n"
     ]
    },
    {
     "name": "stderr",
     "output_type": "stream",
     "text": [
      " 73%|███████▎  | 2556/3522 [02:34<00:31, 30.45it/s]"
     ]
    },
    {
     "name": "stdout",
     "output_type": "stream",
     "text": [
      "2554\n",
      "2555\n",
      "2556\n",
      "2556\n",
      "2558\n",
      "2560\n",
      "2561\n"
     ]
    },
    {
     "name": "stderr",
     "output_type": "stream",
     "text": [
      " 73%|███████▎  | 2574/3522 [02:35<00:37, 25.13it/s]"
     ]
    },
    {
     "name": "stdout",
     "output_type": "stream",
     "text": [
      "2562\n",
      "2563\n",
      "2563\n",
      "2564\n",
      "2564\n",
      "2565\n",
      "2566\n",
      "2567\n",
      "2568\n",
      "2569\n",
      "2570\n",
      "2573\n",
      "2574\n",
      "2577\n"
     ]
    },
    {
     "name": "stderr",
     "output_type": "stream",
     "text": [
      " 73%|███████▎  | 2588/3522 [02:36<00:30, 30.59it/s]"
     ]
    },
    {
     "name": "stdout",
     "output_type": "stream",
     "text": [
      "2581\n",
      "2582\n",
      "2585\n",
      "2585\n",
      "2587\n",
      "2588\n",
      "2588\n",
      "2589\n",
      "2590\n"
     ]
    },
    {
     "name": "stderr",
     "output_type": "stream",
     "text": [
      " 74%|███████▍  | 2603/3522 [02:37<00:54, 16.84it/s]"
     ]
    },
    {
     "name": "stdout",
     "output_type": "stream",
     "text": [
      "2593\n",
      "2596\n",
      "2597\n",
      "2598\n",
      "2599\n",
      "2600\n",
      "2601\n",
      "2601\n",
      "2602\n",
      "2603\n"
     ]
    },
    {
     "name": "stderr",
     "output_type": "stream",
     "text": [
      " 74%|███████▍  | 2616/3522 [02:38<00:42, 21.28it/s]"
     ]
    },
    {
     "name": "stdout",
     "output_type": "stream",
     "text": [
      "2605\n",
      "2606\n",
      "2608\n",
      "2610\n",
      "2610\n",
      "2611\n",
      "2612\n",
      "2613\n",
      "2614\n",
      "2616\n",
      "2617\n",
      "2617\n",
      "2618\n",
      "2618\n",
      "2619\n",
      "2619\n",
      "2620\n"
     ]
    },
    {
     "name": "stderr",
     "output_type": "stream",
     "text": [
      "\r",
      " 74%|███████▍  | 2623/3522 [02:38<00:33, 26.93it/s]"
     ]
    },
    {
     "name": "stdout",
     "output_type": "stream",
     "text": [
      "2624\n",
      "2625\n",
      "2626\n"
     ]
    },
    {
     "name": "stderr",
     "output_type": "stream",
     "text": [
      " 75%|███████▍  | 2634/3522 [02:39<00:49, 17.89it/s]"
     ]
    },
    {
     "name": "stdout",
     "output_type": "stream",
     "text": [
      "2629\n",
      "2631\n",
      "2632\n",
      "2634\n",
      "2634\n",
      "2635\n"
     ]
    },
    {
     "name": "stderr",
     "output_type": "stream",
     "text": [
      " 75%|███████▌  | 2645/3522 [02:40<01:32,  9.51it/s]"
     ]
    },
    {
     "name": "stdout",
     "output_type": "stream",
     "text": [
      "2643\n",
      "2643\n",
      "2644\n",
      "2645\n",
      "2646\n",
      "2647\n",
      "2648\n",
      "2648\n",
      "2649\n",
      "2649\n",
      "2650\n",
      "2651\n",
      "2652\n",
      "2652\n",
      "2653\n"
     ]
    },
    {
     "name": "stderr",
     "output_type": "stream",
     "text": [
      " 76%|███████▌  | 2665/3522 [02:42<01:26,  9.86it/s]"
     ]
    },
    {
     "name": "stdout",
     "output_type": "stream",
     "text": [
      "2659\n",
      "2660\n",
      "2660\n",
      "2661\n",
      "2661\n",
      "2662\n",
      "2662\n",
      "2663\n",
      "2664\n",
      "2666\n",
      "2666\n",
      "2667\n"
     ]
    },
    {
     "name": "stderr",
     "output_type": "stream",
     "text": [
      " 76%|███████▌  | 2674/3522 [02:43<01:28,  9.55it/s]"
     ]
    },
    {
     "name": "stdout",
     "output_type": "stream",
     "text": [
      "2668\n",
      "2671\n",
      "2672\n",
      "2674\n"
     ]
    },
    {
     "name": "stderr",
     "output_type": "stream",
     "text": [
      " 76%|███████▌  | 2681/3522 [02:45<01:45,  7.95it/s]"
     ]
    },
    {
     "name": "stdout",
     "output_type": "stream",
     "text": [
      "2676\n",
      "2676\n",
      "2677\n",
      "2678\n",
      "2681\n"
     ]
    },
    {
     "name": "stderr",
     "output_type": "stream",
     "text": [
      " 76%|███████▋  | 2687/3522 [02:47<02:37,  5.31it/s]"
     ]
    },
    {
     "name": "stdout",
     "output_type": "stream",
     "text": [
      "2684\n",
      "2685\n",
      "2687\n"
     ]
    },
    {
     "name": "stderr",
     "output_type": "stream",
     "text": [
      " 76%|███████▋  | 2691/3522 [02:47<01:57,  7.07it/s]"
     ]
    },
    {
     "name": "stdout",
     "output_type": "stream",
     "text": [
      "2688\n",
      "2689\n",
      "2690\n",
      "2691\n"
     ]
    },
    {
     "name": "stderr",
     "output_type": "stream",
     "text": [
      " 77%|███████▋  | 2697/3522 [02:47<01:18, 10.48it/s]"
     ]
    },
    {
     "name": "stdout",
     "output_type": "stream",
     "text": [
      "2693\n",
      "2694\n",
      "2696\n"
     ]
    },
    {
     "name": "stderr",
     "output_type": "stream",
     "text": [
      " 77%|███████▋  | 2701/3522 [02:48<01:05, 12.47it/s]"
     ]
    },
    {
     "name": "stdout",
     "output_type": "stream",
     "text": [
      "2697\n"
     ]
    },
    {
     "name": "stderr",
     "output_type": "stream",
     "text": [
      "\r",
      " 77%|███████▋  | 2703/3522 [02:48<01:01, 13.28it/s]"
     ]
    },
    {
     "name": "stdout",
     "output_type": "stream",
     "text": [
      "2702\n"
     ]
    },
    {
     "name": "stderr",
     "output_type": "stream",
     "text": [
      " 77%|███████▋  | 2707/3522 [02:48<01:35,  8.51it/s]"
     ]
    },
    {
     "name": "stdout",
     "output_type": "stream",
     "text": [
      "2704\n",
      "2706\n",
      "2708\n"
     ]
    },
    {
     "name": "stderr",
     "output_type": "stream",
     "text": [
      "\r",
      " 77%|███████▋  | 2711/3522 [02:49<02:01,  6.65it/s]"
     ]
    },
    {
     "name": "stdout",
     "output_type": "stream",
     "text": [
      "2711\n",
      "2712\n"
     ]
    },
    {
     "name": "stderr",
     "output_type": "stream",
     "text": [
      " 77%|███████▋  | 2724/3522 [02:50<00:56, 14.16it/s]"
     ]
    },
    {
     "name": "stdout",
     "output_type": "stream",
     "text": [
      "2714\n",
      "2717\n",
      "2719\n",
      "2719\n",
      "2720\n",
      "2721\n",
      "2722\n"
     ]
    },
    {
     "name": "stderr",
     "output_type": "stream",
     "text": [
      "\r",
      " 77%|███████▋  | 2727/3522 [02:52<03:06,  4.26it/s]"
     ]
    },
    {
     "name": "stdout",
     "output_type": "stream",
     "text": [
      "2726\n",
      "2727\n",
      "2727\n",
      "2730\n",
      "2731\n",
      "2732\n",
      "2733\n",
      "2735\n"
     ]
    },
    {
     "name": "stderr",
     "output_type": "stream",
     "text": [
      " 78%|███████▊  | 2746/3522 [02:53<01:15, 10.31it/s]"
     ]
    },
    {
     "name": "stdout",
     "output_type": "stream",
     "text": [
      "2736\n",
      "2738\n",
      "2740\n",
      "2741\n",
      "2742\n",
      "2744\n",
      "2746\n",
      "2747\n",
      "2748\n",
      "2749\n",
      "2750\n",
      "2751\n",
      "2752\n"
     ]
    },
    {
     "name": "stderr",
     "output_type": "stream",
     "text": [
      "\r",
      " 78%|███████▊  | 2755/3522 [02:53<00:51, 14.81it/s]"
     ]
    },
    {
     "name": "stdout",
     "output_type": "stream",
     "text": [
      "2753\n",
      "2754\n",
      "2756\n"
     ]
    },
    {
     "name": "stderr",
     "output_type": "stream",
     "text": [
      "\r",
      " 78%|███████▊  | 2760/3522 [02:53<00:47, 16.01it/s]"
     ]
    },
    {
     "name": "stdout",
     "output_type": "stream",
     "text": [
      "2758\n",
      "2759\n",
      "2760\n",
      "2760\n"
     ]
    },
    {
     "name": "stderr",
     "output_type": "stream",
     "text": [
      " 79%|███████▊  | 2772/3522 [02:54<00:32, 23.01it/s]"
     ]
    },
    {
     "name": "stdout",
     "output_type": "stream",
     "text": [
      "2764\n",
      "2765\n",
      "2765\n",
      "2766\n",
      "2766\n",
      "2768\n",
      "2770\n",
      "2773\n"
     ]
    },
    {
     "name": "stderr",
     "output_type": "stream",
     "text": [
      "\r",
      " 79%|███████▉  | 2777/3522 [02:55<01:14, 10.05it/s]"
     ]
    },
    {
     "name": "stdout",
     "output_type": "stream",
     "text": [
      "2774\n",
      "2775\n",
      "2775\n",
      "2776\n",
      "2778\n"
     ]
    },
    {
     "name": "stderr",
     "output_type": "stream",
     "text": [
      " 79%|███████▉  | 2784/3522 [02:57<01:36,  7.65it/s]"
     ]
    },
    {
     "name": "stdout",
     "output_type": "stream",
     "text": [
      "2780\n",
      "2781\n",
      "2783\n",
      "2784\n",
      "2787\n",
      "2787\n",
      "2788\n",
      "2788\n"
     ]
    },
    {
     "name": "stderr",
     "output_type": "stream",
     "text": [
      "\r",
      " 79%|███████▉  | 2790/3522 [02:57<01:15,  9.64it/s]"
     ]
    },
    {
     "name": "stdout",
     "output_type": "stream",
     "text": [
      "2792\n",
      "2794\n",
      "2794\n"
     ]
    },
    {
     "name": "stderr",
     "output_type": "stream",
     "text": [
      " 80%|███████▉  | 2813/3522 [02:58<00:37, 19.10it/s]"
     ]
    },
    {
     "name": "stdout",
     "output_type": "stream",
     "text": [
      "2806\n",
      "2807\n",
      "2807\n",
      "2808\n",
      "2812\n",
      "2815\n"
     ]
    },
    {
     "name": "stderr",
     "output_type": "stream",
     "text": [
      " 80%|████████  | 2831/3522 [02:59<00:16, 41.19it/s]"
     ]
    },
    {
     "name": "stdout",
     "output_type": "stream",
     "text": [
      "2818\n",
      "2819\n",
      "2820\n",
      "2821\n",
      "2822\n",
      "2822\n",
      "2824\n",
      "2825\n",
      "2826\n",
      "2827\n",
      "2829\n",
      "2829\n",
      "2832\n"
     ]
    },
    {
     "name": "stderr",
     "output_type": "stream",
     "text": [
      "\r",
      " 81%|████████  | 2837/3522 [02:59<00:17, 40.22it/s]"
     ]
    },
    {
     "name": "stdout",
     "output_type": "stream",
     "text": [
      "2835\n",
      "2836\n",
      "2837\n"
     ]
    },
    {
     "name": "stderr",
     "output_type": "stream",
     "text": [
      " 81%|████████  | 2847/3522 [02:59<00:26, 25.91it/s]"
     ]
    },
    {
     "name": "stdout",
     "output_type": "stream",
     "text": [
      "2842\n"
     ]
    },
    {
     "name": "stderr",
     "output_type": "stream",
     "text": [
      "\r",
      " 81%|████████  | 2851/3522 [03:00<00:37, 17.81it/s]"
     ]
    },
    {
     "name": "stdout",
     "output_type": "stream",
     "text": [
      "2850\n",
      "2851\n",
      "2852\n",
      "2853\n",
      "2854\n"
     ]
    },
    {
     "name": "stderr",
     "output_type": "stream",
     "text": [
      " 81%|████████▏ | 2867/3522 [03:01<00:32, 20.02it/s]"
     ]
    },
    {
     "name": "stdout",
     "output_type": "stream",
     "text": [
      "2859\n",
      "2859\n",
      "2864\n",
      "2866\n",
      "2868\n"
     ]
    },
    {
     "name": "stderr",
     "output_type": "stream",
     "text": [
      "\r",
      " 82%|████████▏ | 2874/3522 [03:01<00:27, 23.77it/s]"
     ]
    },
    {
     "name": "stdout",
     "output_type": "stream",
     "text": [
      "2870\n"
     ]
    },
    {
     "name": "stderr",
     "output_type": "stream",
     "text": [
      " 82%|████████▏ | 2881/3522 [03:01<00:34, 18.53it/s]"
     ]
    },
    {
     "name": "stdout",
     "output_type": "stream",
     "text": [
      "2881\n"
     ]
    },
    {
     "name": "stderr",
     "output_type": "stream",
     "text": [
      " 82%|████████▏ | 2903/3522 [03:06<01:04,  9.64it/s]"
     ]
    },
    {
     "name": "stdout",
     "output_type": "stream",
     "text": [
      "2893\n",
      "2895\n",
      "2896\n",
      "2903\n",
      "2904\n"
     ]
    },
    {
     "name": "stderr",
     "output_type": "stream",
     "text": [
      "\r",
      " 83%|████████▎ | 2910/3522 [03:06<00:43, 14.11it/s]"
     ]
    },
    {
     "name": "stdout",
     "output_type": "stream",
     "text": [
      "2912\n",
      "2913\n",
      "2914\n"
     ]
    },
    {
     "name": "stderr",
     "output_type": "stream",
     "text": [
      " 83%|████████▎ | 2922/3522 [03:06<00:30, 19.38it/s]"
     ]
    },
    {
     "name": "stdout",
     "output_type": "stream",
     "text": [
      "2916\n",
      "2922\n",
      "2922\n"
     ]
    },
    {
     "name": "stderr",
     "output_type": "stream",
     "text": [
      " 83%|████████▎ | 2931/3522 [03:07<00:36, 16.23it/s]"
     ]
    },
    {
     "name": "stdout",
     "output_type": "stream",
     "text": [
      "2928\n",
      "2929\n",
      "2930\n",
      "2931\n",
      "2931\n"
     ]
    },
    {
     "name": "stderr",
     "output_type": "stream",
     "text": [
      " 83%|████████▎ | 2939/3522 [03:10<01:37,  5.96it/s]"
     ]
    },
    {
     "name": "stdout",
     "output_type": "stream",
     "text": [
      "2933\n",
      "2936\n"
     ]
    },
    {
     "name": "stderr",
     "output_type": "stream",
     "text": [
      "\r",
      " 84%|████████▎ | 2942/3522 [03:10<01:43,  5.60it/s]"
     ]
    },
    {
     "name": "stdout",
     "output_type": "stream",
     "text": [
      "2939\n",
      "2943\n"
     ]
    },
    {
     "name": "stderr",
     "output_type": "stream",
     "text": [
      "\r",
      " 84%|████████▎ | 2947/3522 [03:11<01:18,  7.37it/s]"
     ]
    },
    {
     "name": "stdout",
     "output_type": "stream",
     "text": [
      "2949\n",
      "2949\n",
      "2950\n",
      "2950\n",
      "2951\n",
      "2951\n",
      "2952\n",
      "2952\n",
      "2953\n",
      "2953\n",
      "2954\n",
      "2955\n"
     ]
    },
    {
     "name": "stderr",
     "output_type": "stream",
     "text": [
      " 84%|████████▍ | 2960/3522 [03:11<00:43, 12.77it/s]"
     ]
    },
    {
     "name": "stdout",
     "output_type": "stream",
     "text": [
      "2961\n"
     ]
    },
    {
     "name": "stderr",
     "output_type": "stream",
     "text": [
      " 84%|████████▍ | 2969/3522 [03:13<00:59,  9.30it/s]"
     ]
    },
    {
     "name": "stdout",
     "output_type": "stream",
     "text": [
      "2971\n"
     ]
    },
    {
     "name": "stderr",
     "output_type": "stream",
     "text": [
      " 84%|████████▍ | 2975/3522 [03:13<00:57,  9.50it/s]"
     ]
    },
    {
     "name": "stdout",
     "output_type": "stream",
     "text": [
      "2975\n"
     ]
    },
    {
     "name": "stderr",
     "output_type": "stream",
     "text": [
      " 85%|████████▍ | 2983/3522 [03:14<00:44, 12.23it/s]"
     ]
    },
    {
     "name": "stdout",
     "output_type": "stream",
     "text": [
      "2978\n",
      "2981\n",
      "2983\n",
      "2985\n",
      "2986\n",
      "2987\n"
     ]
    },
    {
     "name": "stderr",
     "output_type": "stream",
     "text": [
      "\r",
      " 85%|████████▍ | 2989/3522 [03:14<00:30, 17.61it/s]"
     ]
    },
    {
     "name": "stdout",
     "output_type": "stream",
     "text": [
      "2988\n",
      "2989\n",
      "2990\n"
     ]
    },
    {
     "name": "stderr",
     "output_type": "stream",
     "text": [
      " 87%|████████▋ | 3058/3522 [03:19<00:45, 10.27it/s]"
     ]
    },
    {
     "name": "stdout",
     "output_type": "stream",
     "text": [
      "3058\n",
      "3059\n",
      "3060\n"
     ]
    },
    {
     "name": "stderr",
     "output_type": "stream",
     "text": [
      " 87%|████████▋ | 3069/3522 [03:20<00:33, 13.69it/s]"
     ]
    },
    {
     "name": "stdout",
     "output_type": "stream",
     "text": [
      "3064\n",
      "3068\n"
     ]
    },
    {
     "name": "stderr",
     "output_type": "stream",
     "text": [
      " 87%|████████▋ | 3076/3522 [03:20<00:25, 17.58it/s]"
     ]
    },
    {
     "name": "stdout",
     "output_type": "stream",
     "text": [
      "3073\n"
     ]
    },
    {
     "name": "stderr",
     "output_type": "stream",
     "text": [
      "\r",
      " 87%|████████▋ | 3079/3522 [03:20<00:23, 18.68it/s]"
     ]
    },
    {
     "name": "stdout",
     "output_type": "stream",
     "text": [
      "3080\n",
      "3081\n",
      "3082\n",
      "3083\n"
     ]
    },
    {
     "name": "stderr",
     "output_type": "stream",
     "text": [
      "\r",
      " 88%|████████▊ | 3085/3522 [03:20<00:21, 20.06it/s]"
     ]
    },
    {
     "name": "stdout",
     "output_type": "stream",
     "text": [
      "3084\n"
     ]
    },
    {
     "name": "stderr",
     "output_type": "stream",
     "text": [
      " 88%|████████▊ | 3092/3522 [03:21<00:24, 17.23it/s]"
     ]
    },
    {
     "name": "stdout",
     "output_type": "stream",
     "text": [
      "3088\n"
     ]
    },
    {
     "name": "stderr",
     "output_type": "stream",
     "text": [
      " 88%|████████▊ | 3099/3522 [03:21<00:20, 20.76it/s]"
     ]
    },
    {
     "name": "stdout",
     "output_type": "stream",
     "text": [
      "3094\n",
      "3097\n",
      "3099\n",
      "3100\n",
      "3101\n",
      "3103\n",
      "3103\n",
      "3104\n",
      "3104\n"
     ]
    },
    {
     "name": "stderr",
     "output_type": "stream",
     "text": [
      " 89%|████████▊ | 3117/3522 [03:22<00:16, 24.29it/s]"
     ]
    },
    {
     "name": "stdout",
     "output_type": "stream",
     "text": [
      "3107\n",
      "3109\n",
      "3109\n",
      "3110\n",
      "3111\n",
      "3112\n"
     ]
    },
    {
     "name": "stderr",
     "output_type": "stream",
     "text": [
      " 89%|████████▉ | 3129/3522 [03:22<00:14, 26.50it/s]"
     ]
    },
    {
     "name": "stdout",
     "output_type": "stream",
     "text": [
      "3119\n",
      "3120\n",
      "3121\n",
      "3124\n",
      "3124\n",
      "3125\n",
      "3126\n",
      "3127\n",
      "3127\n"
     ]
    },
    {
     "name": "stderr",
     "output_type": "stream",
     "text": [
      " 89%|████████▉ | 3138/3522 [03:22<00:12, 30.04it/s]"
     ]
    },
    {
     "name": "stdout",
     "output_type": "stream",
     "text": [
      "3132\n",
      "3134\n",
      "3135\n",
      "3137\n"
     ]
    },
    {
     "name": "stderr",
     "output_type": "stream",
     "text": [
      " 90%|████████▉ | 3159/3522 [03:24<00:19, 19.03it/s]"
     ]
    },
    {
     "name": "stdout",
     "output_type": "stream",
     "text": [
      "3154\n"
     ]
    },
    {
     "name": "stderr",
     "output_type": "stream",
     "text": [
      "\r",
      " 90%|████████▉ | 3163/3522 [03:24<00:19, 18.41it/s]"
     ]
    },
    {
     "name": "stdout",
     "output_type": "stream",
     "text": [
      "3162\n",
      "3163\n"
     ]
    },
    {
     "name": "stderr",
     "output_type": "stream",
     "text": [
      " 90%|█████████ | 3180/3522 [03:27<00:31, 10.74it/s]"
     ]
    },
    {
     "name": "stdout",
     "output_type": "stream",
     "text": [
      "3177\n",
      "3178\n",
      "3180\n"
     ]
    },
    {
     "name": "stderr",
     "output_type": "stream",
     "text": [
      " 91%|█████████ | 3189/3522 [03:28<00:38,  8.76it/s]"
     ]
    },
    {
     "name": "stdout",
     "output_type": "stream",
     "text": [
      "3187\n"
     ]
    },
    {
     "name": "stderr",
     "output_type": "stream",
     "text": [
      " 91%|█████████ | 3202/3522 [03:29<00:26, 12.25it/s]"
     ]
    },
    {
     "name": "stdout",
     "output_type": "stream",
     "text": [
      "3195\n",
      "3196\n",
      "3197\n",
      "3198\n",
      "3198\n",
      "3199\n",
      "3200\n",
      "3203\n"
     ]
    },
    {
     "name": "stderr",
     "output_type": "stream",
     "text": [
      " 91%|█████████▏| 3221/3522 [03:31<00:27, 11.01it/s]"
     ]
    },
    {
     "name": "stdout",
     "output_type": "stream",
     "text": [
      "3213\n",
      "3214\n",
      "3214\n",
      "3215\n",
      "3215\n",
      "3216\n",
      "3217\n",
      "3221\n",
      "3222\n",
      "3222\n",
      "3223\n"
     ]
    },
    {
     "name": "stderr",
     "output_type": "stream",
     "text": [
      " 92%|█████████▏| 3237/3522 [03:32<00:12, 23.69it/s]"
     ]
    },
    {
     "name": "stdout",
     "output_type": "stream",
     "text": [
      "3228\n",
      "3229\n"
     ]
    },
    {
     "name": "stderr",
     "output_type": "stream",
     "text": [
      " 92%|█████████▏| 3245/3522 [03:33<00:21, 12.60it/s]"
     ]
    },
    {
     "name": "stdout",
     "output_type": "stream",
     "text": [
      "3245\n"
     ]
    },
    {
     "name": "stderr",
     "output_type": "stream",
     "text": [
      " 93%|█████████▎| 3258/3522 [03:35<00:27,  9.75it/s]"
     ]
    },
    {
     "name": "stdout",
     "output_type": "stream",
     "text": [
      "3257\n"
     ]
    },
    {
     "name": "stderr",
     "output_type": "stream",
     "text": [
      " 93%|█████████▎| 3267/3522 [03:35<00:18, 13.86it/s]"
     ]
    },
    {
     "name": "stdout",
     "output_type": "stream",
     "text": [
      "3263\n",
      "3268\n",
      "3268\n"
     ]
    },
    {
     "name": "stderr",
     "output_type": "stream",
     "text": [
      "\r",
      " 93%|█████████▎| 3270/3522 [03:35<00:16, 14.93it/s]"
     ]
    },
    {
     "name": "stdout",
     "output_type": "stream",
     "text": [
      "3271\n"
     ]
    },
    {
     "name": "stderr",
     "output_type": "stream",
     "text": [
      " 93%|█████████▎| 3279/3522 [03:36<00:14, 17.15it/s]"
     ]
    },
    {
     "name": "stdout",
     "output_type": "stream",
     "text": [
      "3274\n",
      "3277\n"
     ]
    },
    {
     "name": "stderr",
     "output_type": "stream",
     "text": [
      " 94%|█████████▎| 3299/3522 [03:37<00:12, 18.34it/s]"
     ]
    },
    {
     "name": "stdout",
     "output_type": "stream",
     "text": [
      "3294\n"
     ]
    },
    {
     "name": "stderr",
     "output_type": "stream",
     "text": [
      "\r",
      " 94%|█████████▍| 3302/3522 [03:37<00:11, 19.32it/s]"
     ]
    },
    {
     "name": "stdout",
     "output_type": "stream",
     "text": [
      "3300\n",
      "3303\n"
     ]
    },
    {
     "name": "stderr",
     "output_type": "stream",
     "text": [
      " 94%|█████████▍| 3310/3522 [03:38<00:20, 10.19it/s]"
     ]
    },
    {
     "name": "stdout",
     "output_type": "stream",
     "text": [
      "3304\n",
      "3305\n",
      "3312\n"
     ]
    },
    {
     "name": "stderr",
     "output_type": "stream",
     "text": [
      " 95%|█████████▍| 3329/3522 [03:39<00:08, 22.33it/s]"
     ]
    },
    {
     "name": "stdout",
     "output_type": "stream",
     "text": [
      "3322\n",
      "3327\n"
     ]
    },
    {
     "name": "stderr",
     "output_type": "stream",
     "text": [
      "\r",
      " 95%|█████████▍| 3333/3522 [03:39<00:11, 16.89it/s]"
     ]
    },
    {
     "name": "stdout",
     "output_type": "stream",
     "text": [
      "3334\n"
     ]
    },
    {
     "name": "stderr",
     "output_type": "stream",
     "text": [
      " 95%|█████████▌| 3350/3522 [03:41<00:10, 16.77it/s]"
     ]
    },
    {
     "name": "stdout",
     "output_type": "stream",
     "text": [
      "3345\n",
      "3350\n"
     ]
    },
    {
     "name": "stderr",
     "output_type": "stream",
     "text": [
      " 95%|█████████▌| 3357/3522 [03:41<00:08, 18.83it/s]"
     ]
    },
    {
     "name": "stdout",
     "output_type": "stream",
     "text": [
      "3357\n"
     ]
    },
    {
     "name": "stderr",
     "output_type": "stream",
     "text": [
      " 96%|█████████▌| 3364/3522 [03:42<00:14, 11.16it/s]"
     ]
    },
    {
     "name": "stdout",
     "output_type": "stream",
     "text": [
      "3364\n"
     ]
    },
    {
     "name": "stderr",
     "output_type": "stream",
     "text": [
      " 96%|█████████▌| 3385/3522 [03:44<00:09, 14.34it/s]"
     ]
    },
    {
     "name": "stdout",
     "output_type": "stream",
     "text": [
      "3378\n",
      "3380\n",
      "3386\n"
     ]
    },
    {
     "name": "stderr",
     "output_type": "stream",
     "text": [
      " 96%|█████████▋| 3392/3522 [03:45<00:11, 11.51it/s]"
     ]
    },
    {
     "name": "stdout",
     "output_type": "stream",
     "text": [
      "3391\n"
     ]
    },
    {
     "name": "stderr",
     "output_type": "stream",
     "text": [
      " 96%|█████████▋| 3398/3522 [03:46<00:11, 10.59it/s]"
     ]
    },
    {
     "name": "stdout",
     "output_type": "stream",
     "text": [
      "3394\n"
     ]
    },
    {
     "name": "stderr",
     "output_type": "stream",
     "text": [
      " 97%|█████████▋| 3410/3522 [03:47<00:08, 13.59it/s]"
     ]
    },
    {
     "name": "stdout",
     "output_type": "stream",
     "text": [
      "3406\n"
     ]
    },
    {
     "name": "stderr",
     "output_type": "stream",
     "text": [
      " 97%|█████████▋| 3432/3522 [03:51<00:12,  6.98it/s]"
     ]
    },
    {
     "name": "stdout",
     "output_type": "stream",
     "text": [
      "3435\n"
     ]
    },
    {
     "name": "stderr",
     "output_type": "stream",
     "text": [
      " 98%|█████████▊| 3439/3522 [03:51<00:09,  8.54it/s]"
     ]
    },
    {
     "name": "stdout",
     "output_type": "stream",
     "text": [
      "3436\n",
      "3439\n"
     ]
    },
    {
     "name": "stderr",
     "output_type": "stream",
     "text": [
      "\r",
      " 98%|█████████▊| 3444/3522 [03:52<00:06, 11.83it/s]"
     ]
    },
    {
     "name": "stdout",
     "output_type": "stream",
     "text": [
      "3441\n",
      "3442\n"
     ]
    },
    {
     "name": "stderr",
     "output_type": "stream",
     "text": [
      " 98%|█████████▊| 3453/3522 [03:52<00:03, 18.50it/s]"
     ]
    },
    {
     "name": "stdout",
     "output_type": "stream",
     "text": [
      "3450\n"
     ]
    },
    {
     "name": "stderr",
     "output_type": "stream",
     "text": [
      "\r",
      " 98%|█████████▊| 3456/3522 [03:52<00:04, 16.11it/s]"
     ]
    },
    {
     "name": "stdout",
     "output_type": "stream",
     "text": [
      "3455\n"
     ]
    },
    {
     "name": "stderr",
     "output_type": "stream",
     "text": [
      " 99%|█████████▉| 3480/3522 [03:54<00:02, 18.75it/s]"
     ]
    },
    {
     "name": "stdout",
     "output_type": "stream",
     "text": [
      "3476\n",
      "3482\n"
     ]
    },
    {
     "name": "stderr",
     "output_type": "stream",
     "text": [
      " 99%|█████████▉| 3497/3522 [03:55<00:01, 14.56it/s]"
     ]
    },
    {
     "name": "stdout",
     "output_type": "stream",
     "text": [
      "3491\n",
      "3493\n"
     ]
    },
    {
     "name": "stderr",
     "output_type": "stream",
     "text": [
      " 99%|█████████▉| 3502/3522 [03:56<00:01, 10.67it/s]"
     ]
    },
    {
     "name": "stdout",
     "output_type": "stream",
     "text": [
      "3501\n"
     ]
    },
    {
     "name": "stderr",
     "output_type": "stream",
     "text": [
      "100%|█████████▉| 3517/3522 [03:57<00:00, 16.58it/s]"
     ]
    },
    {
     "name": "stdout",
     "output_type": "stream",
     "text": [
      "3512\n",
      "3512\n",
      "3519\n"
     ]
    },
    {
     "name": "stderr",
     "output_type": "stream",
     "text": [
      "100%|██████████| 3522/3522 [03:58<00:00, 14.79it/s]\n"
     ]
    },
    {
     "name": "stdout",
     "output_type": "stream",
     "text": [
      "Found 37314 unique tokens.\n"
     ]
    },
    {
     "ename": "ValueError",
     "evalue": "Wrong number of items passed 300, placement implies 1",
     "output_type": "error",
     "traceback": [
      "\u001b[0;31m---------------------------------------------------------------------------\u001b[0m",
      "\u001b[0;31mKeyError\u001b[0m                                  Traceback (most recent call last)",
      "\u001b[0;32m/usr/local/lib/python3.8/dist-packages/pandas/core/indexes/base.py\u001b[0m in \u001b[0;36mget_loc\u001b[0;34m(self, key, method, tolerance)\u001b[0m\n\u001b[1;32m   3079\u001b[0m             \u001b[0;32mtry\u001b[0m\u001b[0;34m:\u001b[0m\u001b[0;34m\u001b[0m\u001b[0;34m\u001b[0m\u001b[0m\n\u001b[0;32m-> 3080\u001b[0;31m                 \u001b[0;32mreturn\u001b[0m \u001b[0mself\u001b[0m\u001b[0;34m.\u001b[0m\u001b[0m_engine\u001b[0m\u001b[0;34m.\u001b[0m\u001b[0mget_loc\u001b[0m\u001b[0;34m(\u001b[0m\u001b[0mcasted_key\u001b[0m\u001b[0;34m)\u001b[0m\u001b[0;34m\u001b[0m\u001b[0;34m\u001b[0m\u001b[0m\n\u001b[0m\u001b[1;32m   3081\u001b[0m             \u001b[0;32mexcept\u001b[0m \u001b[0mKeyError\u001b[0m \u001b[0;32mas\u001b[0m \u001b[0merr\u001b[0m\u001b[0;34m:\u001b[0m\u001b[0;34m\u001b[0m\u001b[0;34m\u001b[0m\u001b[0m\n",
      "\u001b[0;32mpandas/_libs/index.pyx\u001b[0m in \u001b[0;36mpandas._libs.index.IndexEngine.get_loc\u001b[0;34m()\u001b[0m\n",
      "\u001b[0;32mpandas/_libs/index.pyx\u001b[0m in \u001b[0;36mpandas._libs.index.IndexEngine.get_loc\u001b[0;34m()\u001b[0m\n",
      "\u001b[0;32mpandas/_libs/index.pyx\u001b[0m in \u001b[0;36mpandas._libs.index.IndexEngine._get_loc_duplicates\u001b[0;34m()\u001b[0m\n",
      "\u001b[0;32mpandas/_libs/index.pyx\u001b[0m in \u001b[0;36mpandas._libs.index.IndexEngine._maybe_get_bool_indexer\u001b[0;34m()\u001b[0m\n",
      "\u001b[0;32mpandas/_libs/index.pyx\u001b[0m in \u001b[0;36mpandas._libs.index.IndexEngine._unpack_bool_indexer\u001b[0;34m()\u001b[0m\n",
      "\u001b[0;31mKeyError\u001b[0m: 'text_emb_glove_1'",
      "\nThe above exception was the direct cause of the following exception:\n",
      "\u001b[0;31mKeyError\u001b[0m                                  Traceback (most recent call last)",
      "\u001b[0;32m/usr/local/lib/python3.8/dist-packages/pandas/core/generic.py\u001b[0m in \u001b[0;36m_set_item\u001b[0;34m(self, key, value)\u001b[0m\n\u001b[1;32m   3825\u001b[0m         \u001b[0;32mtry\u001b[0m\u001b[0;34m:\u001b[0m\u001b[0;34m\u001b[0m\u001b[0;34m\u001b[0m\u001b[0m\n\u001b[0;32m-> 3826\u001b[0;31m             \u001b[0mloc\u001b[0m \u001b[0;34m=\u001b[0m \u001b[0mself\u001b[0m\u001b[0;34m.\u001b[0m\u001b[0m_info_axis\u001b[0m\u001b[0;34m.\u001b[0m\u001b[0mget_loc\u001b[0m\u001b[0;34m(\u001b[0m\u001b[0mkey\u001b[0m\u001b[0;34m)\u001b[0m\u001b[0;34m\u001b[0m\u001b[0;34m\u001b[0m\u001b[0m\n\u001b[0m\u001b[1;32m   3827\u001b[0m         \u001b[0;32mexcept\u001b[0m \u001b[0mKeyError\u001b[0m\u001b[0;34m:\u001b[0m\u001b[0;34m\u001b[0m\u001b[0;34m\u001b[0m\u001b[0m\n",
      "\u001b[0;32m/usr/local/lib/python3.8/dist-packages/pandas/core/indexes/base.py\u001b[0m in \u001b[0;36mget_loc\u001b[0;34m(self, key, method, tolerance)\u001b[0m\n\u001b[1;32m   3081\u001b[0m             \u001b[0;32mexcept\u001b[0m \u001b[0mKeyError\u001b[0m \u001b[0;32mas\u001b[0m \u001b[0merr\u001b[0m\u001b[0;34m:\u001b[0m\u001b[0;34m\u001b[0m\u001b[0;34m\u001b[0m\u001b[0m\n\u001b[0;32m-> 3082\u001b[0;31m                 \u001b[0;32mraise\u001b[0m \u001b[0mKeyError\u001b[0m\u001b[0;34m(\u001b[0m\u001b[0mkey\u001b[0m\u001b[0;34m)\u001b[0m \u001b[0;32mfrom\u001b[0m \u001b[0merr\u001b[0m\u001b[0;34m\u001b[0m\u001b[0;34m\u001b[0m\u001b[0m\n\u001b[0m\u001b[1;32m   3083\u001b[0m \u001b[0;34m\u001b[0m\u001b[0m\n",
      "\u001b[0;31mKeyError\u001b[0m: 'text_emb_glove_1'",
      "\nDuring handling of the above exception, another exception occurred:\n",
      "\u001b[0;31mValueError\u001b[0m                                Traceback (most recent call last)",
      "\u001b[0;32m<ipython-input-23-984733ea45dd>\u001b[0m in \u001b[0;36m<module>\u001b[0;34m\u001b[0m\n\u001b[1;32m     67\u001b[0m     \u001b[0mt2_text_data\u001b[0m \u001b[0;34m=\u001b[0m \u001b[0mt_text_data\u001b[0m\u001b[0;34m[\u001b[0m\u001b[0mlen\u001b[0m\u001b[0;34m(\u001b[0m\u001b[0mall_data\u001b[0m\u001b[0;34m)\u001b[0m\u001b[0;34m:\u001b[0m\u001b[0;34m,\u001b[0m\u001b[0;34m:\u001b[0m\u001b[0;34m]\u001b[0m\u001b[0;34m\u001b[0m\u001b[0;34m\u001b[0m\u001b[0m\n\u001b[1;32m     68\u001b[0m \u001b[0;34m\u001b[0m\u001b[0m\n\u001b[0;32m---> 69\u001b[0;31m     \u001b[0mall_data\u001b[0m\u001b[0;34m[\u001b[0m\u001b[0;34m'text_emb_glove_1'\u001b[0m\u001b[0;34m]\u001b[0m \u001b[0;34m=\u001b[0m \u001b[0mt1_text_data\u001b[0m\u001b[0;34m\u001b[0m\u001b[0;34m\u001b[0m\u001b[0m\n\u001b[0m\u001b[1;32m     70\u001b[0m     \u001b[0mall_data\u001b[0m\u001b[0;34m[\u001b[0m\u001b[0;34m'text_emb_glove_2'\u001b[0m\u001b[0;34m]\u001b[0m \u001b[0;34m=\u001b[0m \u001b[0mt2_text_data\u001b[0m\u001b[0;34m\u001b[0m\u001b[0;34m\u001b[0m\u001b[0m\n\u001b[1;32m     71\u001b[0m \u001b[0;34m\u001b[0m\u001b[0m\n",
      "\u001b[0;32m/usr/local/lib/python3.8/dist-packages/pandas/core/frame.py\u001b[0m in \u001b[0;36m__setitem__\u001b[0;34m(self, key, value)\u001b[0m\n\u001b[1;32m   3161\u001b[0m         \u001b[0;32melse\u001b[0m\u001b[0;34m:\u001b[0m\u001b[0;34m\u001b[0m\u001b[0;34m\u001b[0m\u001b[0m\n\u001b[1;32m   3162\u001b[0m             \u001b[0;31m# set column\u001b[0m\u001b[0;34m\u001b[0m\u001b[0;34m\u001b[0m\u001b[0;34m\u001b[0m\u001b[0m\n\u001b[0;32m-> 3163\u001b[0;31m             \u001b[0mself\u001b[0m\u001b[0;34m.\u001b[0m\u001b[0m_set_item\u001b[0m\u001b[0;34m(\u001b[0m\u001b[0mkey\u001b[0m\u001b[0;34m,\u001b[0m \u001b[0mvalue\u001b[0m\u001b[0;34m)\u001b[0m\u001b[0;34m\u001b[0m\u001b[0;34m\u001b[0m\u001b[0m\n\u001b[0m\u001b[1;32m   3164\u001b[0m \u001b[0;34m\u001b[0m\u001b[0m\n\u001b[1;32m   3165\u001b[0m     \u001b[0;32mdef\u001b[0m \u001b[0m_setitem_slice\u001b[0m\u001b[0;34m(\u001b[0m\u001b[0mself\u001b[0m\u001b[0;34m,\u001b[0m \u001b[0mkey\u001b[0m\u001b[0;34m:\u001b[0m \u001b[0mslice\u001b[0m\u001b[0;34m,\u001b[0m \u001b[0mvalue\u001b[0m\u001b[0;34m)\u001b[0m\u001b[0;34m:\u001b[0m\u001b[0;34m\u001b[0m\u001b[0;34m\u001b[0m\u001b[0m\n",
      "\u001b[0;32m/usr/local/lib/python3.8/dist-packages/pandas/core/frame.py\u001b[0m in \u001b[0;36m_set_item\u001b[0;34m(self, key, value)\u001b[0m\n\u001b[1;32m   3241\u001b[0m         \u001b[0mself\u001b[0m\u001b[0;34m.\u001b[0m\u001b[0m_ensure_valid_index\u001b[0m\u001b[0;34m(\u001b[0m\u001b[0mvalue\u001b[0m\u001b[0;34m)\u001b[0m\u001b[0;34m\u001b[0m\u001b[0;34m\u001b[0m\u001b[0m\n\u001b[1;32m   3242\u001b[0m         \u001b[0mvalue\u001b[0m \u001b[0;34m=\u001b[0m \u001b[0mself\u001b[0m\u001b[0;34m.\u001b[0m\u001b[0m_sanitize_column\u001b[0m\u001b[0;34m(\u001b[0m\u001b[0mkey\u001b[0m\u001b[0;34m,\u001b[0m \u001b[0mvalue\u001b[0m\u001b[0;34m)\u001b[0m\u001b[0;34m\u001b[0m\u001b[0;34m\u001b[0m\u001b[0m\n\u001b[0;32m-> 3243\u001b[0;31m         \u001b[0mNDFrame\u001b[0m\u001b[0;34m.\u001b[0m\u001b[0m_set_item\u001b[0m\u001b[0;34m(\u001b[0m\u001b[0mself\u001b[0m\u001b[0;34m,\u001b[0m \u001b[0mkey\u001b[0m\u001b[0;34m,\u001b[0m \u001b[0mvalue\u001b[0m\u001b[0;34m)\u001b[0m\u001b[0;34m\u001b[0m\u001b[0;34m\u001b[0m\u001b[0m\n\u001b[0m\u001b[1;32m   3244\u001b[0m \u001b[0;34m\u001b[0m\u001b[0m\n\u001b[1;32m   3245\u001b[0m         \u001b[0;31m# check if we are modifying a copy\u001b[0m\u001b[0;34m\u001b[0m\u001b[0;34m\u001b[0m\u001b[0;34m\u001b[0m\u001b[0m\n",
      "\u001b[0;32m/usr/local/lib/python3.8/dist-packages/pandas/core/generic.py\u001b[0m in \u001b[0;36m_set_item\u001b[0;34m(self, key, value)\u001b[0m\n\u001b[1;32m   3827\u001b[0m         \u001b[0;32mexcept\u001b[0m \u001b[0mKeyError\u001b[0m\u001b[0;34m:\u001b[0m\u001b[0;34m\u001b[0m\u001b[0;34m\u001b[0m\u001b[0m\n\u001b[1;32m   3828\u001b[0m             \u001b[0;31m# This item wasn't present, just insert at end\u001b[0m\u001b[0;34m\u001b[0m\u001b[0;34m\u001b[0m\u001b[0;34m\u001b[0m\u001b[0m\n\u001b[0;32m-> 3829\u001b[0;31m             \u001b[0mself\u001b[0m\u001b[0;34m.\u001b[0m\u001b[0m_mgr\u001b[0m\u001b[0;34m.\u001b[0m\u001b[0minsert\u001b[0m\u001b[0;34m(\u001b[0m\u001b[0mlen\u001b[0m\u001b[0;34m(\u001b[0m\u001b[0mself\u001b[0m\u001b[0;34m.\u001b[0m\u001b[0m_info_axis\u001b[0m\u001b[0;34m)\u001b[0m\u001b[0;34m,\u001b[0m \u001b[0mkey\u001b[0m\u001b[0;34m,\u001b[0m \u001b[0mvalue\u001b[0m\u001b[0;34m)\u001b[0m\u001b[0;34m\u001b[0m\u001b[0;34m\u001b[0m\u001b[0m\n\u001b[0m\u001b[1;32m   3830\u001b[0m             \u001b[0;32mreturn\u001b[0m\u001b[0;34m\u001b[0m\u001b[0;34m\u001b[0m\u001b[0m\n\u001b[1;32m   3831\u001b[0m \u001b[0;34m\u001b[0m\u001b[0m\n",
      "\u001b[0;32m/usr/local/lib/python3.8/dist-packages/pandas/core/internals/managers.py\u001b[0m in \u001b[0;36minsert\u001b[0;34m(self, loc, item, value, allow_duplicates)\u001b[0m\n\u001b[1;32m   1201\u001b[0m             \u001b[0mvalue\u001b[0m \u001b[0;34m=\u001b[0m \u001b[0msafe_reshape\u001b[0m\u001b[0;34m(\u001b[0m\u001b[0mvalue\u001b[0m\u001b[0;34m,\u001b[0m \u001b[0;34m(\u001b[0m\u001b[0;36m1\u001b[0m\u001b[0;34m,\u001b[0m\u001b[0;34m)\u001b[0m \u001b[0;34m+\u001b[0m \u001b[0mvalue\u001b[0m\u001b[0;34m.\u001b[0m\u001b[0mshape\u001b[0m\u001b[0;34m)\u001b[0m\u001b[0;34m\u001b[0m\u001b[0;34m\u001b[0m\u001b[0m\n\u001b[1;32m   1202\u001b[0m \u001b[0;34m\u001b[0m\u001b[0m\n\u001b[0;32m-> 1203\u001b[0;31m         \u001b[0mblock\u001b[0m \u001b[0;34m=\u001b[0m \u001b[0mmake_block\u001b[0m\u001b[0;34m(\u001b[0m\u001b[0mvalues\u001b[0m\u001b[0;34m=\u001b[0m\u001b[0mvalue\u001b[0m\u001b[0;34m,\u001b[0m \u001b[0mndim\u001b[0m\u001b[0;34m=\u001b[0m\u001b[0mself\u001b[0m\u001b[0;34m.\u001b[0m\u001b[0mndim\u001b[0m\u001b[0;34m,\u001b[0m \u001b[0mplacement\u001b[0m\u001b[0;34m=\u001b[0m\u001b[0mslice\u001b[0m\u001b[0;34m(\u001b[0m\u001b[0mloc\u001b[0m\u001b[0;34m,\u001b[0m \u001b[0mloc\u001b[0m \u001b[0;34m+\u001b[0m \u001b[0;36m1\u001b[0m\u001b[0;34m)\u001b[0m\u001b[0;34m)\u001b[0m\u001b[0;34m\u001b[0m\u001b[0;34m\u001b[0m\u001b[0m\n\u001b[0m\u001b[1;32m   1204\u001b[0m \u001b[0;34m\u001b[0m\u001b[0m\n\u001b[1;32m   1205\u001b[0m         \u001b[0;32mfor\u001b[0m \u001b[0mblkno\u001b[0m\u001b[0;34m,\u001b[0m \u001b[0mcount\u001b[0m \u001b[0;32min\u001b[0m \u001b[0m_fast_count_smallints\u001b[0m\u001b[0;34m(\u001b[0m\u001b[0mself\u001b[0m\u001b[0;34m.\u001b[0m\u001b[0mblknos\u001b[0m\u001b[0;34m[\u001b[0m\u001b[0mloc\u001b[0m\u001b[0;34m:\u001b[0m\u001b[0;34m]\u001b[0m\u001b[0;34m)\u001b[0m\u001b[0;34m:\u001b[0m\u001b[0;34m\u001b[0m\u001b[0;34m\u001b[0m\u001b[0m\n",
      "\u001b[0;32m/usr/local/lib/python3.8/dist-packages/pandas/core/internals/blocks.py\u001b[0m in \u001b[0;36mmake_block\u001b[0;34m(values, placement, klass, ndim, dtype)\u001b[0m\n\u001b[1;32m   2740\u001b[0m         \u001b[0mvalues\u001b[0m \u001b[0;34m=\u001b[0m \u001b[0mDatetimeArray\u001b[0m\u001b[0;34m.\u001b[0m\u001b[0m_simple_new\u001b[0m\u001b[0;34m(\u001b[0m\u001b[0mvalues\u001b[0m\u001b[0;34m,\u001b[0m \u001b[0mdtype\u001b[0m\u001b[0;34m=\u001b[0m\u001b[0mdtype\u001b[0m\u001b[0;34m)\u001b[0m\u001b[0;34m\u001b[0m\u001b[0;34m\u001b[0m\u001b[0m\n\u001b[1;32m   2741\u001b[0m \u001b[0;34m\u001b[0m\u001b[0m\n\u001b[0;32m-> 2742\u001b[0;31m     \u001b[0;32mreturn\u001b[0m \u001b[0mklass\u001b[0m\u001b[0;34m(\u001b[0m\u001b[0mvalues\u001b[0m\u001b[0;34m,\u001b[0m \u001b[0mndim\u001b[0m\u001b[0;34m=\u001b[0m\u001b[0mndim\u001b[0m\u001b[0;34m,\u001b[0m \u001b[0mplacement\u001b[0m\u001b[0;34m=\u001b[0m\u001b[0mplacement\u001b[0m\u001b[0;34m)\u001b[0m\u001b[0;34m\u001b[0m\u001b[0;34m\u001b[0m\u001b[0m\n\u001b[0m\u001b[1;32m   2743\u001b[0m \u001b[0;34m\u001b[0m\u001b[0m\n\u001b[1;32m   2744\u001b[0m \u001b[0;34m\u001b[0m\u001b[0m\n",
      "\u001b[0;32m/usr/local/lib/python3.8/dist-packages/pandas/core/internals/blocks.py\u001b[0m in \u001b[0;36m__init__\u001b[0;34m(self, values, placement, ndim)\u001b[0m\n\u001b[1;32m    140\u001b[0m \u001b[0;34m\u001b[0m\u001b[0m\n\u001b[1;32m    141\u001b[0m         \u001b[0;32mif\u001b[0m \u001b[0mself\u001b[0m\u001b[0;34m.\u001b[0m\u001b[0m_validate_ndim\u001b[0m \u001b[0;32mand\u001b[0m \u001b[0mself\u001b[0m\u001b[0;34m.\u001b[0m\u001b[0mndim\u001b[0m \u001b[0;32mand\u001b[0m \u001b[0mlen\u001b[0m\u001b[0;34m(\u001b[0m\u001b[0mself\u001b[0m\u001b[0;34m.\u001b[0m\u001b[0mmgr_locs\u001b[0m\u001b[0;34m)\u001b[0m \u001b[0;34m!=\u001b[0m \u001b[0mlen\u001b[0m\u001b[0;34m(\u001b[0m\u001b[0mself\u001b[0m\u001b[0;34m.\u001b[0m\u001b[0mvalues\u001b[0m\u001b[0;34m)\u001b[0m\u001b[0;34m:\u001b[0m\u001b[0;34m\u001b[0m\u001b[0;34m\u001b[0m\u001b[0m\n\u001b[0;32m--> 142\u001b[0;31m             raise ValueError(\n\u001b[0m\u001b[1;32m    143\u001b[0m                 \u001b[0;34mf\"Wrong number of items passed {len(self.values)}, \"\u001b[0m\u001b[0;34m\u001b[0m\u001b[0;34m\u001b[0m\u001b[0m\n\u001b[1;32m    144\u001b[0m                 \u001b[0;34mf\"placement implies {len(self.mgr_locs)}\"\u001b[0m\u001b[0;34m\u001b[0m\u001b[0;34m\u001b[0m\u001b[0m\n",
      "\u001b[0;31mValueError\u001b[0m: Wrong number of items passed 300, placement implies 1"
     ]
    }
   ],
   "source": [
    "for s in ['JFrog']:\n",
    "    text_1 = []\n",
    "    text_2 = []\n",
    "\n",
    "    all_data = link_text_w2v_dict[s]\n",
    "    \n",
    "    for i in tqdm(all_data.index):\n",
    "        if not pd.isna(all_data['text_1'][i]):\n",
    "            temp_doc = nlp(all_data['text_1'][i])\n",
    "        #     print(temp_doc)\n",
    "            temp_text_tokens = []\n",
    "            for sentence in temp_doc.sentences:\n",
    "                for token in sentence.tokens:\n",
    "                    temp_text_tokens.append(token.text)\n",
    "            text_1.append(temp_text_tokens)\n",
    "        else:\n",
    "            text_1.append([' '])\n",
    "            print(i)\n",
    "        if not pd.isna(all_data['text_2'][i]):\n",
    "            temp_doc = nlp(all_data['text_2'][i])\n",
    "        #     print(temp_doc)\n",
    "            temp_text_tokens = []\n",
    "            for sentence in temp_doc.sentences:\n",
    "                for token in sentence.tokens:\n",
    "                    temp_text_tokens.append(token.text)\n",
    "            text_2.append(temp_text_tokens)\n",
    "        else:\n",
    "            text_2.append([' '])\n",
    "            print(i)\n",
    "            \n",
    "    all_data['text_1_stanza']=list(text_1)\n",
    "    all_data['text_2_stanza']=list(text_2)\n",
    "    \n",
    "    t1_texts = all_data['text_1_stanza'].tolist()\n",
    "    t2_texts = all_data['text_2_stanza'].tolist()\n",
    "\n",
    "    t_texts = t1_texts + t2_texts\n",
    "\n",
    "    tokenizer = Tokenizer(num_words=20000)\n",
    "    tokenizer.fit_on_texts(t_texts)\n",
    "    t_sequences = tokenizer.texts_to_sequences(t_texts)\n",
    "\n",
    "    word_index_t = tokenizer.word_index\n",
    "    print('Found %s unique tokens.' % len(word_index_t))\n",
    "\n",
    "    t_text_data = pad_sequences(t_sequences, maxlen=300)\n",
    "\n",
    "    num_words_t = min(20000, len(word_index_t) + 1)\n",
    "    embedding_matrix_T = np.zeros((num_words_t, 300))\n",
    "    for word, i in word_index_t.items():\n",
    "        if i >= 20000:\n",
    "            continue\n",
    "        try:\n",
    "            embedding_vector = embeddings_index[word]\n",
    "        except KeyError:\n",
    "            try:\n",
    "                embedding_vector = embeddings_index[word.lower()]\n",
    "            except KeyError:\n",
    "                try:\n",
    "                    embedding_vector = embeddings_index[word.title()]\n",
    "                except KeyError:\n",
    "                    unknown_words.append(word)\n",
    "        if embedding_vector is not None:\n",
    "            # words not found in embedding index will be all-zeros.\n",
    "            embedding_matrix_T[i] = embedding_vector\n",
    "    t1_text_data = t_text_data[:len(all_data),:]\n",
    "    t2_text_data = t_text_data[len(all_data):,:]\n",
    "    \n",
    "    all_data['text_emb_glove_1'] = t1_text_data\n",
    "    all_data['text_emb_glove_2'] = t2_text_data\n",
    "    \n",
    "    cosims_glove = []\n",
    "    \n",
    "    for i in tqdm(all_data.index):\n",
    "        cosims_glove.append(get_w2v_sim([all_data['text_emb_glove_1'].iloc[i]], [all_data['text_emb_glove_2'].iloc[i]]))\n",
    "\n",
    "    all_data['cosim_glove'] = cosims_glove\n",
    "                  \n",
    "    link_text_w2v_dict[s] = all_data "
   ]
  },
  {
   "cell_type": "code",
   "execution_count": 15,
   "id": "bcbf23ff",
   "metadata": {},
   "outputs": [
    {
     "ename": "ValueError",
     "evalue": "Could not interpret input 'cosim_glove'",
     "output_type": "error",
     "traceback": [
      "\u001b[0;31m---------------------------------------------------------------------------\u001b[0m",
      "\u001b[0;31mValueError\u001b[0m                                Traceback (most recent call last)",
      "\u001b[0;32m<ipython-input-15-beca3466a14b>\u001b[0m in \u001b[0;36m<module>\u001b[0;34m\u001b[0m\n\u001b[1;32m      2\u001b[0m     \u001b[0mplt\u001b[0m\u001b[0;34m.\u001b[0m\u001b[0mfigure\u001b[0m\u001b[0;34m(\u001b[0m\u001b[0mfigsize\u001b[0m\u001b[0;34m=\u001b[0m\u001b[0;34m(\u001b[0m\u001b[0;36m8\u001b[0m\u001b[0;34m,\u001b[0m\u001b[0;36m10\u001b[0m\u001b[0;34m)\u001b[0m\u001b[0;34m)\u001b[0m\u001b[0;34m\u001b[0m\u001b[0;34m\u001b[0m\u001b[0m\n\u001b[1;32m      3\u001b[0m \u001b[0;34m\u001b[0m\u001b[0m\n\u001b[0;32m----> 4\u001b[0;31m     \u001b[0msns\u001b[0m\u001b[0;34m.\u001b[0m\u001b[0mcatplot\u001b[0m\u001b[0;34m(\u001b[0m\u001b[0mx\u001b[0m\u001b[0;34m=\u001b[0m\u001b[0;34m\"cosim_glove\"\u001b[0m\u001b[0;34m,\u001b[0m \u001b[0my\u001b[0m\u001b[0;34m=\u001b[0m\u001b[0;34m\"linktype\"\u001b[0m\u001b[0;34m,\u001b[0m \u001b[0mdata\u001b[0m\u001b[0;34m=\u001b[0m\u001b[0mlink_text_w2v_dict\u001b[0m\u001b[0;34m[\u001b[0m\u001b[0ms\u001b[0m\u001b[0;34m]\u001b[0m\u001b[0;34m,\u001b[0m \u001b[0mkind\u001b[0m\u001b[0;34m=\u001b[0m\u001b[0;34m\"box\"\u001b[0m\u001b[0;34m)\u001b[0m\u001b[0;34m\u001b[0m\u001b[0;34m\u001b[0m\u001b[0m\n\u001b[0m",
      "\u001b[0;32m~/.local/lib/python3.8/site-packages/seaborn/_decorators.py\u001b[0m in \u001b[0;36minner_f\u001b[0;34m(*args, **kwargs)\u001b[0m\n\u001b[1;32m     44\u001b[0m             )\n\u001b[1;32m     45\u001b[0m         \u001b[0mkwargs\u001b[0m\u001b[0;34m.\u001b[0m\u001b[0mupdate\u001b[0m\u001b[0;34m(\u001b[0m\u001b[0;34m{\u001b[0m\u001b[0mk\u001b[0m\u001b[0;34m:\u001b[0m \u001b[0marg\u001b[0m \u001b[0;32mfor\u001b[0m \u001b[0mk\u001b[0m\u001b[0;34m,\u001b[0m \u001b[0marg\u001b[0m \u001b[0;32min\u001b[0m \u001b[0mzip\u001b[0m\u001b[0;34m(\u001b[0m\u001b[0msig\u001b[0m\u001b[0;34m.\u001b[0m\u001b[0mparameters\u001b[0m\u001b[0;34m,\u001b[0m \u001b[0margs\u001b[0m\u001b[0;34m)\u001b[0m\u001b[0;34m}\u001b[0m\u001b[0;34m)\u001b[0m\u001b[0;34m\u001b[0m\u001b[0;34m\u001b[0m\u001b[0m\n\u001b[0;32m---> 46\u001b[0;31m         \u001b[0;32mreturn\u001b[0m \u001b[0mf\u001b[0m\u001b[0;34m(\u001b[0m\u001b[0;34m**\u001b[0m\u001b[0mkwargs\u001b[0m\u001b[0;34m)\u001b[0m\u001b[0;34m\u001b[0m\u001b[0;34m\u001b[0m\u001b[0m\n\u001b[0m\u001b[1;32m     47\u001b[0m     \u001b[0;32mreturn\u001b[0m \u001b[0minner_f\u001b[0m\u001b[0;34m\u001b[0m\u001b[0;34m\u001b[0m\u001b[0m\n\u001b[1;32m     48\u001b[0m \u001b[0;34m\u001b[0m\u001b[0m\n",
      "\u001b[0;32m~/.local/lib/python3.8/site-packages/seaborn/categorical.py\u001b[0m in \u001b[0;36mcatplot\u001b[0;34m(x, y, hue, data, row, col, col_wrap, estimator, ci, n_boot, units, seed, order, hue_order, row_order, col_order, kind, height, aspect, orient, color, palette, legend, legend_out, sharex, sharey, margin_titles, facet_kws, **kwargs)\u001b[0m\n\u001b[1;32m   3790\u001b[0m     \u001b[0mp\u001b[0m \u001b[0;34m=\u001b[0m \u001b[0m_CategoricalPlotter\u001b[0m\u001b[0;34m(\u001b[0m\u001b[0;34m)\u001b[0m\u001b[0;34m\u001b[0m\u001b[0;34m\u001b[0m\u001b[0m\n\u001b[1;32m   3791\u001b[0m     \u001b[0mp\u001b[0m\u001b[0;34m.\u001b[0m\u001b[0mrequire_numeric\u001b[0m \u001b[0;34m=\u001b[0m \u001b[0mplotter_class\u001b[0m\u001b[0;34m.\u001b[0m\u001b[0mrequire_numeric\u001b[0m\u001b[0;34m\u001b[0m\u001b[0;34m\u001b[0m\u001b[0m\n\u001b[0;32m-> 3792\u001b[0;31m     \u001b[0mp\u001b[0m\u001b[0;34m.\u001b[0m\u001b[0mestablish_variables\u001b[0m\u001b[0;34m(\u001b[0m\u001b[0mx_\u001b[0m\u001b[0;34m,\u001b[0m \u001b[0my_\u001b[0m\u001b[0;34m,\u001b[0m \u001b[0mhue\u001b[0m\u001b[0;34m,\u001b[0m \u001b[0mdata\u001b[0m\u001b[0;34m,\u001b[0m \u001b[0morient\u001b[0m\u001b[0;34m,\u001b[0m \u001b[0morder\u001b[0m\u001b[0;34m,\u001b[0m \u001b[0mhue_order\u001b[0m\u001b[0;34m)\u001b[0m\u001b[0;34m\u001b[0m\u001b[0;34m\u001b[0m\u001b[0m\n\u001b[0m\u001b[1;32m   3793\u001b[0m     if (\n\u001b[1;32m   3794\u001b[0m         \u001b[0morder\u001b[0m \u001b[0;32mis\u001b[0m \u001b[0;32mnot\u001b[0m \u001b[0;32mNone\u001b[0m\u001b[0;34m\u001b[0m\u001b[0;34m\u001b[0m\u001b[0m\n",
      "\u001b[0;32m~/.local/lib/python3.8/site-packages/seaborn/categorical.py\u001b[0m in \u001b[0;36mestablish_variables\u001b[0;34m(self, x, y, hue, data, orient, order, hue_order, units)\u001b[0m\n\u001b[1;32m    151\u001b[0m                 \u001b[0;32mif\u001b[0m \u001b[0misinstance\u001b[0m\u001b[0;34m(\u001b[0m\u001b[0mvar\u001b[0m\u001b[0;34m,\u001b[0m \u001b[0mstr\u001b[0m\u001b[0;34m)\u001b[0m\u001b[0;34m:\u001b[0m\u001b[0;34m\u001b[0m\u001b[0;34m\u001b[0m\u001b[0m\n\u001b[1;32m    152\u001b[0m                     \u001b[0merr\u001b[0m \u001b[0;34m=\u001b[0m \u001b[0;34m\"Could not interpret input '{}'\"\u001b[0m\u001b[0;34m.\u001b[0m\u001b[0mformat\u001b[0m\u001b[0;34m(\u001b[0m\u001b[0mvar\u001b[0m\u001b[0;34m)\u001b[0m\u001b[0;34m\u001b[0m\u001b[0;34m\u001b[0m\u001b[0m\n\u001b[0;32m--> 153\u001b[0;31m                     \u001b[0;32mraise\u001b[0m \u001b[0mValueError\u001b[0m\u001b[0;34m(\u001b[0m\u001b[0merr\u001b[0m\u001b[0;34m)\u001b[0m\u001b[0;34m\u001b[0m\u001b[0;34m\u001b[0m\u001b[0m\n\u001b[0m\u001b[1;32m    154\u001b[0m \u001b[0;34m\u001b[0m\u001b[0m\n\u001b[1;32m    155\u001b[0m             \u001b[0;31m# Figure out the plotting orientation\u001b[0m\u001b[0;34m\u001b[0m\u001b[0;34m\u001b[0m\u001b[0;34m\u001b[0m\u001b[0m\n",
      "\u001b[0;31mValueError\u001b[0m: Could not interpret input 'cosim_glove'"
     ]
    },
    {
     "data": {
      "text/plain": [
       "<Figure size 576x720 with 0 Axes>"
      ]
     },
     "metadata": {},
     "output_type": "display_data"
    }
   ],
   "source": [
    "for s in ['JFrog']:\n",
    "    plt.figure(figsize=(8,10))\n",
    "\n",
    "    sns.catplot(x=\"cosim_glove\", y=\"linktype\", data=link_text_w2v_dict[s], kind=\"box\")"
   ]
  },
  {
   "cell_type": "code",
   "execution_count": null,
   "id": "f565af15",
   "metadata": {},
   "outputs": [],
   "source": []
  }
 ],
 "metadata": {
  "kernelspec": {
   "display_name": "Python 3",
   "language": "python",
   "name": "python3"
  },
  "language_info": {
   "codemirror_mode": {
    "name": "ipython",
    "version": 3
   },
   "file_extension": ".py",
   "mimetype": "text/x-python",
   "name": "python",
   "nbconvert_exporter": "python",
   "pygments_lexer": "ipython3",
   "version": "3.8.10"
  }
 },
 "nbformat": 4,
 "nbformat_minor": 5
}
