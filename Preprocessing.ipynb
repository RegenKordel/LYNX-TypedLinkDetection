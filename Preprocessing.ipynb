{
 "cells": [
  {
   "cell_type": "code",
   "execution_count": 1,
   "id": "1345f1c8",
   "metadata": {},
   "outputs": [],
   "source": [
    "import pandas as pd\n",
    "from tqdm import tqdm\n",
    "import os\n",
    "if not os.path.exists('data/processed/'):\n",
    "    os.makedirs('data/processed/')"
   ]
  },
  {
   "cell_type": "code",
   "execution_count": 2,
   "id": "f0b7ceb1",
   "metadata": {},
   "outputs": [],
   "source": [
    "tqdm.pandas()"
   ]
  },
  {
   "cell_type": "code",
   "execution_count": 3,
   "id": "1981c072",
   "metadata": {},
   "outputs": [],
   "source": [
    "SOURCES = ['Apache', 'Hyperledger', 'IntelDAOS', 'JFrog', 'Jira', \n",
    "           'JiraEcosystem', 'MariaDB', 'Mojang', 'MongoDB', \n",
    "           'Qt', 'RedHat', 'Sakai', 'SecondLife', 'Sonatype', 'Spring']"
   ]
  },
  {
   "cell_type": "code",
   "execution_count": 5,
   "id": "f3026273",
   "metadata": {},
   "outputs": [],
   "source": [
    "def load_data(source):\n",
    "    #Loading Issues\n",
    "    filename = '../data/raw/issues_'+source.lower()+'.csv'\n",
    "    issue_df = pd.read_csv(filename, encoding=\"UTF-8\", low_memory=False, sep=';', index_col=['issue_id'])\n",
    "\n",
    "    #Loading Links\n",
    "    filename = '../data/raw/links_'+source.lower()+'.csv'\n",
    "    link_df = pd.read_csv(filename, encoding=\"UTF-8\", low_memory=False, sep=';').drop_duplicates()\n",
    "    \n",
    "    return issue_df, link_df"
   ]
  },
  {
   "cell_type": "code",
   "execution_count": 4,
   "id": "863b71eb",
   "metadata": {},
   "outputs": [],
   "source": [
    "# this function is to identify doubled issue pairs\n",
    "def add_linked_issues_to_df(df):\n",
    "    df['issues']=''\n",
    "    for i in tqdm(range(len(df))):\n",
    "        df[\"issues\"].iloc[i] = str(sorted(set([df.iloc[i]['issue_id_1'], df.iloc[i]['issue_id_2']])))"
   ]
  },
  {
   "cell_type": "code",
   "execution_count": 6,
   "id": "f135e4c3",
   "metadata": {},
   "outputs": [],
   "source": [
    "def clean_issues(issue_df):\n",
    "    #Remove issues with empty titles\n",
    "    issue_df = issue_df[~issue_df['title'].fillna(' ').str.isspace()]\n",
    "    print(f'After filtering out issues with empty titles, {len(issue_df)} issues remain')\n",
    "    \n",
    "    return issue_df"
   ]
  },
  {
   "cell_type": "code",
   "execution_count": 7,
   "id": "f15fdbbe",
   "metadata": {},
   "outputs": [],
   "source": [
    "def clean_links(link_df):    \n",
    "    # remove links with uncrawled and filtered issues\n",
    "    link_df = link_df[link_df[['issue_id_1', 'issue_id_2']].isin(issue_df.index.values).all(axis=1)]\n",
    "    print(f'Left with {len(link_df)} links after removing half-private links')\n",
    "    \n",
    "    # cleanup links\n",
    "    # only allow one linktype per issue-pair\n",
    "    link_df.drop_duplicates(subset=['name'], keep=False, inplace=True)\n",
    "    print(f'Left with {len(link_df)} links after removing issue-pairs with multiple links between them')\n",
    "\n",
    "    # in case the name is the otherway around, like issue-1_issue-2 and issue-2_issue-1\n",
    "    doublelinks = (link_df.issues.value_counts()>1).rename_axis('doubles').reset_index(name='valid')\n",
    "    valid_doubles = set(doublelinks[doublelinks['valid']==True]['doubles'])\n",
    "\n",
    "    for i in tqdm(valid_doubles):\n",
    "        if len(set(link_df[link_df['issues']==i]['linktype']))>1:\n",
    "            link_df = link_df[link_df.issues != i]\n",
    "    print(f'Left with {len(link_df)} links after removing issue-pairs with multiple link types between them')\n",
    "\n",
    "    #Multiple links complete remove\n",
    "    link_df.drop_duplicates(subset=['issues'], inplace=True)\n",
    "    print(f'Left with {len(link_df)} links after removing issue-pairs with multiple entries')\n",
    "\n",
    "    link_df.reset_index(inplace=True, drop=True)\n",
    "    \n",
    "    return link_df"
   ]
  },
  {
   "cell_type": "code",
   "execution_count": 8,
   "id": "3049cb9f",
   "metadata": {},
   "outputs": [],
   "source": [
    "# Creatres non-links from randomly selected issues.\n",
    "import random\n",
    "def create_non_links(issue_df, link_df, linked_pairs):\n",
    "   \n",
    "    non_link_issues = set(issue_df[~issue_df['resolution'].isin(['Duplicate'])].index)\n",
    "    no_issues = len(non_link_issues)\n",
    "    \n",
    "    cols = ['name', 'linktype', 'issue_id_1', 'issue_id_2', 'issues']\n",
    "    non_links_df = pd.DataFrame(columns = cols)\n",
    "\n",
    "    for i in tqdm(range(int(link_df.linktype.value_counts().mean()))):\n",
    "        sample = random.sample(non_link_issues, 2)\n",
    "        if not set([sample[0], sample[1]]) in (linked_pairs):\n",
    "            name = str(sample[0]) + \"_\" + str(sample[1])\n",
    "            non_links_df = non_links_df.append({\n",
    "                \"name\": name,\n",
    "                \"linktype\": \"Non-Link\",\n",
    "                \"issue_id_1\":  sample[0],\n",
    "                \"issue_id_2\":  sample[1],\n",
    "                \"issues\": str(sorted(set([sample[0], sample[1]])))\n",
    "            }, ignore_index=True)\n",
    "        else:\n",
    "            print('hi')\n",
    "        \n",
    "    link_plus_df = link_df.append(non_links_df, ignore_index=True)\n",
    "    \n",
    "    return link_plus_df"
   ]
  },
  {
   "cell_type": "code",
   "execution_count": 18,
   "id": "b42827a1",
   "metadata": {
    "scrolled": true
   },
   "outputs": [
    {
     "name": "stdout",
     "output_type": "stream",
     "text": [
      "APACHE\n",
      "Loaded 1014926 issues and 264107 links\n"
     ]
    },
    {
     "name": "stderr",
     "output_type": "stream",
     "text": [
      "  0%|          | 172/264107 [00:00<05:10, 850.84it/s]"
     ]
    },
    {
     "name": "stdout",
     "output_type": "stream",
     "text": [
      "After filtering out issues with empty titles, 1014925 issues remain\n"
     ]
    },
    {
     "name": "stderr",
     "output_type": "stream",
     "text": [
      "100%|██████████| 264107/264107 [06:09<00:00, 715.57it/s]\n",
      "<ipython-input-7-d8abf72b2809>:8: SettingWithCopyWarning: \n",
      "A value is trying to be set on a copy of a slice from a DataFrame\n",
      "\n",
      "See the caveats in the documentation: https://pandas.pydata.org/pandas-docs/stable/user_guide/indexing.html#returning-a-view-versus-a-copy\n",
      "  link_df.drop_duplicates(subset=['name'], keep=False, inplace=True)\n",
      "  0%|          | 0/2218 [00:00<?, ?it/s]"
     ]
    },
    {
     "name": "stdout",
     "output_type": "stream",
     "text": [
      "Left with 263647 links after removing half-private links\n",
      "Left with 259717 links after removing issue-pairs with multiple links between them\n"
     ]
    },
    {
     "name": "stderr",
     "output_type": "stream",
     "text": [
      "100%|██████████| 2218/2218 [01:21<00:00, 27.17it/s]\n"
     ]
    },
    {
     "name": "stdout",
     "output_type": "stream",
     "text": [
      "Left with 256253 links after removing issue-pairs with multiple link types between them\n",
      "Left with 255767 links after removing issue-pairs with multiple entries\n"
     ]
    },
    {
     "name": "stderr",
     "output_type": "stream",
     "text": [
      "100%|██████████| 11625/11625 [09:15<00:00, 20.92it/s]\n"
     ]
    },
    {
     "name": "stdout",
     "output_type": "stream",
     "text": [
      "Cleaned 1014925 issues and 255767 links\n",
      "Subtask             83783\n",
      "Reference           68973\n",
      "Duplicate           25925\n",
      "Blocker             14377\n",
      "Epic-Relation       12506\n",
      "dependent           12498\n",
      "Incorporates         6923\n",
      "Regression           4350\n",
      "Cloners              4321\n",
      "Required             3620\n",
      "Container            3508\n",
      "Related              3369\n",
      "Supercedes           3248\n",
      "Problem/Incident     3106\n",
      "Child-Issue          2508\n",
      "Blocked              1172\n",
      "Completes             914\n",
      "Dependent             399\n",
      "Dependency            112\n",
      "Testing                79\n",
      "Parent Feature         50\n",
      "Issue split            26\n",
      "Name: linktype, dtype: int64\n",
      "Created link and non_links of size 267392\n",
      "----------------------------\n",
      "\n",
      "HYPERLEDGER\n"
     ]
    },
    {
     "name": "stderr",
     "output_type": "stream",
     "text": [
      "  2%|▏         | 412/16846 [00:00<00:07, 2058.50it/s]"
     ]
    },
    {
     "name": "stdout",
     "output_type": "stream",
     "text": [
      "Loaded 28146 issues and 16846 links\n",
      "After filtering out issues with empty titles, 28146 issues remain\n"
     ]
    },
    {
     "name": "stderr",
     "output_type": "stream",
     "text": [
      "100%|██████████| 16846/16846 [00:08<00:00, 1985.63it/s]\n",
      "<ipython-input-7-d8abf72b2809>:8: SettingWithCopyWarning: \n",
      "A value is trying to be set on a copy of a slice from a DataFrame\n",
      "\n",
      "See the caveats in the documentation: https://pandas.pydata.org/pandas-docs/stable/user_guide/indexing.html#returning-a-view-versus-a-copy\n",
      "  link_df.drop_duplicates(subset=['name'], keep=False, inplace=True)\n",
      " 21%|██        | 29/141 [00:00<00:00, 283.81it/s]"
     ]
    },
    {
     "name": "stdout",
     "output_type": "stream",
     "text": [
      "Left with 16733 links after removing half-private links\n",
      "Left with 16565 links after removing issue-pairs with multiple links between them\n"
     ]
    },
    {
     "name": "stderr",
     "output_type": "stream",
     "text": [
      "100%|██████████| 141/141 [00:00<00:00, 352.72it/s]\n",
      "  5%|▍         | 92/2038 [00:00<00:04, 453.52it/s]"
     ]
    },
    {
     "name": "stdout",
     "output_type": "stream",
     "text": [
      "Left with 16325 links after removing issue-pairs with multiple link types between them\n",
      "Left with 16304 links after removing issue-pairs with multiple entries\n"
     ]
    },
    {
     "name": "stderr",
     "output_type": "stream",
     "text": [
      "100%|██████████| 2038/2038 [00:04<00:00, 439.83it/s]\n"
     ]
    },
    {
     "name": "stdout",
     "output_type": "stream",
     "text": [
      "Cleaned 28146 issues and 16304 links\n",
      "Epic-Relation      6459\n",
      "Subtask            4494\n",
      "Relates            2807\n",
      "Blocks             1344\n",
      "Duplicate           638\n",
      "Cloners             477\n",
      "Issue split          78\n",
      "Git Code Review       7\n",
      "Name: linktype, dtype: int64\n",
      "Created link and non_links of size 18342\n",
      "----------------------------\n",
      "\n",
      "INTELDAOS\n"
     ]
    },
    {
     "name": "stderr",
     "output_type": "stream",
     "text": [
      " 14%|█▍        | 368/2667 [00:00<00:01, 1889.18it/s]"
     ]
    },
    {
     "name": "stdout",
     "output_type": "stream",
     "text": [
      "Loaded 9474 issues and 2667 links\n",
      "After filtering out issues with empty titles, 9474 issues remain\n"
     ]
    },
    {
     "name": "stderr",
     "output_type": "stream",
     "text": [
      "100%|██████████| 2667/2667 [00:01<00:00, 2175.34it/s]\n",
      "100%|██████████| 24/24 [00:00<00:00, 1147.92it/s]\n",
      " 56%|█████▋    | 112/199 [00:00<00:00, 554.69it/s]"
     ]
    },
    {
     "name": "stdout",
     "output_type": "stream",
     "text": [
      "Left with 2667 links after removing half-private links\n",
      "Left with 2641 links after removing issue-pairs with multiple links between them\n",
      "Left with 2605 links after removing issue-pairs with multiple link types between them\n",
      "Left with 2599 links after removing issue-pairs with multiple entries\n"
     ]
    },
    {
     "name": "stderr",
     "output_type": "stream",
     "text": [
      "100%|██████████| 199/199 [00:00<00:00, 549.29it/s]\n"
     ]
    },
    {
     "name": "stdout",
     "output_type": "stream",
     "text": [
      "Cleaned 9474 issues and 2599 links\n",
      "Related                 1016\n",
      "Blocker                  663\n",
      "Subtask                  274\n",
      "Duplicate                252\n",
      "Cloners (migrated)       176\n",
      "Gantt End to Start       100\n",
      "Verify                    39\n",
      "Cloners                   38\n",
      "Implement                 17\n",
      "Gantt End to End          16\n",
      "Relates                    6\n",
      "Blocks                     1\n",
      "Gantt Start to Start       1\n",
      "Name: linktype, dtype: int64\n",
      "Created link and non_links of size 2798\n",
      "----------------------------\n",
      "\n",
      "JFROG\n"
     ]
    },
    {
     "name": "stderr",
     "output_type": "stream",
     "text": [
      " 10%|█         | 336/3303 [00:00<00:01, 1700.58it/s]"
     ]
    },
    {
     "name": "stdout",
     "output_type": "stream",
     "text": [
      "Loaded 15535 issues and 3303 links\n",
      "After filtering out issues with empty titles, 15535 issues remain\n"
     ]
    },
    {
     "name": "stderr",
     "output_type": "stream",
     "text": [
      "100%|██████████| 3303/3303 [00:01<00:00, 2152.88it/s]\n",
      "100%|██████████| 24/24 [00:00<00:00, 1067.92it/s]\n",
      " 37%|███▋      | 108/293 [00:00<00:00, 423.20it/s]"
     ]
    },
    {
     "name": "stdout",
     "output_type": "stream",
     "text": [
      "Left with 3303 links after removing half-private links\n",
      "Left with 3273 links after removing issue-pairs with multiple links between them\n",
      "Left with 3233 links after removing issue-pairs with multiple link types between them\n",
      "Left with 3229 links after removing issue-pairs with multiple entries\n"
     ]
    },
    {
     "name": "stderr",
     "output_type": "stream",
     "text": [
      "100%|██████████| 293/293 [00:00<00:00, 488.28it/s]\n"
     ]
    },
    {
     "name": "stdout",
     "output_type": "stream",
     "text": [
      "Cleaned 15535 issues and 3229 links\n",
      "Subtask                             1164\n",
      "Relationship                         884\n",
      "Duplicate                            643\n",
      "Dependency                           256\n",
      "Trigger                              202\n",
      "Contains(WBSGantt)                    44\n",
      "Cloners                               27\n",
      "Gantt End to End                       4\n",
      "Gantt End to Start                     3\n",
      "Gantt Start to Start                   1\n",
      "Finish-to-Finish link (WBSGantt)       1\n",
      "Name: linktype, dtype: int64\n",
      "Created link and non_links of size 3522\n",
      "----------------------------\n",
      "\n",
      "JIRA\n"
     ]
    },
    {
     "name": "stderr",
     "output_type": "stream",
     "text": [
      "  0%|          | 110/110507 [00:00<01:40, 1095.02it/s]"
     ]
    },
    {
     "name": "stdout",
     "output_type": "stream",
     "text": [
      "Loaded 274545 issues and 110507 links\n",
      "After filtering out issues with empty titles, 274543 issues remain\n"
     ]
    },
    {
     "name": "stderr",
     "output_type": "stream",
     "text": [
      "100%|██████████| 110507/110507 [01:31<00:00, 1211.64it/s]\n",
      "<ipython-input-7-d8abf72b2809>:8: SettingWithCopyWarning: \n",
      "A value is trying to be set on a copy of a slice from a DataFrame\n",
      "\n",
      "See the caveats in the documentation: https://pandas.pydata.org/pandas-docs/stable/user_guide/indexing.html#returning-a-view-versus-a-copy\n",
      "  link_df.drop_duplicates(subset=['name'], keep=False, inplace=True)\n",
      "  1%|          | 7/819 [00:00<00:12, 64.28it/s]"
     ]
    },
    {
     "name": "stdout",
     "output_type": "stream",
     "text": [
      "Left with 102573 links after removing half-private links\n",
      "Left with 101180 links after removing issue-pairs with multiple links between them\n"
     ]
    },
    {
     "name": "stderr",
     "output_type": "stream",
     "text": [
      "100%|██████████| 819/819 [00:09<00:00, 82.02it/s]\n",
      "  0%|          | 0/5253 [00:00<?, ?it/s]"
     ]
    },
    {
     "name": "stdout",
     "output_type": "stream",
     "text": [
      "Left with 100096 links after removing issue-pairs with multiple link types between them\n",
      "Left with 99819 links after removing issue-pairs with multiple entries\n"
     ]
    },
    {
     "name": "stderr",
     "output_type": "stream",
     "text": [
      "100%|██████████| 5253/5253 [00:48<00:00, 108.61it/s]\n"
     ]
    },
    {
     "name": "stdout",
     "output_type": "stream",
     "text": [
      "Cleaned 274543 issues and 99819 links\n",
      "Reference          63347\n",
      "Duplicate          21685\n",
      "Cloners             2866\n",
      "Subtask             2473\n",
      "Part                2449\n",
      "Detail              1870\n",
      "Cause               1784\n",
      "Blocker              987\n",
      "Derived              518\n",
      "Supersession         476\n",
      "Regression           378\n",
      "Relate               262\n",
      "Bonfire Testing      227\n",
      "Split                171\n",
      "Depends              165\n",
      "Resolve               64\n",
      "Follows               49\n",
      "Related               38\n",
      "Issue split           10\n",
      "Name: linktype, dtype: int64\n",
      "Created link and non_links of size 105072\n",
      "----------------------------\n",
      "\n",
      "JIRAECOSYSTEM\n"
     ]
    },
    {
     "name": "stderr",
     "output_type": "stream",
     "text": [
      "  3%|▎         | 432/12439 [00:00<00:05, 2158.38it/s]"
     ]
    },
    {
     "name": "stdout",
     "output_type": "stream",
     "text": [
      "Loaded 41866 issues and 12439 links\n",
      "After filtering out issues with empty titles, 41865 issues remain\n"
     ]
    },
    {
     "name": "stderr",
     "output_type": "stream",
     "text": [
      "100%|██████████| 12439/12439 [00:06<00:00, 2058.97it/s]\n",
      "<ipython-input-7-d8abf72b2809>:8: SettingWithCopyWarning: \n",
      "A value is trying to be set on a copy of a slice from a DataFrame\n",
      "\n",
      "See the caveats in the documentation: https://pandas.pydata.org/pandas-docs/stable/user_guide/indexing.html#returning-a-view-versus-a-copy\n",
      "  link_df.drop_duplicates(subset=['name'], keep=False, inplace=True)\n",
      "100%|██████████| 66/66 [00:00<00:00, 563.22it/s]\n",
      "  8%|▊         | 44/569 [00:00<00:01, 431.90it/s]"
     ]
    },
    {
     "name": "stdout",
     "output_type": "stream",
     "text": [
      "Left with 11598 links after removing half-private links\n",
      "Left with 11514 links after removing issue-pairs with multiple links between them\n",
      "Left with 11414 links after removing issue-pairs with multiple link types between them\n",
      "Left with 11398 links after removing issue-pairs with multiple entries\n"
     ]
    },
    {
     "name": "stderr",
     "output_type": "stream",
     "text": [
      "100%|██████████| 569/569 [00:01<00:00, 405.23it/s]\n"
     ]
    },
    {
     "name": "stdout",
     "output_type": "stream",
     "text": [
      "Cleaned 41865 issues and 11398 links\n",
      "Epic-Relation                   2743\n",
      "Relate                          2468\n",
      "Subtask                         2284\n",
      "Duplicate                       1741\n",
      "Blocker                          676\n",
      "Cause                            440\n",
      "Part                             204\n",
      "Cloners                          201\n",
      "Reference                        145\n",
      "Depends                          127\n",
      "Split                            120\n",
      "Follows                           99\n",
      "Bonfire testing                   56\n",
      "Bonfire Testing                   46\n",
      "Epic                              21\n",
      "Issue split                       16\n",
      "Preceded By                        7\n",
      "Blocks                             2\n",
      "Polaris datapoint issue link       1\n",
      "Polaris issue link                 1\n",
      "Name: linktype, dtype: int64\n",
      "Created link and non_links of size 11967\n",
      "----------------------------\n",
      "\n",
      "MARIADB\n"
     ]
    },
    {
     "name": "stderr",
     "output_type": "stream",
     "text": [
      "  3%|▎         | 410/14950 [00:00<00:07, 2053.66it/s]"
     ]
    },
    {
     "name": "stdout",
     "output_type": "stream",
     "text": [
      "Loaded 31229 issues and 14950 links\n",
      "After filtering out issues with empty titles, 31229 issues remain\n"
     ]
    },
    {
     "name": "stderr",
     "output_type": "stream",
     "text": [
      "100%|██████████| 14950/14950 [00:07<00:00, 1981.24it/s]\n",
      "<ipython-input-7-d8abf72b2809>:8: SettingWithCopyWarning: \n",
      "A value is trying to be set on a copy of a slice from a DataFrame\n",
      "\n",
      "See the caveats in the documentation: https://pandas.pydata.org/pandas-docs/stable/user_guide/indexing.html#returning-a-view-versus-a-copy\n",
      "  link_df.drop_duplicates(subset=['name'], keep=False, inplace=True)\n",
      "100%|██████████| 98/98 [00:00<00:00, 528.33it/s]"
     ]
    },
    {
     "name": "stdout",
     "output_type": "stream",
     "text": [
      "Left with 14929 links after removing half-private links\n",
      "Left with 14773 links after removing issue-pairs with multiple links between them\n",
      "Left with 14659 links after removing issue-pairs with multiple link types between them\n"
     ]
    },
    {
     "name": "stderr",
     "output_type": "stream",
     "text": [
      "\n",
      "  5%|▌         | 94/1827 [00:00<00:03, 459.85it/s]"
     ]
    },
    {
     "name": "stdout",
     "output_type": "stream",
     "text": [
      "Left with 14618 links after removing issue-pairs with multiple entries\n"
     ]
    },
    {
     "name": "stderr",
     "output_type": "stream",
     "text": [
      "100%|██████████| 1827/1827 [00:04<00:00, 443.97it/s]\n"
     ]
    },
    {
     "name": "stdout",
     "output_type": "stream",
     "text": [
      "Cleaned 31229 issues and 14618 links\n",
      "Relates             7464\n",
      "Blocks              1899\n",
      "Duplicate           1374\n",
      "PartOf              1154\n",
      "Epic-Relation        942\n",
      "Subtask              891\n",
      "Problem/Incident     872\n",
      "Issue split           22\n",
      "Name: linktype, dtype: int64\n",
      "Created link and non_links of size 16445\n",
      "----------------------------\n",
      "\n",
      "MINDVILLE\n"
     ]
    },
    {
     "name": "stderr",
     "output_type": "stream",
     "text": [
      "100%|██████████| 46/46 [00:00<00:00, 1960.51it/s]\n",
      "0it [00:00, ?it/s]\n",
      "100%|██████████| 11/11 [00:00<00:00, 596.14it/s]"
     ]
    },
    {
     "name": "stdout",
     "output_type": "stream",
     "text": [
      "Loaded 2134 issues and 46 links\n",
      "After filtering out issues with empty titles, 2134 issues remain\n",
      "Left with 46 links after removing half-private links\n",
      "Left with 44 links after removing issue-pairs with multiple links between them\n",
      "Left with 44 links after removing issue-pairs with multiple link types between them\n",
      "Left with 44 links after removing issue-pairs with multiple entries\n",
      "Cleaned 2134 issues and 44 links\n",
      "Relates      19\n",
      "Duplicate    17\n",
      "Cloners       7\n",
      "Blocks        1\n",
      "Name: linktype, dtype: int64\n",
      "Created link and non_links of size 55\n"
     ]
    },
    {
     "name": "stderr",
     "output_type": "stream",
     "text": [
      "\n"
     ]
    },
    {
     "name": "stdout",
     "output_type": "stream",
     "text": [
      "----------------------------\n",
      "\n",
      "MOJANG\n",
      "Loaded 420819 issues and 215821 links\n"
     ]
    },
    {
     "name": "stderr",
     "output_type": "stream",
     "text": [
      "  0%|          | 190/215821 [00:00<03:47, 946.04it/s]"
     ]
    },
    {
     "name": "stdout",
     "output_type": "stream",
     "text": [
      "After filtering out issues with empty titles, 420806 issues remain\n"
     ]
    },
    {
     "name": "stderr",
     "output_type": "stream",
     "text": [
      "100%|██████████| 215821/215821 [04:11<00:00, 857.98it/s]\n",
      "<ipython-input-7-d8abf72b2809>:8: SettingWithCopyWarning: \n",
      "A value is trying to be set on a copy of a slice from a DataFrame\n",
      "\n",
      "See the caveats in the documentation: https://pandas.pydata.org/pandas-docs/stable/user_guide/indexing.html#returning-a-view-versus-a-copy\n",
      "  link_df.drop_duplicates(subset=['name'], keep=False, inplace=True)\n",
      "  0%|          | 0/73 [00:00<?, ?it/s]"
     ]
    },
    {
     "name": "stdout",
     "output_type": "stream",
     "text": [
      "Left with 215802 links after removing half-private links\n",
      "Left with 215658 links after removing issue-pairs with multiple links between them\n"
     ]
    },
    {
     "name": "stderr",
     "output_type": "stream",
     "text": [
      "100%|██████████| 73/73 [00:02<00:00, 34.37it/s]\n"
     ]
    },
    {
     "name": "stdout",
     "output_type": "stream",
     "text": [
      "Left with 215542 links after removing issue-pairs with multiple link types between them\n",
      "Left with 215527 links after removing issue-pairs with multiple entries\n"
     ]
    },
    {
     "name": "stderr",
     "output_type": "stream",
     "text": [
      "100%|██████████| 43105/43105 [07:52<00:00, 91.32it/s] \n"
     ]
    },
    {
     "name": "stdout",
     "output_type": "stream",
     "text": [
      "Cleaned 420806 issues and 215527 links\n",
      "Duplicate          193989\n",
      "Relates             20377\n",
      "Cloners               650\n",
      "Bonfire Testing       272\n",
      "Blocks                239\n",
      "Name: linktype, dtype: int64\n",
      "Created link and non_links of size 258632\n",
      "----------------------------\n",
      "\n",
      "MONGODB\n"
     ]
    },
    {
     "name": "stderr",
     "output_type": "stream",
     "text": [
      "  0%|          | 233/92362 [00:00<01:17, 1191.27it/s]"
     ]
    },
    {
     "name": "stdout",
     "output_type": "stream",
     "text": [
      "Loaded 137172 issues and 92362 links\n",
      "After filtering out issues with empty titles, 137171 issues remain\n"
     ]
    },
    {
     "name": "stderr",
     "output_type": "stream",
     "text": [
      "100%|██████████| 92362/92362 [01:12<00:00, 1276.86it/s]\n",
      "<ipython-input-7-d8abf72b2809>:8: SettingWithCopyWarning: \n",
      "A value is trying to be set on a copy of a slice from a DataFrame\n",
      "\n",
      "See the caveats in the documentation: https://pandas.pydata.org/pandas-docs/stable/user_guide/indexing.html#returning-a-view-versus-a-copy\n",
      "  link_df.drop_duplicates(subset=['name'], keep=False, inplace=True)\n",
      "  3%|▎         | 11/389 [00:00<00:03, 105.47it/s]"
     ]
    },
    {
     "name": "stdout",
     "output_type": "stream",
     "text": [
      "Left with 65240 links after removing half-private links\n",
      "Left with 64537 links after removing issue-pairs with multiple links between them\n"
     ]
    },
    {
     "name": "stderr",
     "output_type": "stream",
     "text": [
      "100%|██████████| 389/389 [00:03<00:00, 107.69it/s]\n",
      "  1%|          | 53/4254 [00:00<00:16, 260.38it/s]"
     ]
    },
    {
     "name": "stdout",
     "output_type": "stream",
     "text": [
      "Left with 63883 links after removing issue-pairs with multiple link types between them\n",
      "Left with 63821 links after removing issue-pairs with multiple entries\n"
     ]
    },
    {
     "name": "stderr",
     "output_type": "stream",
     "text": [
      "100%|██████████| 4254/4254 [00:17<00:00, 243.71it/s]\n"
     ]
    },
    {
     "name": "stdout",
     "output_type": "stream",
     "text": [
      "Cleaned 137171 issues and 63821 links\n",
      "Related                 25471\n",
      "Depends                 13933\n",
      "Epic-Relation           10149\n",
      "Duplicate                8587\n",
      "Documented               1825\n",
      "Problem/Incident         1082\n",
      "Subtask                   888\n",
      "Issue split               752\n",
      "Gantt Dependency          657\n",
      "Cloners                   202\n",
      "Backports                 170\n",
      "Tested                     62\n",
      "Gantt End to End           41\n",
      "Gantt Start to Start        1\n",
      "Initiative                  1\n",
      "Name: linktype, dtype: int64\n",
      "Created link and non_links of size 68075\n",
      "----------------------------\n",
      "\n",
      "QT\n"
     ]
    },
    {
     "name": "stderr",
     "output_type": "stream",
     "text": [
      "  1%|          | 292/41426 [00:00<00:27, 1485.98it/s]"
     ]
    },
    {
     "name": "stdout",
     "output_type": "stream",
     "text": [
      "Loaded 148579 issues and 41426 links\n",
      "After filtering out issues with empty titles, 148579 issues remain\n"
     ]
    },
    {
     "name": "stderr",
     "output_type": "stream",
     "text": [
      "100%|██████████| 41426/41426 [00:24<00:00, 1669.79it/s]\n",
      "<ipython-input-7-d8abf72b2809>:8: SettingWithCopyWarning: \n",
      "A value is trying to be set on a copy of a slice from a DataFrame\n",
      "\n",
      "See the caveats in the documentation: https://pandas.pydata.org/pandas-docs/stable/user_guide/indexing.html#returning-a-view-versus-a-copy\n",
      "  link_df.drop_duplicates(subset=['name'], keep=False, inplace=True)\n",
      " 11%|█         | 19/171 [00:00<00:00, 180.49it/s]"
     ]
    },
    {
     "name": "stdout",
     "output_type": "stream",
     "text": [
      "Left with 40646 links after removing half-private links\n",
      "Left with 40424 links after removing issue-pairs with multiple links between them\n"
     ]
    },
    {
     "name": "stderr",
     "output_type": "stream",
     "text": [
      "100%|██████████| 171/171 [00:00<00:00, 181.61it/s]\n",
      "  1%|▏         | 47/3342 [00:00<00:14, 232.24it/s]"
     ]
    },
    {
     "name": "stdout",
     "output_type": "stream",
     "text": [
      "Left with 40128 links after removing issue-pairs with multiple link types between them\n",
      "Left with 40105 links after removing issue-pairs with multiple entries\n"
     ]
    },
    {
     "name": "stderr",
     "output_type": "stream",
     "text": [
      "100%|██████████| 3342/3342 [00:15<00:00, 218.77it/s]\n"
     ]
    },
    {
     "name": "stdout",
     "output_type": "stream",
     "text": [
      "Cleaned 148579 issues and 40105 links\n",
      "Subtask           9804\n",
      "Relates           8990\n",
      "Dependency        6260\n",
      "Epic-Relation     5428\n",
      "Duplicate         4243\n",
      "Work Breakdown    2667\n",
      "Replacement       2582\n",
      "Test                50\n",
      "Cloners             34\n",
      "Issue split         31\n",
      "Blocks              14\n",
      "Covered              2\n",
      "Name: linktype, dtype: int64\n",
      "Created link and non_links of size 43447\n",
      "----------------------------\n",
      "\n",
      "REDHAT\n",
      "Loaded 353000 issues and 127369 links\n",
      "After filtering out issues with empty titles, 352999 issues remain\n"
     ]
    },
    {
     "name": "stderr",
     "output_type": "stream",
     "text": [
      "100%|██████████| 127369/127369 [01:53<00:00, 1125.98it/s]\n",
      "<ipython-input-7-d8abf72b2809>:8: SettingWithCopyWarning: \n",
      "A value is trying to be set on a copy of a slice from a DataFrame\n",
      "\n",
      "See the caveats in the documentation: https://pandas.pydata.org/pandas-docs/stable/user_guide/indexing.html#returning-a-view-versus-a-copy\n",
      "  link_df.drop_duplicates(subset=['name'], keep=False, inplace=True)\n",
      "  0%|          | 0/1205 [00:00<?, ?it/s]"
     ]
    },
    {
     "name": "stdout",
     "output_type": "stream",
     "text": [
      "Left with 123000 links after removing half-private links\n",
      "Left with 121612 links after removing issue-pairs with multiple links between them\n"
     ]
    },
    {
     "name": "stderr",
     "output_type": "stream",
     "text": [
      "100%|██████████| 1205/1205 [00:18<00:00, 63.57it/s]\n"
     ]
    },
    {
     "name": "stdout",
     "output_type": "stream",
     "text": [
      "Left with 120136 links after removing issue-pairs with multiple link types between them\n",
      "Left with 119669 links after removing issue-pairs with multiple entries\n"
     ]
    },
    {
     "name": "stderr",
     "output_type": "stream",
     "text": [
      "100%|██████████| 5698/5698 [01:42<00:00, 55.75it/s]\n"
     ]
    },
    {
     "name": "stdout",
     "output_type": "stream",
     "text": [
      "Cleaned 352999 issues and 119669 links\n",
      "Related                          31006\n",
      "Subtask                          24928\n",
      "Blocks                           18186\n",
      "Cloners                          16969\n",
      "Superset                         10661\n",
      "Duplicate                         5913\n",
      "Sequence                          5129\n",
      "Causality                         3168\n",
      "Cloners (old)                     1504\n",
      "Documentation                      670\n",
      "Parent-Relation                    621\n",
      "multi-level hierarchy [GANTT]      251\n",
      "finish-start [GANTT]               184\n",
      "Account                            166\n",
      "Issue split                        162\n",
      "Gantt: finish-start                 46\n",
      "finish-finish [GANTT]               40\n",
      "Gantt: start-finish                 40\n",
      "Gantt: finish-finish                20\n",
      "start-finish [GANTT]                 4\n",
      "Gantt: start-start                   1\n",
      "Name: linktype, dtype: int64\n",
      "Created link and non_links of size 125367\n",
      "----------------------------\n",
      "\n",
      "SAKAI\n"
     ]
    },
    {
     "name": "stderr",
     "output_type": "stream",
     "text": [
      "  2%|▏         | 392/20292 [00:00<00:10, 1951.32it/s]"
     ]
    },
    {
     "name": "stdout",
     "output_type": "stream",
     "text": [
      "Loaded 50550 issues and 20292 links\n",
      "After filtering out issues with empty titles, 50550 issues remain\n"
     ]
    },
    {
     "name": "stderr",
     "output_type": "stream",
     "text": [
      "100%|██████████| 20292/20292 [00:10<00:00, 1856.60it/s]\n",
      " 27%|██▋       | 38/143 [00:00<00:00, 376.59it/s]"
     ]
    },
    {
     "name": "stdout",
     "output_type": "stream",
     "text": [
      "Left with 20292 links after removing half-private links\n",
      "Left with 20040 links after removing issue-pairs with multiple links between them\n"
     ]
    },
    {
     "name": "stderr",
     "output_type": "stream",
     "text": [
      "100%|██████████| 143/143 [00:00<00:00, 390.85it/s]\n",
      "  2%|▏         | 41/2475 [00:00<00:05, 406.77it/s]"
     ]
    },
    {
     "name": "stdout",
     "output_type": "stream",
     "text": [
      "Left with 19852 links after removing issue-pairs with multiple link types between them\n",
      "Left with 19803 links after removing issue-pairs with multiple entries\n"
     ]
    },
    {
     "name": "stderr",
     "output_type": "stream",
     "text": [
      "100%|██████████| 2475/2475 [00:06<00:00, 382.39it/s]\n"
     ]
    },
    {
     "name": "stdout",
     "output_type": "stream",
     "text": [
      "Cleaned 50550 issues and 19803 links\n",
      "1 - Relate             9711\n",
      "Subtask                3373\n",
      "5 - Depend             2578\n",
      "3 - Duplicate          1851\n",
      "4 - Incorporate        1334\n",
      "2 - Cloned              949\n",
      "6 - Blocks                6\n",
      "7 - Git Code Review       1\n",
      "Name: linktype, dtype: int64\n",
      "Created link and non_links of size 22278\n",
      "----------------------------\n",
      "\n",
      "SECONDLIFE\n"
     ]
    },
    {
     "name": "stderr",
     "output_type": "stream",
     "text": [
      " 66%|██████▌   | 446/674 [00:00<00:00, 2228.52it/s]"
     ]
    },
    {
     "name": "stdout",
     "output_type": "stream",
     "text": [
      "Loaded 1867 issues and 674 links\n",
      "After filtering out issues with empty titles, 1867 issues remain\n"
     ]
    },
    {
     "name": "stderr",
     "output_type": "stream",
     "text": [
      "100%|██████████| 674/674 [00:00<00:00, 2216.76it/s]\n",
      "100%|██████████| 17/17 [00:00<00:00, 1566.41it/s]\n",
      "100%|██████████| 105/105 [00:00<00:00, 594.63it/s]"
     ]
    },
    {
     "name": "stdout",
     "output_type": "stream",
     "text": [
      "Left with 674 links after removing half-private links\n",
      "Left with 662 links after removing issue-pairs with multiple links between them\n",
      "Left with 634 links after removing issue-pairs with multiple link types between them\n",
      "Left with 631 links after removing issue-pairs with multiple entries\n"
     ]
    },
    {
     "name": "stderr",
     "output_type": "stream",
     "text": [
      "\n"
     ]
    },
    {
     "name": "stdout",
     "output_type": "stream",
     "text": [
      "Cleaned 1867 issues and 631 links\n",
      "Subtask         314\n",
      "Relates         186\n",
      "Cloners          48\n",
      "Parent/Child     41\n",
      "Depends          28\n",
      "Collection       14\n",
      "Name: linktype, dtype: int64\n",
      "Created link and non_links of size 736\n",
      "----------------------------\n",
      "\n",
      "SONATYPE\n"
     ]
    },
    {
     "name": "stderr",
     "output_type": "stream",
     "text": [
      "  9%|▉         | 442/4975 [00:00<00:02, 2197.08it/s]"
     ]
    },
    {
     "name": "stdout",
     "output_type": "stream",
     "text": [
      "Loaded 87284 issues and 4975 links\n",
      "After filtering out issues with empty titles, 87282 issues remain\n"
     ]
    },
    {
     "name": "stderr",
     "output_type": "stream",
     "text": [
      "100%|██████████| 4975/4975 [00:02<00:00, 2156.53it/s]\n",
      "<ipython-input-7-d8abf72b2809>:8: SettingWithCopyWarning: \n",
      "A value is trying to be set on a copy of a slice from a DataFrame\n",
      "\n",
      "See the caveats in the documentation: https://pandas.pydata.org/pandas-docs/stable/user_guide/indexing.html#returning-a-view-versus-a-copy\n",
      "  link_df.drop_duplicates(subset=['name'], keep=False, inplace=True)\n",
      "100%|██████████| 17/17 [00:00<00:00, 823.20it/s]\n",
      " 15%|█▌        | 61/405 [00:00<00:01, 302.75it/s]"
     ]
    },
    {
     "name": "stdout",
     "output_type": "stream",
     "text": [
      "Left with 4534 links after removing half-private links\n",
      "Left with 4498 links after removing issue-pairs with multiple links between them\n",
      "Left with 4466 links after removing issue-pairs with multiple link types between them\n",
      "Left with 4465 links after removing issue-pairs with multiple entries\n"
     ]
    },
    {
     "name": "stderr",
     "output_type": "stream",
     "text": [
      "100%|██████████| 405/405 [00:01<00:00, 296.83it/s]\n"
     ]
    },
    {
     "name": "stdout",
     "output_type": "stream",
     "text": [
      "Cleaned 87282 issues and 4465 links\n",
      "Relates            1785\n",
      "Subtask            1343\n",
      "Bonfire Testing     361\n",
      "Duplicate           342\n",
      "Caused              235\n",
      "dependent           162\n",
      "Supercedes          108\n",
      "Fixes               103\n",
      "Implements           11\n",
      "Epic-Relation         9\n",
      "Issue split           6\n",
      "Name: linktype, dtype: int64\n",
      "Created link and non_links of size 4870\n",
      "----------------------------\n",
      "\n",
      "SPRING\n"
     ]
    },
    {
     "name": "stderr",
     "output_type": "stream",
     "text": [
      "  2%|▏         | 302/14716 [00:00<00:09, 1500.21it/s]"
     ]
    },
    {
     "name": "stdout",
     "output_type": "stream",
     "text": [
      "Loaded 69156 issues and 14716 links\n",
      "After filtering out issues with empty titles, 69156 issues remain\n"
     ]
    },
    {
     "name": "stderr",
     "output_type": "stream",
     "text": [
      "100%|██████████| 14716/14716 [00:07<00:00, 1930.40it/s]\n",
      "<ipython-input-7-d8abf72b2809>:8: SettingWithCopyWarning: \n",
      "A value is trying to be set on a copy of a slice from a DataFrame\n",
      "\n",
      "See the caveats in the documentation: https://pandas.pydata.org/pandas-docs/stable/user_guide/indexing.html#returning-a-view-versus-a-copy\n",
      "  link_df.drop_duplicates(subset=['name'], keep=False, inplace=True)\n",
      "100%|██████████| 52/52 [00:00<00:00, 484.64it/s]\n",
      "  2%|▏         | 38/1606 [00:00<00:04, 372.53it/s]"
     ]
    },
    {
     "name": "stdout",
     "output_type": "stream",
     "text": [
      "Left with 14616 links after removing half-private links\n",
      "Left with 14550 links after removing issue-pairs with multiple links between them\n",
      "Left with 14478 links after removing issue-pairs with multiple link types between them\n",
      "Left with 14462 links after removing issue-pairs with multiple entries\n"
     ]
    },
    {
     "name": "stderr",
     "output_type": "stream",
     "text": [
      "100%|██████████| 1606/1606 [00:04<00:00, 354.80it/s]\n"
     ]
    },
    {
     "name": "stdout",
     "output_type": "stream",
     "text": [
      "Cleaned 69156 issues and 14462 links\n",
      "Relate           5909\n",
      "Subtask          1941\n",
      "Duplicate        1745\n",
      "Epic-Relation    1635\n",
      "Depend           1259\n",
      "Related           993\n",
      "Depends           488\n",
      "Supersede         478\n",
      "Cloners            14\n",
      "Name: linktype, dtype: int64\n",
      "Created link and non_links of size 16068\n",
      "----------------------------\n",
      "\n"
     ]
    }
   ],
   "source": [
    "for s in SOURCES:\n",
    "    print(s.upper())\n",
    "    issue_df, link_df = load_data(s)\n",
    "    issue_df.to_csv('data/processed/issues_'+s.lower()+'.csv', encoding='utf-8', index=True, sep=';')\n",
    "    \n",
    "    print(f'Loaded {len(issue_df)} issues and {len(link_df)} links')\n",
    "    \n",
    "    issue_df = clean_issues(issue_df)\n",
    "    \n",
    "    add_linked_issues_to_df(link_df)\n",
    "    \n",
    "    linked_pairs = set(link_df['issues'])\n",
    "    \n",
    "    link_df = clean_links(link_df)\n",
    "    link_plus_df = create_non_links(issue_df, link_df, linked_pairs)\n",
    "    \n",
    "    print(f'Cleaned {len(issue_df)} issues and {len(link_df)} links')\n",
    "    \n",
    "    link_df.to_csv('data/processed/links_'+s.lower()+'.csv', encoding='utf-8', index=True, sep=';')\n",
    "    \n",
    "    print(link_df.linktype.value_counts())\n",
    "    \n",
    "    print(f'Created link and non_links of size {len(link_plus_df)}')\n",
    "    \n",
    "    link_plus_df.to_csv('data/processed/links_plus_'+s.lower()+'.csv', encoding='utf-8', index=True, sep=';')\n",
    "    print(\"----------------------------\")\n",
    "    print()"
   ]
  },
  {
   "cell_type": "code",
   "execution_count": null,
   "id": "071f64fb",
   "metadata": {},
   "outputs": [],
   "source": []
  }
 ],
 "metadata": {
  "kernelspec": {
   "display_name": "Python 3",
   "language": "python",
   "name": "python3"
  },
  "language_info": {
   "codemirror_mode": {
    "name": "ipython",
    "version": 3
   },
   "file_extension": ".py",
   "mimetype": "text/x-python",
   "name": "python",
   "nbconvert_exporter": "python",
   "pygments_lexer": "ipython3",
   "version": "3.9.2"
  }
 },
 "nbformat": 4,
 "nbformat_minor": 5
}
