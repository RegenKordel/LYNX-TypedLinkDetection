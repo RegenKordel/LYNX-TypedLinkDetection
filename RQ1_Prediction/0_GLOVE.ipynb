{
 "cells": [
  {
   "cell_type": "markdown",
   "id": "c1ff0e31",
   "metadata": {},
   "source": [
    "# Load Modules"
   ]
  },
  {
   "cell_type": "code",
   "execution_count": 1,
   "id": "b40f002b",
   "metadata": {},
   "outputs": [
    {
     "name": "stderr",
     "output_type": "stream",
     "text": [
      "/export/home/lueders/LYNX-venv/lib/python3.8/site-packages/gensim/similarities/__init__.py:15: UserWarning: The gensim.similarities.levenshtein submodule is disabled, because the optional Levenshtein package <https://pypi.org/project/python-Levenshtein/> is unavailable. Install Levenhstein (e.g. `pip install python-Levenshtein`) to suppress this warning.\n",
      "  warnings.warn(msg)\n",
      "/export/home/lueders/LYNX-venv/lib/python3.8/site-packages/tensorflow_addons/utils/ensure_tf_install.py:53: UserWarning: Tensorflow Addons supports using Python ops for all Tensorflow versions above or equal to 2.3.0 and strictly below 2.6.0 (nightly versions are not supported). \n",
      " The versions of TensorFlow you are currently using is 2.7.0 and is not supported. \n",
      "Some things might work, some things might not.\n",
      "If you were to encounter a bug, do not file an issue.\n",
      "If you want to make sure you're using a tested and supported configuration, either change the TensorFlow version or the TensorFlow Addons's version. \n",
      "You can find the compatibility matrix in TensorFlow Addon's readme:\n",
      "https://github.com/tensorflow/addons\n",
      "  warnings.warn(\n"
     ]
    }
   ],
   "source": [
    "import pandas as pd\n",
    "import numpy as np\n",
    "\n",
    "import matplotlib.pyplot as plt\n",
    "\n",
    "from gensim.models import Word2Vec\n",
    "\n",
    "import tensorflow as tf\n",
    "from tensorflow.keras.layers import Embedding, Input\n",
    "from tensorflow.keras.initializers import Constant\n",
    "from tensorflow.keras.models import Model\n",
    "\n",
    "from tensorflow.keras.backend import expand_dims\n",
    "from tensorflow.keras.layers import Conv1D, Conv2D, BatchNormalization, Reshape, MaxPooling2D, Flatten, Concatenate, Dropout\n",
    "from tensorflow.keras.layers import Dense\n",
    "\n",
    "from tensorflow.keras.preprocessing.text import Tokenizer\n",
    "from tensorflow.keras.preprocessing.sequence import pad_sequences\n",
    "from tensorflow.keras.layers import Embedding\n",
    "\n",
    "import keras\n",
    "import tensorflow_addons as tfa\n",
    "\n",
    "from sklearn.model_selection import train_test_split\n",
    "\n",
    "from sklearn.svm import LinearSVC\n",
    "from sklearn.svm import SVC\n",
    "from sklearn.metrics import classification_report, confusion_matrix"
   ]
  },
  {
   "cell_type": "code",
   "execution_count": 2,
   "id": "568da6b8",
   "metadata": {},
   "outputs": [
    {
     "name": "stdout",
     "output_type": "stream",
     "text": [
      "Creating embeddings.\n",
      "Found 1917494 word vectors.\n"
     ]
    }
   ],
   "source": [
    "print(\"Creating embeddings.\")\n",
    "embeddings_index = {}\n",
    "# add glove directory here\n",
    "with open('') as f:\n",
    "    for line in f:\n",
    "        word, coefs = line.split(maxsplit=1)\n",
    "        coefs = np.fromstring(coefs, 'f', sep=' ')\n",
    "        embeddings_index[word] = coefs\n",
    "\n",
    "print('Found %s word vectors.' % len(embeddings_index))\n",
    "\n",
    "unknown_words =[]"
   ]
  },
  {
   "cell_type": "markdown",
   "id": "8fafcf2e",
   "metadata": {},
   "source": [
    "# Variables & Dictionaries"
   ]
  },
  {
   "cell_type": "code",
   "execution_count": null,
   "id": "clean-example",
   "metadata": {},
   "outputs": [],
   "source": [
    "def calc_max_seq_len(data_df):\n",
    "    titles = data_df['title']\n",
    "    title_lengths = (titles.str.count(' ')+1).fillna(0).astype(np.int)\n",
    "    max_title_len = title_lengths.quantile(0.95, interpolation='higher')\n",
    "    print(max_title_len)\n",
    "\n",
    "    descriptions = data_df['description']\n",
    "    desc_lengths = (descriptions.str.count(' ')+1).fillna(0).astype(np.int)\n",
    "    max_desc_len = desc_lengths.quantile(0.95, interpolation='higher')\n",
    "    print(max_desc_len)\n",
    "    \n",
    "    return max_title_len + max_desc_len"
   ]
  },
  {
   "cell_type": "code",
   "execution_count": 4,
   "id": "8b942d87",
   "metadata": {},
   "outputs": [],
   "source": [
    "SOURCE = \"apache\"\n",
    "## 'apache', 243k, \n",
    "# 'mojang', 200k, \n",
    "## 'redhat', 106k\n",
    "# 'jira', 98k\n",
    "\n",
    "# 'mongodb', 38k\n",
    "# 'qt', 36k\n",
    "\n",
    "# 'sakai', 19k\n",
    "# 'hyperledger', 16k \n",
    "# 'mariadb', 15k\n",
    "# 'spring', 14k\n",
    "# 'jiraecosystem', 11k\n",
    "\n",
    "# 'sonatype', 4k, small\n",
    "# 'jfrog', 3k, small\n",
    "#'inteldaos', 3k too small DOES NOT WORK without properties\n",
    "\n",
    "# 'secondlife', 630 too small\n",
    "## 'mindville', 44 too small DOES NOT WORK\n",
    "\n",
    "NL = True"
   ]
  },
  {
   "cell_type": "code",
   "execution_count": 5,
   "id": "6d075377",
   "metadata": {},
   "outputs": [],
   "source": [
    "type_dict={'Backports': 'Backport', \n",
    "           \n",
    "    'Blocked': 'Block',\n",
    "    'Blocker': 'Block',\n",
    "    'Blocks': 'Block',\n",
    "           \n",
    "    'Bonfire Testing': 'Bonfire Testing', \n",
    "    'Bonfire testing': 'Bonfire Testing', \n",
    "    'Git Code Review': 'Bonfire Testing', \n",
    "    'Testing': 'Bonfire Testing',\n",
    "           \n",
    "    'Causality': 'Cause', \n",
    "    'Cause': 'Cause',\n",
    "    'Caused': 'Cause', \n",
    "    'Problem/Incident': 'Cause',\n",
    "           \n",
    "    'Child-Issue': 'Parent-Child', \n",
    "    'Parent Feature': 'Parent-Child',\n",
    "    'Parent/Child': 'Parent-Child',\n",
    "    'multi-level hierarchy [GANTT]': 'Parent-Child',\n",
    "    'Parent-Relation': 'Parent-Child',\n",
    "           \n",
    "    'Cloners': 'Clone', \n",
    "    'Cloners (old)': 'Clone', \n",
    "           \n",
    "    'Collection': 'Incorporate', \n",
    "    'Container': 'Incorporate',\n",
    "    'Contains(WBSGantt)': 'Incorporate', \n",
    "    'Incorporate': 'Incorporate', \n",
    "    'Incorporates': 'Incorporate', \n",
    "    'Part': 'Incorporate',\n",
    "    'PartOf': 'Incorporate',\n",
    "    'Superset': 'Incorporate', \n",
    "           \n",
    "    'Completes': 'Fix', \n",
    "    'Fixes': 'Fix',\n",
    "    'Resolve': 'Fix',\n",
    "           \n",
    "    'Depend': 'Depend', \n",
    "    'Dependency': 'Depend', \n",
    "    'Dependent': 'Depend', \n",
    "    'Depends': 'Depend', \n",
    "    'Gantt Dependency': 'Depend',\n",
    "    'dependent': 'Depend',\n",
    "           \n",
    "    'Derived': 'Derive',\n",
    "           \n",
    "    'Detail': 'Detail', \n",
    "           \n",
    "    'Documentation': 'Documented',\n",
    "    'Documented': 'Documented',\n",
    "    \n",
    "    'Duplicate': 'Duplicate',\n",
    "           \n",
    "    'Epic': 'Epic', \n",
    "    'Epic-Relation': 'Epic',\n",
    "    \n",
    "    'Finish-to-Finish link (WBSGantt)': 'finish-finish', \n",
    "    'Gantt End to End': 'finish-finish', \n",
    "    'Gantt: finish-finish': 'finish-finish',\n",
    "    'finish-finish [GANTT]': 'finish-finish', \n",
    "    \n",
    "    'Gantt End to Start': 'finish-start', \n",
    "    'Gantt: finish-start': 'finish-start',\n",
    "    'finish-start [GANTT]': 'finish-start',\n",
    "\n",
    "    'Gantt Start to Start': 'start-start', \n",
    "    \n",
    "    'Gantt: start-finish': 'start-finish', \n",
    "    \n",
    "    'Follows': 'Follow', \n",
    "    'Sequence': 'Follow', \n",
    "    \n",
    "    'Implement': 'Implement', \n",
    "    'Implements': 'Implements', \n",
    "    \n",
    "    'Issue split': 'Split',\n",
    "    'Split': 'Split',\n",
    "    'Work Breakdown': 'Split',\n",
    "    \n",
    "    'Preceded By': 'Precede', \n",
    "    \n",
    "    'Reference': 'Relate',\n",
    "    'Relate': 'Relate',\n",
    "    'Related': 'Relate', \n",
    "    'Relates': 'Relate',\n",
    "    'Relationship': 'Relate',\n",
    "    \n",
    "    'Regression': 'Breaks', \n",
    "    \n",
    "    'Replacement': 'Replace',\n",
    "    \n",
    "    'Required': 'Require', \n",
    "    \n",
    "    'Supercedes': 'Supercede',\n",
    "    'Supersede': 'Supercede',\n",
    "    'Supersession': 'Supercede', \n",
    "    \n",
    "    'Subtask': 'Subtask',\n",
    "    \n",
    "    'Test': 'Test', \n",
    "    'Tested': 'Test',\n",
    "    \n",
    "    'Trigger': 'Trigger'}"
   ]
  },
  {
   "cell_type": "markdown",
   "id": "ce9b5f6b",
   "metadata": {},
   "source": [
    "## Load Data"
   ]
  },
  {
   "cell_type": "code",
   "execution_count": 6,
   "id": "ea555304",
   "metadata": {},
   "outputs": [
    {
     "name": "stdout",
     "output_type": "stream",
     "text": [
      "Number of Issues: 140237\n",
      "Feature Size: 9\n",
      "Number of Links: 35855\n",
      "Feature Size: 5\n"
     ]
    }
   ],
   "source": [
    "#Loading Issues & Links\n",
    "filename = '../../data/processed/issues_'+SOURCE.lower()+'.csv'\n",
    "issues = pd.read_csv(filename, encoding=\"UTF-8\", low_memory=False, index_col=['issue_id'], sep=\";\")\n",
    "print(\"Number of Issues: \" + str(len(issues)))\n",
    "print(\"Feature Size: \" + str(len(list(issues.columns.values))))\n",
    "\n",
    "if NL:\n",
    "    filename = '../../data/processed/links_plus_'+SOURCE.lower()+'.csv'\n",
    "    links = pd.read_csv(filename, encoding=\"UTF-8\", low_memory=False, index_col=0, sep=\";\")\n",
    "    print(\"Number of Links: \" + str(len(links)))\n",
    "    print(\"Feature Size: \"+str(len(list(links.columns.values))))\n",
    "else:\n",
    "    filename = '../../data/processed/links_'+SOURCE.lower()+'.csv'\n",
    "    links = pd.read_csv(filename, encoding=\"UTF-8\", low_memory=False, index_col=0, sep=\";\")\n",
    "    print(\"Number of Links: \" + str(len(links)))\n",
    "    print(\"Feature Size: \"+str(len(list(links.columns.values))))"
   ]
  },
  {
   "cell_type": "code",
   "execution_count": null,
   "id": "colored-retro",
   "metadata": {},
   "outputs": [],
   "source": [
    "MAX_SEQUENCE_LENGTH = calc_max_seq_len(issues)\n",
    "print(MAX_SEQUENCE_LENGTH)"
   ]
  },
  {
   "cell_type": "code",
   "execution_count": 7,
   "id": "ab25c675",
   "metadata": {},
   "outputs": [
    {
     "name": "stderr",
     "output_type": "stream",
     "text": [
      "2021-12-08 11:16:52 INFO: Loading these models for language: en (English):\n",
      "========================\n",
      "| Processor | Package  |\n",
      "------------------------\n",
      "| tokenize  | combined |\n",
      "========================\n",
      "\n",
      "2021-12-08 11:16:52 INFO: Use device: gpu\n",
      "2021-12-08 11:16:52 INFO: Loading: tokenize\n",
      "2021-12-08 11:16:55 INFO: Done loading processors!\n"
     ]
    }
   ],
   "source": [
    "import stanza\n",
    "\n",
    "nlp = stanza.Pipeline(lang='en', processors='tokenize')"
   ]
  },
  {
   "cell_type": "markdown",
   "id": "594de8ff",
   "metadata": {},
   "source": [
    "## Links preprocess"
   ]
  },
  {
   "cell_type": "code",
   "execution_count": 11,
   "id": "65653009",
   "metadata": {},
   "outputs": [
    {
     "data": {
      "text/plain": [
       "Subtask           8532\n",
       "Relates           8015\n",
       "Dependency        5884\n",
       "Epic-Relation     4729\n",
       "Duplicate         3827\n",
       "Replacement       2542\n",
       "Work Breakdown    2279\n",
       "Test                47\n",
       "Name: linktype, dtype: int64"
      ]
     },
     "execution_count": 11,
     "metadata": {},
     "output_type": "execute_result"
    }
   ],
   "source": [
    "links.linktype.value_counts()"
   ]
  },
  {
   "cell_type": "code",
   "execution_count": 12,
   "id": "82dd5b5c",
   "metadata": {},
   "outputs": [
    {
     "data": {
      "text/plain": [
       "Subtask      8532\n",
       "Relate       8015\n",
       "Depend       5884\n",
       "Epic         4729\n",
       "Duplicate    3827\n",
       "Replace      2542\n",
       "Split        2279\n",
       "Test           47\n",
       "Name: mappedtype, dtype: int64"
      ]
     },
     "execution_count": 12,
     "metadata": {},
     "output_type": "execute_result"
    }
   ],
   "source": [
    "links['mappedtype'] = links['linktype'].map(type_dict)\n",
    "links.mappedtype.value_counts()"
   ]
  },
  {
   "cell_type": "code",
   "execution_count": 13,
   "id": "62007171",
   "metadata": {},
   "outputs": [
    {
     "data": {
      "text/plain": [
       "Subtask       True\n",
       "Relate        True\n",
       "Depend        True\n",
       "Epic          True\n",
       "Duplicate     True\n",
       "Replace       True\n",
       "Split         True\n",
       "Test         False\n",
       "Name: mappedtype, dtype: bool"
      ]
     },
     "execution_count": 13,
     "metadata": {},
     "output_type": "execute_result"
    }
   ],
   "source": [
    "links.mappedtype.value_counts()>=len(links)*0.01"
   ]
  },
  {
   "cell_type": "code",
   "execution_count": 14,
   "id": "0d5afc21",
   "metadata": {},
   "outputs": [
    {
     "name": "stderr",
     "output_type": "stream",
     "text": [
      "/tmp/ipykernel_3849026/4001403793.py:6: SettingWithCopyWarning: \n",
      "A value is trying to be set on a copy of a slice from a DataFrame.\n",
      "Try using .loc[row_indexer,col_indexer] = value instead\n",
      "\n",
      "See the caveats in the documentation: https://pandas.pydata.org/pandas-docs/stable/user_guide/indexing.html#returning-a-view-versus-a-copy\n",
      "  all_data['label'] = all_data['mappedtype'].factorize()[0].astype(int)\n"
     ]
    }
   ],
   "source": [
    "linktypes = (links.mappedtype.value_counts()>=len(links)*0.01).rename_axis('mappedtype').reset_index(name='valid')\n",
    "valid_types = set(linktypes[linktypes['valid']==True]['mappedtype'])\n",
    "\n",
    "all_data = links[(links[\"mappedtype\"].isin(valid_types))]\n",
    "\n",
    "all_data['label'] = all_data['mappedtype'].factorize()[0].astype(int)"
   ]
  },
  {
   "cell_type": "code",
   "execution_count": 15,
   "id": "b3e58930",
   "metadata": {},
   "outputs": [
    {
     "name": "stdout",
     "output_type": "stream",
     "text": [
      "Categories: 7\n",
      "Categories: {0: 'Duplicate', 1: 'Relate', 2: 'Split', 3: 'Depend', 4: 'Replace', 5: 'Subtask', 6: 'Epic'}\n"
     ]
    }
   ],
   "source": [
    "category_id_df = all_data[['mappedtype', 'label']].drop_duplicates().sort_values('label')\n",
    "category_to_id = dict(category_id_df.values)\n",
    "id_to_category = dict(category_id_df[['label', 'mappedtype']].values)\n",
    "\n",
    "print(\"Categories: \"+str(len(id_to_category)))\n",
    "print(\"Categories: \"+str(id_to_category))"
   ]
  },
  {
   "cell_type": "markdown",
   "id": "0b43a580",
   "metadata": {},
   "source": [
    "## Features / Embedding Matrix"
   ]
  },
  {
   "cell_type": "code",
   "execution_count": 16,
   "id": "e352a583",
   "metadata": {},
   "outputs": [],
   "source": [
    "issues['title'].fillna(' ', inplace=True)  \n",
    "issues['description'].fillna(' ', inplace=True) "
   ]
  },
  {
   "cell_type": "code",
   "execution_count": 17,
   "id": "77182d93",
   "metadata": {},
   "outputs": [],
   "source": [
    "issues['text'] = issues['title'] + ' ' + issues['description']"
   ]
  },
  {
   "cell_type": "code",
   "execution_count": 18,
   "id": "1b12448c",
   "metadata": {},
   "outputs": [],
   "source": [
    "issue_feat_data = issues[['text']]\n",
    "\n",
    "all_data = all_data.merge(issue_feat_data, left_on='issue_id_1', right_on='issue_id')\n",
    "all_data = all_data.merge(issue_feat_data, left_on='issue_id_2', right_on='issue_id', suffixes=('_1', '_2'))"
   ]
  },
  {
   "cell_type": "code",
   "execution_count": 19,
   "id": "20844077",
   "metadata": {},
   "outputs": [
    {
     "data": {
      "text/plain": [
       "name          False\n",
       "linktype      False\n",
       "issue_id_1    False\n",
       "issue_id_2    False\n",
       "issues        False\n",
       "mappedtype    False\n",
       "label         False\n",
       "text_1        False\n",
       "props_1       False\n",
       "text_2        False\n",
       "props_2       False\n",
       "dtype: bool"
      ]
     },
     "execution_count": 19,
     "metadata": {},
     "output_type": "execute_result"
    }
   ],
   "source": [
    "## Sanity Check\n",
    "all_data.isnull().any()"
   ]
  },
  {
   "cell_type": "code",
   "execution_count": 20,
   "id": "a5067c9e",
   "metadata": {},
   "outputs": [
    {
     "name": "stderr",
     "output_type": "stream",
     "text": [
      "100%|████████████████████████████████████████████████████████████████████████████████████████████████████████████████████████████████████████████████████████████████████████████| 35808/35808 [37:54<00:00, 15.74it/s]\n"
     ]
    }
   ],
   "source": [
    "from tqdm import tqdm\n",
    "\n",
    "text_1 = []\n",
    "text_2 = []\n",
    "\n",
    "for i in tqdm(all_data.index):\n",
    "    if not pd.isna(all_data['text_1'][i]):\n",
    "        temp_doc = nlp(all_data['text_1'][i])\n",
    "    #     print(temp_doc)\n",
    "        temp_text_tokens = []\n",
    "        for sentence in temp_doc.sentences:\n",
    "            for token in sentence.tokens:\n",
    "                temp_text_tokens.append(token.text)\n",
    "        text_1.append(temp_text_tokens)\n",
    "    else:\n",
    "        text_1.append([' '])\n",
    "        print(i)\n",
    "    if not pd.isna(all_data['text_2'][i]):\n",
    "        temp_doc = nlp(all_data['text_2'][i])\n",
    "    #     print(temp_doc)\n",
    "        temp_text_tokens = []\n",
    "        for sentence in temp_doc.sentences:\n",
    "            for token in sentence.tokens:\n",
    "                temp_text_tokens.append(token.text)\n",
    "        text_2.append(temp_text_tokens)\n",
    "    else:\n",
    "        text_2.append([' '])\n",
    "        print(i)\n",
    "        "
   ]
  },
  {
   "cell_type": "code",
   "execution_count": 21,
   "id": "a08e04b4",
   "metadata": {},
   "outputs": [],
   "source": [
    "all_data['text_1_stanza']=list(text_1)\n",
    "all_data['text_2_stanza']=list(text_2)"
   ]
  },
  {
   "cell_type": "code",
   "execution_count": 22,
   "id": "20cbfca5",
   "metadata": {},
   "outputs": [
    {
     "name": "stdout",
     "output_type": "stream",
     "text": [
      "365\n"
     ]
    }
   ],
   "source": [
    "texts = all_data['text_1'].append(all_data['text_2'])\n",
    "text_lengths = (texts.str.count(' ')+1).fillna(0).astype(np.int)\n",
    "max_text_len = text_lengths.quantile(0.95, interpolation='higher')\n",
    "print(max_text_len)"
   ]
  },
  {
   "cell_type": "code",
   "execution_count": 23,
   "id": "39275c84",
   "metadata": {},
   "outputs": [],
   "source": [
    "MAX_SEQUENCE_LENGTH = MAX_SEQUENCE_LENGTH\n",
    "MAX_NUM_WORDS = 250000\n",
    "EMBEDDING_DIM = 300\n",
    "NO_LABELS = len(all_data.label.unique())"
   ]
  },
  {
   "cell_type": "code",
   "execution_count": 24,
   "id": "4c5961ad",
   "metadata": {},
   "outputs": [
    {
     "name": "stdout",
     "output_type": "stream",
     "text": [
      "Found 300522 unique tokens.\n"
     ]
    }
   ],
   "source": [
    "t1_texts = all_data['text_1_stanza'].tolist()\n",
    "t2_texts = all_data['text_2_stanza'].tolist()\n",
    "\n",
    "t_texts = t1_texts + t2_texts\n",
    "\n",
    "tokenizer = Tokenizer(num_words=MAX_NUM_WORDS)\n",
    "tokenizer.fit_on_texts(t_texts)\n",
    "t_sequences = tokenizer.texts_to_sequences(t_texts)\n",
    "\n",
    "word_index_t = tokenizer.word_index\n",
    "print('Found %s unique tokens.' % len(word_index_t))\n",
    "\n",
    "t_text_data = pad_sequences(t_sequences, maxlen=MAX_SEQUENCE_LENGTH)\n",
    "\n",
    "num_words_t = min(MAX_NUM_WORDS, len(word_index_t) + 1)\n",
    "embedding_matrix_T = np.zeros((num_words_t, EMBEDDING_DIM))\n",
    "for word, i in word_index_t.items():\n",
    "    if i >= MAX_NUM_WORDS:\n",
    "        continue\n",
    "    try:\n",
    "        embedding_vector = embeddings_index[word]\n",
    "    except KeyError:\n",
    "        try:\n",
    "            embedding_vector = embeddings_index[word.lower()]\n",
    "        except KeyError:\n",
    "            try:\n",
    "                embedding_vector = embeddings_index[word.title()]\n",
    "            except KeyError:\n",
    "                unknown_words.append(word)\n",
    "    if embedding_vector is not None:\n",
    "        # words not found in embedding index will be all-zeros.\n",
    "        embedding_matrix_T[i] = embedding_vector"
   ]
  },
  {
   "cell_type": "code",
   "execution_count": 25,
   "id": "b8ab8632",
   "metadata": {},
   "outputs": [],
   "source": [
    "t1_text_data = t_text_data[:len(all_data),:]\n",
    "t2_text_data = t_text_data[len(all_data):,:]"
   ]
  },
  {
   "cell_type": "markdown",
   "id": "fdf1812d",
   "metadata": {},
   "source": [
    "# Deep Learning Models"
   ]
  },
  {
   "cell_type": "code",
   "execution_count": 26,
   "id": "cdcecc57",
   "metadata": {},
   "outputs": [
    {
     "name": "stdout",
     "output_type": "stream",
     "text": [
      "Creating functions.\n"
     ]
    }
   ],
   "source": [
    "print(\"Creating functions.\")\n",
    "def plot_history(history):\n",
    "#     keys = history.history.keys()\n",
    "    for i in list(history.history)[0:2]:\n",
    "        print(i)\n",
    "        # list all data in history\n",
    "        # summarize history for accuracy\n",
    "        plt.plot(history.history[i])\n",
    "#         plt.plot(history.history['val_'+i])\n",
    "        plt.title('model '+ i)\n",
    "        plt.ylabel(i)\n",
    "        plt.xlabel('epoch')\n",
    "        plt.legend(['train', 'test'], loc='upper left')\n",
    "        plt.show()"
   ]
  },
  {
   "cell_type": "markdown",
   "id": "03fd64f1",
   "metadata": {},
   "source": [
    "### Embedding Model"
   ]
  },
  {
   "cell_type": "code",
   "execution_count": 27,
   "id": "ea1f84e1",
   "metadata": {},
   "outputs": [
    {
     "name": "stdout",
     "output_type": "stream",
     "text": [
      "Disabling eager execution.\n",
      "Models incoming.\n",
      "Model: \"Text_Output\"\n",
      "_________________________________________________________________\n",
      " Layer (type)                Output Shape              Param #   \n",
      "=================================================================\n",
      " Text_Input (InputLayer)     [(None, 365)]             0         \n",
      "                                                                 \n",
      " embedding (Embedding)       (None, 365, 300)          75000000  \n",
      "                                                                 \n",
      "=================================================================\n",
      "Total params: 75,000,000\n",
      "Trainable params: 0\n",
      "Non-trainable params: 75,000,000\n",
      "_________________________________________________________________\n"
     ]
    }
   ],
   "source": [
    "print(\"Disabling eager execution.\")\n",
    "tf.compat.v1.disable_eager_execution()\n",
    "\n",
    "print(\"Models incoming.\")\n",
    "# Title inputs\n",
    "embedding_layer = Embedding(num_words_t,\n",
    "                            EMBEDDING_DIM,\n",
    "                            embeddings_initializer=Constant(embedding_matrix_T),\n",
    "                            input_length=MAX_SEQUENCE_LENGTH,\n",
    "                            trainable=False)\n",
    "# from keras.layers import concatenate\n",
    "text_in = Input(shape = (MAX_SEQUENCE_LENGTH,), name = 'Text_Input')\n",
    "text_out = embedding_layer(text_in)\n",
    "\n",
    "text_embedding = Model(inputs = [text_in], outputs = [text_out], name = 'Text_Output')\n",
    "\n",
    "text_embedding.summary()"
   ]
  },
  {
   "cell_type": "code",
   "execution_count": 28,
   "id": "8c0937e7",
   "metadata": {},
   "outputs": [
    {
     "name": "stdout",
     "output_type": "stream",
     "text": [
      "(None, 365, 300)\n",
      "WARNING:tensorflow:From /export/home/lueders/LYNX-venv/lib/python3.8/site-packages/keras/layers/normalization/batch_normalization.py:532: _colocate_with (from tensorflow.python.framework.ops) is deprecated and will be removed in a future version.\n",
      "Instructions for updating:\n",
      "Colocations handled automatically by placer.\n",
      "Model: \"Scale_Down\"\n",
      "_________________________________________________________________\n",
      " Layer (type)                Output Shape              Param #   \n",
      "=================================================================\n",
      " Text_Input (InputLayer)     [(None, 365)]             0         \n",
      "                                                                 \n",
      " Text_Output (Functional)    (None, 365, 300)          75000000  \n",
      "                                                                 \n",
      " Branch1 (Conv1D)            (None, 364, 150)          90150     \n",
      "                                                                 \n",
      " batch_normalization (BatchN  (None, 364, 150)         600       \n",
      " ormalization)                                                   \n",
      "                                                                 \n",
      " Branch2 (Conv1D)            (None, 363, 20)           6020      \n",
      "                                                                 \n",
      " batch_normalization_1 (Batc  (None, 363, 20)          80        \n",
      " hNormalization)                                                 \n",
      "                                                                 \n",
      "=================================================================\n",
      "Total params: 75,096,850\n",
      "Trainable params: 96,510\n",
      "Non-trainable params: 75,000,340\n",
      "_________________________________________________________________\n"
     ]
    }
   ],
   "source": [
    "# Pre-Model to reduce dimension of GLove\n",
    "text_in = Input(shape=(MAX_SEQUENCE_LENGTH,), dtype='int32', name='Text_Input')\n",
    "\n",
    "text_out = text_embedding([text_in])\n",
    "\n",
    "print(text_out.shape)\n",
    "\n",
    "conv_1 = Conv1D(filters=150,\n",
    "                    kernel_size=2,\n",
    "                    strides=1,\n",
    "                    activation='relu',\n",
    "                    name=\"Branch1\"\n",
    "                   )(text_out)\n",
    "\n",
    "conv_1 = BatchNormalization(axis=-1)(conv_1)\n",
    "\n",
    "conv_2 = Conv1D(filters=20,\n",
    "                    kernel_size=2,\n",
    "                    strides=1,\n",
    "                    activation='relu',\n",
    "                    name=\"Branch2\"\n",
    "                   )(conv_1)\n",
    "\n",
    "conv_2 = BatchNormalization(axis=-1)(conv_2)\n",
    "\n",
    "\n",
    "glove_scale_down = Model(inputs = [text_in], outputs = [conv_2], name = 'Scale_Down')\n",
    "\n",
    "glove_scale_down.summary()"
   ]
  },
  {
   "cell_type": "markdown",
   "id": "468acf3c",
   "metadata": {},
   "source": [
    "### SC-CNN Model"
   ]
  },
  {
   "cell_type": "code",
   "execution_count": 29,
   "id": "3a619500",
   "metadata": {},
   "outputs": [],
   "source": [
    "def SCCNN_Model():\n",
    "    text_in = Input(shape=(MAX_SEQUENCE_LENGTH,), dtype='int32', name='Text_Input')\n",
    "\n",
    "    text_out = glove_scale_down([text_in])\n",
    "    \n",
    "    text_out = expand_dims(text_out, axis=-1)\n",
    "\n",
    "     # A branch\n",
    "    conv_a = Conv2D(filters=100,\n",
    "                    kernel_size=(2,20),\n",
    "                    strides=(1,1),\n",
    "                    activation='relu',\n",
    "                    name=\"BranchA\"\n",
    "                   )(text_out)\n",
    "    \n",
    "    conv_a = BatchNormalization(axis=-1)(conv_a)\n",
    "\n",
    "    conv_a_rs = Reshape((conv_a.shape[1],100,1))(conv_a)\n",
    "\n",
    "    conv_a_1 = Conv2D(filters = 200,\n",
    "                    kernel_size = (2,100),\n",
    "                    strides=(1,1),\n",
    "                    activation = 'relu',\n",
    "                    name=\"BranchA1\"\n",
    "                    )(conv_a_rs)\n",
    "\n",
    "    pooled_conv_a_1 = MaxPooling2D(pool_size=(conv_a_1.shape[1], 1), padding='valid')(conv_a_1)\n",
    "#     pooled_conv_a_1 = GlobalMaxPooling2D()(conv_a_1)\n",
    "    pooled_conv_a_1 = Flatten()(pooled_conv_a_1)\n",
    "\n",
    "    conv_a_2 = Conv2D(filters = 200,\n",
    "                    kernel_size = (3,100),\n",
    "                    activation = 'relu',\n",
    "                    strides=(1,1),\n",
    "                    name=\"BranchA2\"\n",
    "                    )(conv_a_rs)\n",
    "\n",
    "    pooled_conv_a_2 = MaxPooling2D(pool_size=(conv_a_2.shape[1], 1), padding='valid')(conv_a_2)\n",
    "#     pooled_conv_a_2 = GlobalMaxPooling2D()(conv_a_2)\n",
    "    pooled_conv_a_2 = Flatten()(pooled_conv_a_2)\n",
    "\n",
    "    conv_a_3 = Conv2D(filters = 200,\n",
    "                    kernel_size = (4,100),\n",
    "                    activation = 'relu',\n",
    "                    strides=(1,1),\n",
    "                    name=\"BranchA3\"\n",
    "                    )(conv_a_rs)\n",
    "\n",
    "    pooled_conv_a_3 = MaxPooling2D(pool_size=(conv_a_3.shape[1], 1), padding='valid')(conv_a_3)\n",
    "#     pooled_conv_a_3 = GlobalMaxPooling2D()(conv_a_3)\n",
    "    pooled_conv_a_3 = Flatten()(pooled_conv_a_3)\n",
    "    \n",
    "    A = Concatenate(axis=-1)([pooled_conv_a_1,pooled_conv_a_2])\n",
    "    A = Concatenate(axis=-1)([A,pooled_conv_a_3])\n",
    "    \n",
    "    # B branch\n",
    "    conv_b = Conv2D(filters=100,\n",
    "                    kernel_size=(3,20),\n",
    "                    activation='relu',\n",
    "                    strides=(1,1),\n",
    "                    name=\"BranchB\"\n",
    "                    )(text_out)\n",
    "\n",
    "    conv_b = BatchNormalization(axis=-1)(conv_b)\n",
    "\n",
    "    conv_b_rs = Reshape((conv_b.shape[1],100,1))(conv_b)\n",
    "\n",
    "    conv_b_1 = Conv2D(filters = 200,\n",
    "                    kernel_size = (2,100),\n",
    "                    activation = 'relu',\n",
    "                    strides=(1,1),\n",
    "                    name=\"BranchB1\"\n",
    "                    )(conv_b_rs)\n",
    "\n",
    "    pooled_conv_b_1 = MaxPooling2D(pool_size=(conv_b_1.shape[1], 1), padding='valid')(conv_b_1)\n",
    "#     pooled_conv_b_1 = GlobalMaxPooling2D()(conv_b_1)\n",
    "    pooled_conv_b_1 = Flatten()(pooled_conv_b_1)\n",
    "\n",
    "    conv_b_2 = Conv2D(filters = 200,\n",
    "                    kernel_size = (3,100),\n",
    "                    activation = 'relu',\n",
    "                    strides=(1,1),\n",
    "                    name=\"BranchB2\"\n",
    "                    )(conv_b_rs)\n",
    "\n",
    "    pooled_conv_b_2 = MaxPooling2D(pool_size=(conv_b_2.shape[1], 1), padding='valid')(conv_b_2)\n",
    "#     pooled_conv_b_2 = GlobalMaxPooling2D()(conv_b_2)\n",
    "    pooled_conv_b_2 = Flatten()(pooled_conv_b_2)\n",
    "\n",
    "    conv_b_3 = Conv2D(filters = 200,\n",
    "                    kernel_size = (4,100),\n",
    "                    activation = 'relu',\n",
    "                    strides=(1,1),\n",
    "                    name=\"BranchB3\"\n",
    "                    )(conv_b_rs)\n",
    "\n",
    "    pooled_conv_b_3 = MaxPooling2D(pool_size=(conv_b_3.shape[1], 1), padding='valid')(conv_b_3)\n",
    "#     pooled_conv_b_3 = GlobalMaxPooling2D()(conv_b_3)\n",
    "    pooled_conv_b_3 = Flatten()(pooled_conv_b_3)\n",
    "    \n",
    "    B = Concatenate(axis=-1)([pooled_conv_b_1,pooled_conv_b_2])\n",
    "    B = Concatenate(axis=-1)([B,pooled_conv_b_3])\n",
    "\n",
    "    # C branch\n",
    "    conv_c = Conv2D(filters=100,\n",
    "                    kernel_size=(4,20),\n",
    "                    activation='relu',\n",
    "                    strides=(1,1),\n",
    "                    name=\"BranchC\"\n",
    "                    )(text_out)\n",
    "    conv_c = BatchNormalization(axis=-1)(conv_c)\n",
    "\n",
    "    conv_c_rs = Reshape((conv_c.shape[1],100,1))(conv_c)\n",
    "\n",
    "    conv_c_1 = Conv2D(filters = 200,\n",
    "                    kernel_size = (2,100),\n",
    "                    activation = 'relu',\n",
    "                    strides=(1,1),\n",
    "                    name=\"BranchC1\"\n",
    "                    )(conv_c_rs)\n",
    "\n",
    "\n",
    "    pooled_conv_c_1 = MaxPooling2D(pool_size=(conv_c_1.shape[1], 1), padding='valid')(conv_c_1)\n",
    "#     pooled_conv_c_1 = GlobalMaxPooling2D()(conv_c_1)\n",
    "    pooled_conv_c_1 = Flatten()(pooled_conv_c_1)\n",
    "\n",
    "    conv_c_2 = Conv2D(filters = 200,\n",
    "                    kernel_size = (3,100),\n",
    "                    activation = 'relu',\n",
    "                    strides=(1,1),\n",
    "                    name=\"BranchC2\"\n",
    "                    )(conv_c_rs)\n",
    "\n",
    "    pooled_conv_c_2 = MaxPooling2D(pool_size=(conv_c_2.shape[1], 1), padding='valid')(conv_c_2)\n",
    "#     pooled_conv_c_2 = GlobalMaxPooling2D()(conv_c_2)\n",
    "    pooled_conv_c_2 = Flatten()(pooled_conv_c_2)\n",
    "\n",
    "    conv_c_3 = Conv2D(filters = 200,\n",
    "                    kernel_size = (4,100),\n",
    "                    activation = 'relu',\n",
    "                    strides=(1,1),\n",
    "                    name=\"BranchC3\"\n",
    "                    )(conv_c_rs)\n",
    "\n",
    "    pooled_conv_c_3 = MaxPooling2D(pool_size=(conv_c_3.shape[1], 1), padding='valid')(conv_c_3)\n",
    "#     pooled_conv_c_3 = GlobalMaxPooling2D()(conv_c_3)\n",
    "    pooled_conv_c_3 = Flatten()(pooled_conv_c_3)\n",
    "    \n",
    "    C = Concatenate(axis=-1)([pooled_conv_c_1,pooled_conv_c_2])\n",
    "    C = Concatenate(axis=-1)([C,pooled_conv_c_3])\n",
    "\n",
    "    conv_concat = Concatenate(axis=-1)([A,B])\n",
    "    conv_concat = Concatenate(axis=-1)([conv_concat,C])\n",
    "\n",
    "    issue_model = Model(inputs = [text_in], outputs = [conv_concat], name = 'SC-CNN_Model')\n",
    "\n",
    "#     issue_model.summary()\n",
    "    return issue_model"
   ]
  },
  {
   "cell_type": "markdown",
   "id": "1b6339a9",
   "metadata": {},
   "source": [
    "### Complete Model"
   ]
  },
  {
   "cell_type": "code",
   "execution_count": 30,
   "id": "50ea5d59",
   "metadata": {},
   "outputs": [],
   "source": [
    "def get_model():\n",
    "    text_in_a = Input(shape = (MAX_SEQUENCE_LENGTH,), dtype='int32', name=\"Text_issue_a\")\n",
    "    text_in_b = Input(shape = (MAX_SEQUENCE_LENGTH,), dtype='int32', name=\"Text_issue_b\")\n",
    "    \n",
    "    prop_in_a = Input(shape = (PROPERTY_LENGTH,), dtype='float32', name=\"pr1\")\n",
    "    prop_in_b = Input(shape = (PROPERTY_LENGTH,), dtype='float32', name=\"pr2\")\n",
    "    \n",
    "#     crea_in_a = Input(shape = (DATE_LENGTH,), dtype='float32', name=\"cr1\")\n",
    "#     crea_in_b = Input(shape = (DATE_LENGTH,), dtype='float32', name=\"cr2\")\n",
    "    \n",
    "#     upda_in_a = Input(shape = (DATE_LENGTH,), dtype='float32', name=\"up1\")\n",
    "#     upda_in_b = Input(shape = (DATE_LENGTH,), dtype='float32', name=\"up2\")\n",
    "\n",
    "    issue_model = SCCNN_Model()\n",
    "\n",
    "    encoded_issue_a = issue_model([text_in_a])\n",
    "    encoded_issue_b = issue_model([text_in_b])\n",
    "\n",
    "    merged_vector = Concatenate()([encoded_issue_a, encoded_issue_b, prop_in_a, prop_in_b,\n",
    "#                                    crea_in_a, crea_in_b, upda_in_a, upda_in_b\n",
    "                                  ])\n",
    "\n",
    "    concat = Dropout(0.5)(merged_vector)\n",
    "    concat = Dense(units = 512, \n",
    "                activation = 'relu',\n",
    "                )(concat)\n",
    "    concat = BatchNormalization(axis=-1)(concat)\n",
    "    \n",
    "    concat = Dropout(0.5)(concat)\n",
    "    concat = Dense(units = 256, \n",
    "                activation = 'relu',\n",
    "                )(concat)\n",
    "    concat = BatchNormalization(axis=-1)(concat)\n",
    "    \n",
    "    concat = Dropout(0.5)(concat)\n",
    "    concat = Dense(units = 128, \n",
    "                activation = 'relu',\n",
    "                )(concat)\n",
    "    concat = BatchNormalization(axis=-1)(concat)\n",
    "    \n",
    "    concat = Dropout(0.5)(concat)\n",
    "    concat = Dense(units = 64, \n",
    "                activation = 'relu',\n",
    "                )(concat)\n",
    "    concat = BatchNormalization(axis=-1)(concat)\n",
    "    \n",
    "#     concat = Dropout(0.5)(concat)\n",
    "#     concat = Dense(units = 128, \n",
    "#                 activation = 'relu',\n",
    "#                 )(concat)\n",
    "#     concat = BatchNormalization(axis=-1)(concat)\n",
    "    \n",
    "#     concat = Dropout(0.5)(concat)\n",
    "#     concat = Dense(units = 256, \n",
    "#                 activation = 'relu',\n",
    "#                 )(concat)\n",
    "#     concat = BatchNormalization(axis=-1)(concat)\n",
    "    \n",
    "#     concat = Dropout(0.5)(concat)\n",
    "#     concat = Dense(units = 128, \n",
    "#                 activation = 'relu',\n",
    "#                 )(concat)\n",
    "#     concat = BatchNormalization(axis=-1)(concat)\n",
    "    \n",
    "#     concat = Dropout(0.5)(concat)\n",
    "#     concat = Dense(units = 64, \n",
    "#                 activation = 'relu',\n",
    "#                 )(concat)\n",
    "#     concat = BatchNormalization(axis=-1)(concat)\n",
    "    \n",
    "    model = Model(inputs=[text_in_a, text_in_b, prop_in_a, prop_in_b,\n",
    "#                               crea_in_a, crea_in_b, upda_in_a, upda_in_b\n",
    "                             ], outputs=concat)\n",
    "#     sim_model.summary()\n",
    "\n",
    "    \n",
    "    return model"
   ]
  },
  {
   "cell_type": "markdown",
   "id": "44afb575",
   "metadata": {},
   "source": [
    "### Train Model"
   ]
  },
  {
   "cell_type": "code",
   "execution_count": 31,
   "id": "3d2196b3",
   "metadata": {},
   "outputs": [
    {
     "name": "stdout",
     "output_type": "stream",
     "text": [
      "28646\n",
      "7162\n"
     ]
    }
   ],
   "source": [
    "train, test = train_test_split(all_data, test_size = 0.2, random_state = 9)\n",
    "print(len(train))\n",
    "print(len(test))"
   ]
  },
  {
   "cell_type": "code",
   "execution_count": 32,
   "id": "409b7340",
   "metadata": {},
   "outputs": [],
   "source": [
    "def train_model(dataset):\n",
    "    callback = tf.keras.callbacks.EarlyStopping(monitor='val_loss', patience=5, verbose=2)\n",
    "    \n",
    "    class_weight = compute_class_weight(\n",
    "                      class_weight='balanced',\n",
    "                      classes=range(len(id_to_category)),\n",
    "                      y=dataset['label']\n",
    "                    )\n",
    "\n",
    "    model = get_model()\n",
    "    \n",
    "    model.compile(optimizer='adam',\n",
    "#                       Adam(lr=0.001, beta_1=0.9, beta_2=0.999, epsilon=1e-08, decay=0.0), \n",
    "                      loss=tfa.losses.TripletSemiHardLoss())\n",
    "\n",
    "    train_issue_1 = dataset['text_emb_1']\n",
    "    train_issue_1 = np.array(train_issue_1.values.tolist())\n",
    "\n",
    "    train_issue_2 = dataset['text_emb_2']\n",
    "    train_issue_2 = np.array(train_issue_2.values.tolist())\n",
    "    \n",
    "    history = model.fit([train_issue_1, train_issue_2], \n",
    "                        y=dataset['label'], \n",
    "                            callbacks=[callback], \n",
    "                            validation_split=0.1, \n",
    "#                         class_weight = dict(enumerate(class_weight)), \n",
    "                        batch_size=128, epochs=64, verbose=2)\n",
    "    \n",
    "    plot_history(history)\n",
    "    \n",
    "    return model"
   ]
  },
  {
   "cell_type": "code",
   "execution_count": 33,
   "id": "4562f9e3",
   "metadata": {
    "scrolled": true
   },
   "outputs": [
    {
     "name": "stderr",
     "output_type": "stream",
     "text": [
      "2021-12-08 11:55:05.425439: I tensorflow/core/platform/cpu_feature_guard.cc:151] This TensorFlow binary is optimized with oneAPI Deep Neural Network Library (oneDNN) to use the following CPU instructions in performance-critical operations:  AVX2 AVX512F FMA\n",
      "To enable them in other operations, rebuild TensorFlow with the appropriate compiler flags.\n",
      "2021-12-08 11:55:06.001405: I tensorflow/core/common_runtime/gpu/gpu_device.cc:1525] Created device /job:localhost/replica:0/task:0/device:GPU:0 with 20997 MB memory:  -> device: 0, name: Quadro RTX 6000, pci bus id: 0000:1a:00.0, compute capability: 7.5\n"
     ]
    },
    {
     "name": "stdout",
     "output_type": "stream",
     "text": [
      "Train on 25781 samples, validate on 2865 samples\n",
      "Epoch 1/100\n"
     ]
    },
    {
     "name": "stderr",
     "output_type": "stream",
     "text": [
      "2021-12-08 11:55:16.855504: I tensorflow/stream_executor/cuda/cuda_dnn.cc:366] Loaded cuDNN version 8301\n",
      "/export/home/lueders/LYNX-venv/lib/python3.8/site-packages/keras/engine/training_v1.py:2057: UserWarning: `Model.state_updates` will be removed in a future version. This property should not be used in TensorFlow 2.0, as `updates` are applied automatically.\n",
      "  updates = self.state_updates\n"
     ]
    },
    {
     "name": "stdout",
     "output_type": "stream",
     "text": [
      "25781/25781 - 751s - loss: 0.8866 - val_loss: 0.8595 - 751s/epoch - 29ms/sample\n",
      "Epoch 2/100\n",
      "25781/25781 - 735s - loss: 0.7855 - val_loss: 0.6272 - 735s/epoch - 29ms/sample\n",
      "Epoch 3/100\n",
      "25781/25781 - 735s - loss: 0.6983 - val_loss: 0.6268 - 735s/epoch - 29ms/sample\n",
      "Epoch 4/100\n",
      "25781/25781 - 735s - loss: 0.6447 - val_loss: 0.6155 - 735s/epoch - 28ms/sample\n",
      "Epoch 5/100\n",
      "25781/25781 - 735s - loss: 0.6072 - val_loss: 0.5828 - 735s/epoch - 29ms/sample\n",
      "Epoch 6/100\n",
      "25781/25781 - 735s - loss: 0.5745 - val_loss: 0.5904 - 735s/epoch - 29ms/sample\n",
      "Epoch 7/100\n",
      "25781/25781 - 735s - loss: 0.5466 - val_loss: 0.5691 - 735s/epoch - 29ms/sample\n",
      "Epoch 8/100\n",
      "25781/25781 - 735s - loss: 0.5279 - val_loss: 0.6008 - 735s/epoch - 29ms/sample\n",
      "Epoch 9/100\n",
      "25781/25781 - 735s - loss: 0.5151 - val_loss: 0.5499 - 735s/epoch - 29ms/sample\n",
      "Epoch 10/100\n",
      "25781/25781 - 735s - loss: 0.4961 - val_loss: 0.5248 - 735s/epoch - 29ms/sample\n",
      "Epoch 11/100\n",
      "25781/25781 - 735s - loss: 0.4778 - val_loss: 0.5243 - 735s/epoch - 29ms/sample\n",
      "Epoch 12/100\n",
      "25781/25781 - 735s - loss: 0.4673 - val_loss: 0.5482 - 735s/epoch - 29ms/sample\n",
      "Epoch 13/100\n",
      "25781/25781 - 735s - loss: 0.4542 - val_loss: 0.5061 - 735s/epoch - 29ms/sample\n",
      "Epoch 14/100\n",
      "25781/25781 - 735s - loss: 0.4438 - val_loss: 0.5041 - 735s/epoch - 29ms/sample\n",
      "Epoch 15/100\n",
      "25781/25781 - 735s - loss: 0.4267 - val_loss: 0.5024 - 735s/epoch - 29ms/sample\n",
      "Epoch 16/100\n",
      "25781/25781 - 735s - loss: 0.4161 - val_loss: 0.4893 - 735s/epoch - 29ms/sample\n",
      "Epoch 17/100\n",
      "25781/25781 - 734s - loss: 0.4058 - val_loss: 0.5115 - 734s/epoch - 28ms/sample\n",
      "Epoch 18/100\n",
      "25781/25781 - 735s - loss: 0.3986 - val_loss: 0.5058 - 735s/epoch - 29ms/sample\n",
      "Epoch 19/100\n",
      "25781/25781 - 735s - loss: 0.3876 - val_loss: 0.4729 - 735s/epoch - 29ms/sample\n",
      "Epoch 20/100\n",
      "25781/25781 - 735s - loss: 0.3820 - val_loss: 0.4982 - 735s/epoch - 29ms/sample\n",
      "Epoch 21/100\n",
      "25781/25781 - 735s - loss: 0.3695 - val_loss: 0.4754 - 735s/epoch - 29ms/sample\n",
      "Epoch 22/100\n",
      "25781/25781 - 735s - loss: 0.3592 - val_loss: 0.4722 - 735s/epoch - 29ms/sample\n",
      "Epoch 23/100\n",
      "25781/25781 - 735s - loss: 0.3449 - val_loss: 0.4812 - 735s/epoch - 29ms/sample\n",
      "Epoch 24/100\n",
      "25781/25781 - 735s - loss: 0.3363 - val_loss: 0.4908 - 735s/epoch - 29ms/sample\n",
      "Epoch 25/100\n",
      "25781/25781 - 735s - loss: 0.3333 - val_loss: 0.5122 - 735s/epoch - 29ms/sample\n",
      "Epoch 26/100\n",
      "25781/25781 - 735s - loss: 0.3189 - val_loss: 0.4770 - 735s/epoch - 29ms/sample\n",
      "Epoch 27/100\n",
      "25781/25781 - 735s - loss: 0.3120 - val_loss: 0.4698 - 735s/epoch - 28ms/sample\n",
      "Epoch 28/100\n",
      "25781/25781 - 735s - loss: 0.3062 - val_loss: 0.4822 - 735s/epoch - 29ms/sample\n",
      "Epoch 29/100\n",
      "25781/25781 - 735s - loss: 0.2957 - val_loss: 0.4893 - 735s/epoch - 29ms/sample\n",
      "Epoch 30/100\n",
      "25781/25781 - 734s - loss: 0.2893 - val_loss: 0.4847 - 734s/epoch - 28ms/sample\n",
      "Epoch 31/100\n",
      "25781/25781 - 735s - loss: 0.3019 - val_loss: 0.4627 - 735s/epoch - 29ms/sample\n",
      "Epoch 32/100\n",
      "25781/25781 - 735s - loss: 0.2731 - val_loss: 0.4963 - 735s/epoch - 29ms/sample\n",
      "Epoch 33/100\n",
      "25781/25781 - 735s - loss: 0.2644 - val_loss: 0.4759 - 735s/epoch - 29ms/sample\n",
      "Epoch 34/100\n",
      "25781/25781 - 735s - loss: 0.2501 - val_loss: 0.4706 - 735s/epoch - 29ms/sample\n",
      "Epoch 35/100\n",
      "25781/25781 - 735s - loss: 0.2464 - val_loss: 0.4808 - 735s/epoch - 29ms/sample\n",
      "Epoch 36/100\n",
      "25781/25781 - 735s - loss: 0.2432 - val_loss: 0.4736 - 735s/epoch - 29ms/sample\n",
      "Epoch 00036: early stopping\n",
      "loss\n"
     ]
    },
    {
     "data": {
      "image/png": "[encoded data removed]",
      "text/plain": [
       "<Figure size 432x288 with 1 Axes>"
      ]
     },
     "metadata": {
      "needs_background": "light"
     },
     "output_type": "display_data"
    },
    {
     "name": "stdout",
     "output_type": "stream",
     "text": [
      "val_loss\n"
     ]
    },
    {
     "data": {
      "image/png": "[encoded data removed]",
      "text/plain": [
       "<Figure size 432x288 with 1 Axes>"
      ]
     },
     "metadata": {
      "needs_background": "light"
     },
     "output_type": "display_data"
    },
    {
     "name": "stdout",
     "output_type": "stream",
     "text": [
      "CPU times: user 1h 35min 6s, sys: 11min 19s, total: 1h 46min 26s\n",
      "Wall time: 7h 21min 23s\n"
     ]
    }
   ],
   "source": [
    "%%time\n",
    "class_model = train_model(train)"
   ]
  },
  {
   "cell_type": "markdown",
   "id": "80315854",
   "metadata": {},
   "source": [
    "## Prediction"
   ]
  },
  {
   "cell_type": "markdown",
   "id": "65297635",
   "metadata": {},
   "source": [
    "### SVM Model"
   ]
  },
  {
   "cell_type": "code",
   "execution_count": 34,
   "id": "713df97e",
   "metadata": {},
   "outputs": [
    {
     "name": "stderr",
     "output_type": "stream",
     "text": [
      "/export/home/lueders/LYNX-venv/lib/python3.8/site-packages/keras/engine/training_v1.py:2079: UserWarning: `Model.state_updates` will be removed in a future version. This property should not be used in TensorFlow 2.0, as `updates` are applied automatically.\n",
      "  updates=self.state_updates,\n"
     ]
    }
   ],
   "source": [
    "issue_1_train = t1_text_data[train.index]\n",
    "\n",
    "issue_2_train = t2_text_data[train.index]\n",
    "\n",
    "results_train = class_model.predict([issue_1_train, issue_2_train])"
   ]
  },
  {
   "cell_type": "code",
   "execution_count": 35,
   "id": "3fdae406",
   "metadata": {},
   "outputs": [],
   "source": [
    "issue_1_test = t1_text_data[test.index]\n",
    "\n",
    "issue_2_test = t2_text_data[test.index]\n",
    "\n",
    "results_test = class_model.predict([issue_1_test, issue_2_test, prop_issue_1_test, prop_issue_2_test])"
   ]
  },
  {
   "cell_type": "code",
   "execution_count": 36,
   "id": "2eda4580",
   "metadata": {},
   "outputs": [],
   "source": [
    "np.save(file='embeddings/train_embed_'+SOURCE+'_GLOVE.npy', arr=results_train)\n",
    "np.save(file='embeddings/test_embed_'+SOURCE+'_GLOVE.npy', arr=results_test)"
   ]
  },
  {
   "cell_type": "code",
   "execution_count": 37,
   "id": "5c997ef7",
   "metadata": {},
   "outputs": [
    {
     "name": "stdout",
     "output_type": "stream",
     "text": [
      "CPU times: user 22.9 s, sys: 198 ms, total: 23.1 s\n",
      "Wall time: 23.1 s\n"
     ]
    },
    {
     "data": {
      "text/plain": [
       "SVC(class_weight='balanced')"
      ]
     },
     "execution_count": 37,
     "metadata": {},
     "output_type": "execute_result"
    }
   ],
   "source": [
    "%%time\n",
    "from sklearn.ensemble import RandomForestClassifier\n",
    "\n",
    "clf = RandomForestClassifier(max_depth=25, random_state=0)\n",
    "\n",
    "clf.fit(results_train, train['label'])"
   ]
  },
  {
   "cell_type": "code",
   "execution_count": null,
   "id": "pharmaceutical-respect",
   "metadata": {},
   "outputs": [],
   "source": [
    "probs = clf.predict_proba(results_test)\n",
    "preds = clf.predict(results_test)\n",
    "\n",
    "test['preds_SVM'] = preds"
   ]
  },
  {
   "cell_type": "code",
   "execution_count": null,
   "id": "bridal-enlargement",
   "metadata": {},
   "outputs": [],
   "source": [
    "train[['name', 'linktype', 'issue_id_1', 'issue_id_2', 'mappedtype', 'label']].to_csv('embeddings/train_df_LT'+SOURCE+'.csv')\n",
    "test[['name', 'linktype', 'issue_id_1', 'issue_id_2', 'mappedtype', 'label', 'preds_SVM']].to_csv('embeddings/test_df_LT'+SOURCE+'.csv')"
   ]
  },
  {
   "cell_type": "code",
   "execution_count": 38,
   "id": "02932e58",
   "metadata": {},
   "outputs": [
    {
     "name": "stdout",
     "output_type": "stream",
     "text": [
      "              precision    recall  f1-score      support\n",
      "Duplicate      0.318458  0.423181  0.363426   742.000000\n",
      "Relate         0.481132  0.538509  0.508206  1610.000000\n",
      "Split          0.171388  0.253669  0.204565   477.000000\n",
      "Depend         0.761165  0.662162  0.708220  1184.000000\n",
      "Replace        0.250000  0.009728  0.018727   514.000000\n",
      "Subtask        0.917833  0.898154  0.907887  1679.000000\n",
      "Epic           0.935385  0.953975  0.944588   956.000000\n",
      "accuracy       0.629852  0.629852  0.629852     0.629852\n",
      "macro avg      0.547909  0.534197  0.522231  7162.000000\n",
      "weighted avg   0.636367  0.629852  0.622868  7162.000000\n",
      "           Duplicate  Relate  Split  Depend  Replace  Subtask  Epic\n",
      "Duplicate        314     336     66      20        1        3     2\n",
      "Relate           350     867    247      98        5       26    17\n",
      "Split            112     178    121      38        1       23     4\n",
      "Depend            40     151    112     784        5       69    23\n",
      "Replace          165     242     64      20        5       12     6\n",
      "Subtask            5      19     80      55        1     1508    11\n",
      "Epic               0       9     16      15        2        2   912\n"
     ]
    }
   ],
   "source": [
    "class_rep = classification_report(test['label'], test['preds_SVM'], output_dict=True, target_names=category_id_df.mappedtype.to_list())\n",
    "class_rep_df = pd.DataFrame(class_rep).transpose()\n",
    "print(class_rep_df)\n",
    "\n",
    "conf_mat = confusion_matrix(test['preds_SVM'], test['label'])\n",
    "conf_mat_df = pd.DataFrame(conf_mat).transpose()\n",
    "conf_mat_df.rename(index=id_to_category, inplace=True)\n",
    "conf_mat_df.rename(columns=id_to_category, inplace=True)\n",
    "print(conf_mat_df)\n",
    "\n",
    "class_rep_df.to_csv('results/class_rep_LT_'+SOURCE+\"_GLOVE.csv\")\n",
    "conf_mat_df.to_csv('results/conf_mat_LT_'+SOURCE+\"_GLOVE.csv\")"
   ]
  },
  {
   "cell_type": "code",
   "execution_count": null,
   "id": "c99a2a96",
   "metadata": {
    "scrolled": true
   },
   "outputs": [],
   "source": [
    "res_data"
   ]
  },
  {
   "cell_type": "code",
   "execution_count": null,
   "id": "dc6d2575",
   "metadata": {},
   "outputs": [],
   "source": [
    "train[['name', 'linktype', 'issue_id_1', 'issue_id_2', 'mappedtype', 'label']].to_csv('embeddings/train_df_'+SOURCE+'.csv')\n",
    "test[['name', 'linktype', 'issue_id_1', 'issue_id_2', 'mappedtype', 'label', 'preds_SVM']].to_csv('embeddings/test_df_'+SOURCE+'.csv')"
   ]
  },
  {
   "cell_type": "markdown",
   "id": "f555a0c2",
   "metadata": {},
   "source": [
    "### Deep Learning Model"
   ]
  },
  {
   "cell_type": "code",
   "execution_count": null,
   "id": "7fef5f72",
   "metadata": {},
   "outputs": [],
   "source": [
    "# text_in_a = Input(shape = (MAX_SEQUENCE_LENGTH,), dtype='int32', name=\"Text_issue_a\")\n",
    "# text_in_b = Input(shape = (MAX_SEQUENCE_LENGTH,), dtype='int32', name=\"Text_issue_b\")\n",
    "\n",
    "# prop_in_a = Input(shape = (PROPERTY_LENGTH,), dtype='float32', name=\"pr1\")\n",
    "# prop_in_b = Input(shape = (PROPERTY_LENGTH,), dtype='float32', name=\"pr2\")\n",
    "\n",
    "# # crea_in_a = Input(shape = (DATE_LENGTH,), dtype='float32', name=\"cr1\")\n",
    "# # crea_in_b = Input(shape = (DATE_LENGTH,), dtype='float32', name=\"cr2\")\n",
    "\n",
    "# # upda_in_a = Input(shape = (DATE_LENGTH,), dtype='float32', name=\"up1\")\n",
    "# # upda_in_b = Input(shape = (DATE_LENGTH,), dtype='float32', name=\"up2\")\n",
    "\n",
    "# encoded_link = class_model([[text_in_a, text_in_b, prop_in_a, prop_in_b, \n",
    "# #                              crea_in_a, crea_in_b, upda_in_a, upda_in_b\n",
    "#                             ]])\n",
    "\n",
    "# print(encoded_link.shape)\n",
    "\n",
    "# concat = Dense(units = 32, \n",
    "#             activation = 'relu',\n",
    "#             )(encoded_link)\n",
    "# concat = BatchNormalization(axis=-1)(concat)\n",
    "\n",
    "# concat = Dropout(0.5)(concat)\n",
    "# concat = Dense(units = 16, \n",
    "#             activation = 'relu',\n",
    "#             )(concat)\n",
    "# concat = BatchNormalization(axis=-1)(concat)\n",
    "\n",
    "# concat = Dropout(0.5)(concat)\n",
    "# concat = Dense(units = len(id_to_category), \n",
    "#             activation = 'sigmoid',\n",
    "#             )(concat)\n",
    "# concat = BatchNormalization(axis=-1)(concat)\n",
    "\n",
    "# model = Model(inputs=[text_in_a, text_in_b, prop_in_a, prop_in_b,\n",
    "# #                           crea_in_a, crea_in_b, upda_in_a, upda_in_b\n",
    "#                          ], outputs=concat)\n",
    "# model.summary()"
   ]
  },
  {
   "cell_type": "code",
   "execution_count": null,
   "id": "c0cea6d4",
   "metadata": {},
   "outputs": [],
   "source": [
    "# model.compile(optimizer='adam',\n",
    "# #                       Adam(lr=0.001, beta_1=0.9, beta_2=0.999, epsilon=1e-08, decay=0.0), \n",
    "#                 loss = 'sparse_categorical_crossentropy', \n",
    "#                 metrics=['sparse_categorical_accuracy'])"
   ]
  },
  {
   "cell_type": "code",
   "execution_count": null,
   "id": "f86b6763",
   "metadata": {
    "scrolled": true
   },
   "outputs": [],
   "source": [
    "# callback = tf.keras.callbacks.EarlyStopping(monitor='val_loss', patience=5, verbose=2)\n",
    "\n",
    "# issue_1_train = t1_text_data[train.index]\n",
    "\n",
    "# issue_2_train = t2_text_data[train.index]\n",
    "\n",
    "# prop_issue_1_train = train['props_1']\n",
    "# prop_issue_1_train = np.array(prop_issue_1_train.values.tolist())\n",
    "\n",
    "# prop_issue_2_train = train['props_2']\n",
    "# prop_issue_2_train = np.array(prop_issue_2_train.values.tolist())\n",
    "\n",
    "# # created_issue_1_train = train['created_ar_1']\n",
    "# # created_issue_1_train = np.array(created_issue_1_train.values.tolist())\n",
    "\n",
    "# # created_issue_2_train = train['created_ar_2']\n",
    "# # created_issue_2_train = np.array(created_issue_2_train.values.tolist())\n",
    "\n",
    "# # updated_issue_1_train = train['updated_ar_1']\n",
    "# # updated_issue_1_train = np.array(updated_issue_1_train.values.tolist())\n",
    "\n",
    "# # updated_issue_2_train = train['updated_ar_2']\n",
    "# # updated_issue_2_train = np.array(updated_issue_2_train.values.tolist())\n",
    "\n",
    "# history = model.fit([issue_1_train, issue_2_train, prop_issue_1_train, prop_issue_2_train\n",
    "# #                      ,created_issue_1_train, created_issue_2_train, updated_issue_1_train, updated_issue_2_train\n",
    "#                             ], \n",
    "#                         y=train['label'], \n",
    "#                             callbacks=[callback], \n",
    "#                             validation_split=0.1, \n",
    "# #                         class_weight = dict(enumerate(class_weight)), \n",
    "#                         batch_size=128, epochs=20, verbose=2)\n",
    "\n",
    "# plot_history(history)"
   ]
  },
  {
   "cell_type": "code",
   "execution_count": null,
   "id": "f827995e",
   "metadata": {},
   "outputs": [],
   "source": [
    "# issue_1_test = t1_text_data[test.index]\n",
    "\n",
    "# issue_2_test = t2_text_data[test.index]\n",
    "\n",
    "# prop_issue_1_test = test['props_1']\n",
    "# prop_issue_1_test = np.array(prop_issue_1_test.values.tolist())\n",
    "\n",
    "# prop_issue_2_test = test['props_2']\n",
    "# prop_issue_2_test = np.array(prop_issue_2_test.values.tolist())\n",
    "\n",
    "# # created_issue_1_test = test['created_ar_1']\n",
    "# # created_issue_1_test = np.array(created_issue_1_test.values.tolist())\n",
    "\n",
    "# # created_issue_2_test = test['created_ar_2']\n",
    "# # created_issue_2_test = np.array(created_issue_2_test.values.tolist())\n",
    "\n",
    "# # updated_issue_1_test = test['updated_ar_1']\n",
    "# # updated_issue_1_test = np.array(updated_issue_1_test.values.tolist())\n",
    "\n",
    "# # updated_issue_2_test = test['updated_ar_2']\n",
    "# # updated_issue_2_test = np.array(updated_issue_2_test.values.tolist())\n",
    "\n",
    "# results_test = model.predict([issue_1_test, issue_2_test, prop_issue_1_test, prop_issue_2_test\n",
    "# #                               , created_issue_1_test, created_issue_2_test, updated_issue_1_test, updated_issue_2_test\n",
    "#                              ])"
   ]
  },
  {
   "cell_type": "code",
   "execution_count": null,
   "id": "0512265d",
   "metadata": {},
   "outputs": [],
   "source": [
    "# preds = results_test.argmax(axis=-1)\n",
    "\n",
    "# class_rep = classification_report(test['label'], preds, output_dict=True, target_names=category_id_df.mappedtype.to_list())\n",
    "# class_rep_df = pd.DataFrame(class_rep).transpose()\n",
    "# print(class_rep_df)\n",
    "\n",
    "# conf_mat = confusion_matrix(preds, test['label'])\n",
    "# conf_mat_df = pd.DataFrame(conf_mat).transpose()\n",
    "# conf_mat_df.rename(index=id_to_category, inplace=True)\n",
    "# conf_mat_df.rename(columns=id_to_category, inplace=True)\n",
    "# print(conf_mat_df)\n",
    "\n",
    "# # y_true = pd.Series(test['label'], name=\"Actual\").map(id_to_category)\n",
    "# # y_pred = pd.Series(preds, name=\"Predicted\").map(id_to_category)\n",
    "# # df_confusion = pd.crosstab(y_true, y_pred)\n",
    "\n",
    "# class_rep_df.to_csv('results/class_rep_LT_'+SOURCE+\"_DL.csv\")\n",
    "# conf_mat_df.to_csv('results/conf_mat_LT_'+SOURCE+\"_DL.csv\")\n"
   ]
  },
  {
   "cell_type": "code",
   "execution_count": null,
   "id": "c716b22b",
   "metadata": {},
   "outputs": [],
   "source": [
    "# test['preds_DL'] = preds\n",
    "\n",
    "# total=len(preds)\n",
    "# true_lab=[]\n",
    "# pred_lab=[]\n",
    "# pred3_lab=[]\n",
    "# text=[]\n",
    "# countNo=[]\n",
    "# countProb=[]\n",
    "# countYes=[]\n",
    "# predNo=[]\n",
    "# predProb=[]\n",
    "# predYes=[]\n",
    "# correct_wrong=[]\n",
    "# correct_wrong3=[]\n",
    "# ogOutput=[]\n",
    "# for dt, probs in zip(test.index, results_test):\n",
    "#     temp = probs.argsort()[-3:][::-1]\n",
    "#     tempPred = []\n",
    "#     for k in temp:\n",
    "#         tempPred.append(id_to_category[k])\n",
    "#     result=test['preds_DL'][dt]\n",
    "#     if result == test_df['label'][dt]:\n",
    "#         correct_wrong.append(True)\n",
    "#     else:\n",
    "#         correct_wrong.append(False)\n",
    "#     if test_df['label'][dt] in temp:\n",
    "#         correct_wrong3.append(True)\n",
    "#     else:\n",
    "#         correct_wrong3.append(False)\n",
    "#     text.append(test['name'][dt])\n",
    "#     pred_lab.append(result)\n",
    "#     true_lab.append(test['label'][dt])\n",
    "#     pred3_lab.append(tempPred)\n",
    "#     bla = 0\n",
    "#     blu = 0\n",
    "#     bli = 0\n",
    "#     blaindex = []\n",
    "#     bluindex = []\n",
    "#     bliindex = []\n",
    "#     j = 0\n",
    "#     for i in probs:\n",
    "#         if i <= -1:\n",
    "#             bla += 1\n",
    "#             blaindex.append(id_to_category[j])\n",
    "#         elif i < 1:\n",
    "#             blu += 1\n",
    "#             bluindex.append(id_to_category[j])\n",
    "#         else:\n",
    "#             bli += 1\n",
    "#             bliindex.append(id_to_category[j])\n",
    "#         j += 1\n",
    "#     countNo.append(bla)\n",
    "#     countProb.append(blu)\n",
    "#     countYes.append(bli)\n",
    "#     predNo.append(blaindex)\n",
    "#     predProb.append(bluindex)\n",
    "#     predYes.append(bliindex)\n",
    "#     ogOutput.append(probs)\n",
    "    \n",
    "# name_dict = {\n",
    "#             'Name': text,\n",
    "#             'Gold Label' : true_lab,\n",
    "#             'Predicted Label': pred_lab,\n",
    "#             'Predicted Top3 Label': pred3_lab,\n",
    "#             'Correct': correct_wrong,\n",
    "#             'Correct': correct_wrong3,\n",
    "#             'No': countNo,\n",
    "#             'Prob': countProb,\n",
    "#             'Yes': countYes,\n",
    "#             'NoPred': predNo,\n",
    "#             'ProbPred': predProb,\n",
    "#             'YesPred': predYes,\n",
    "#             'OriginalOutput': ogOutput\n",
    "#           }\n",
    "\n",
    "# # res_data = pd.DataFrame(name_dict)\n",
    "\n",
    "# res_data.to_csv(\"results/detailed_results_\"+SOURCE+\"_DL.csv\", sep=';')"
   ]
  },
  {
   "cell_type": "code",
   "execution_count": null,
   "id": "87f02f98",
   "metadata": {},
   "outputs": [],
   "source": [
    "# res_data"
   ]
  },
  {
   "cell_type": "code",
   "execution_count": null,
   "id": "a10095b6",
   "metadata": {},
   "outputs": [],
   "source": []
  }
 ],
 "metadata": {
  "kernelspec": {
   "display_name": "Python 3",
   "language": "python",
   "name": "python3"
  },
  "language_info": {
   "codemirror_mode": {
    "name": "ipython",
    "version": 3
   },
   "file_extension": ".py",
   "mimetype": "text/x-python",
   "name": "python",
   "nbconvert_exporter": "python",
   "pygments_lexer": "ipython3",
   "version": "3.9.2"
  }
 },
 "nbformat": 4,
 "nbformat_minor": 5
}
