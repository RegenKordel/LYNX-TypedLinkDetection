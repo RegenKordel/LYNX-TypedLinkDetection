{
 "cells": [
  {
   "cell_type": "markdown",
   "id": "71410ec9",
   "metadata": {},
   "source": [
    "### Load Modules"
   ]
  },
  {
   "cell_type": "code",
   "execution_count": 1,
   "outputs": [],
   "source": [
    "import sys\n",
    "from pathlib import Path\n",
    "\n",
    "sys.path.insert(1, str(Path.cwd().parent))"
   ],
   "metadata": {
    "collapsed": false,
    "pycharm": {
     "name": "#%%\n"
    }
   }
  },
  {
   "cell_type": "code",
   "execution_count": 2,
   "id": "507e39ea",
   "metadata": {},
   "outputs": [],
   "source": [
    "import pandas as pd\n",
    "import numpy as np\n",
    "\n",
    "from tqdm import tqdm\n",
    "\n",
    "import gensim\n",
    "from gensim.models import FastText\n",
    "from gensim.parsing.porter import PorterStemmer\n",
    "from nltk.corpus import stopwords\n",
    "\n",
    "from nltk.tokenize import word_tokenize\n",
    "from tensorflow.keras.preprocessing.sequence import pad_sequences\n",
    "\n",
    "from tld.config import word_embedding_dir"
   ]
  },
  {
   "cell_type": "markdown",
   "id": "committed-medication",
   "metadata": {},
   "source": [
    "### Helper Functions"
   ]
  },
  {
   "cell_type": "code",
   "execution_count": 3,
   "id": "interesting-reason",
   "metadata": {},
   "outputs": [],
   "source": [
    "# Help function to determine best size\n",
    "def calc_max_seq_len(data_df):\n",
    "    titles = data_df['title']\n",
    "    title_lengths = (titles.str.count(' ')+1).fillna(0).astype(np.int)\n",
    "    max_title_len = title_lengths.quantile(0.95, interpolation='higher')\n",
    "\n",
    "    descriptions = data_df['description']\n",
    "    desc_lengths = (descriptions.str.count(' ')+1).fillna(0).astype(np.int)\n",
    "    max_desc_len = desc_lengths.quantile(0.95, interpolation='higher')\n",
    "    \n",
    "    return max_title_len, max_desc_len"
   ]
  },
  {
   "cell_type": "code",
   "execution_count": 4,
   "id": "7fe93a44",
   "metadata": {},
   "outputs": [],
   "source": [
    "def load_issues(s):\n",
    "    filename = '../data/processed/issues_'+s.lower()+'.csv'\n",
    "    issues = pd.read_csv(filename, encoding=\"UTF-8\", low_memory=False, index_col=['issue_id'], sep=\";\")\n",
    "    print(\"Number of Issues: \" + str(len(issues)))\n",
    "    \n",
    "    return issues"
   ]
  },
  {
   "cell_type": "markdown",
   "id": "meaningful-console",
   "metadata": {},
   "source": [
    "### Parameters & Constants"
   ]
  },
  {
   "cell_type": "code",
   "execution_count": 5,
   "id": "89618783",
   "metadata": {},
   "outputs": [],
   "source": [
    "tqdm.pandas()\n",
    "p = PorterStemmer()\n",
    "\n",
    "stopWords = set(stopwords.words('english'))\n",
    "stopWords = stopWords.union(set(['com', 'org', 'java']))\n",
    "\n",
    "EMBEDDING_DIM = 20\n",
    "MAX_SEQUENCE_LENGTH = 300"
   ]
  },
  {
   "cell_type": "code",
   "execution_count": 6,
   "id": "abc4a5a5",
   "metadata": {},
   "outputs": [],
   "source": [
    "SOURCES = ['Hyperledger', 'IntelDAOS', 'JFrog', 'Jira', \n",
    "           'JiraEcosystem', 'MariaDB', 'Mindville', 'Mojang', 'MongoDB', \n",
    "           'Qt', 'RedHat', 'Sakai', 'SecondLife', 'Sonatype', 'Spring', 'Apache']"
   ]
  },
  {
   "cell_type": "markdown",
   "id": "piano-variance",
   "metadata": {},
   "source": [
    "### Word2Vec"
   ]
  },
  {
   "cell_type": "code",
   "execution_count": 13,
   "id": "disciplinary-happening",
   "metadata": {},
   "outputs": [],
   "source": [
    "def train_w2v(s):\n",
    "    print(s.upper())\n",
    "\n",
    "    output_dir = word_embedding_dir / 'w2v'\n",
    "    output_dir.mkdir(parents=True, exist_ok=True)\n",
    "    \n",
    "    issues = load_issues(s)\n",
    "    \n",
    "    issues['title'].fillna(' ', inplace=True)\n",
    "    issues['description'].fillna(' ', inplace=True) \n",
    "    \n",
    "    max_title_len, max_desc_len = calc_max_seq_len(issues)\n",
    "    \n",
    "    MAX_SEQUENCE_LENGTH = max_title_len + max_desc_len\n",
    "    \n",
    "    textual_data = []\n",
    "    for issue_id in tqdm(issues.index):\n",
    "        temp = []\n",
    "        for word in word_tokenize(str(issues['title'].loc[issue_id])):\n",
    "            word = word.lower()\n",
    "            if word not in stopWords:\n",
    "                word = p.stem(word)\n",
    "                temp.append(word)\n",
    "        textual_data.append(temp)\n",
    "        temp = []\n",
    "        for word in word_tokenize(str(issues['description'].loc[issue_id])):\n",
    "            word = word.lower()\n",
    "            if word not in stopWords:\n",
    "                word = p.stem(word)\n",
    "                temp.append(word)                \n",
    "        textual_data.append(temp)\n",
    "        \n",
    "    model_CBOW = gensim.models.Word2Vec(textual_data, vector_size=EMBEDDING_DIM, window=5, min_count=2, workers=4, sg=0)\n",
    "    model_CBOW.save(str(output_dir / f'{s.lower()}W2V.model'))\n",
    "    \n",
    "    text = []\n",
    "    word_count = 0\n",
    "\n",
    "    for issue_id in tqdm(issues.index):\n",
    "        temp = []\n",
    "        for word in word_tokenize(str(issues['title'].loc[issue_id])):\n",
    "            word = word.lower()\n",
    "            if word not in stopWords:\n",
    "                word = p.stem(word)\n",
    "                try:\n",
    "                    word_index = model_CBOW.wv.key_to_index[word]\n",
    "                    temp.append(word_index)\n",
    "                except:\n",
    "                    word_count += 1\n",
    "        temp = temp[:max_title_len-1]\n",
    "        for word in word_tokenize(str(issues['description'].loc[issue_id])):\n",
    "            word = word.lower()\n",
    "            if word not in stopWords:\n",
    "                word = p.stem(word)\n",
    "                try:\n",
    "                    word_index = model_CBOW.wv.key_to_index[word]\n",
    "                    temp.append(word_index)\n",
    "                except:\n",
    "                    word_count += 1\n",
    "        text.append(temp)\n",
    "    print(word_count)\n",
    "    \n",
    "    text_data = pad_sequences(text, maxlen=MAX_SEQUENCE_LENGTH)\n",
    "    \n",
    "    print(text_data[0].shape)\n",
    "\n",
    "    np.save(file=output_dir / f'text_data_{s.lower()}.npy', arr=text_data)"
   ]
  },
  {
   "cell_type": "code",
   "execution_count": 14,
   "id": "sustainable-thanks",
   "metadata": {},
   "outputs": [
    {
     "name": "stdout",
     "output_type": "stream",
     "text": [
      "HYPERLEDGER\n",
      "Number of Issues: 28146\n"
     ]
    },
    {
     "name": "stderr",
     "output_type": "stream",
     "text": [
      "C:\\Users\\Tim\\AppData\\Local\\Temp\\ipykernel_13172\\1211113016.py:4: DeprecationWarning: `np.int` is a deprecated alias for the builtin `int`. To silence this warning, use `int` by itself. Doing this will not modify any behavior and is safe. When replacing `np.int`, you may wish to use e.g. `np.int64` or `np.int32` to specify the precision. If you wish to review your current use, check the release note link for additional information.\n",
      "Deprecated in NumPy 1.20; for more details and guidance: https://numpy.org/devdocs/release/1.20.0-notes.html#deprecations\n",
      "  title_lengths = (titles.str.count(' ')+1).fillna(0).astype(np.int)\n",
      "C:\\Users\\Tim\\AppData\\Local\\Temp\\ipykernel_13172\\1211113016.py:8: DeprecationWarning: `np.int` is a deprecated alias for the builtin `int`. To silence this warning, use `int` by itself. Doing this will not modify any behavior and is safe. When replacing `np.int`, you may wish to use e.g. `np.int64` or `np.int32` to specify the precision. If you wish to review your current use, check the release note link for additional information.\n",
      "Deprecated in NumPy 1.20; for more details and guidance: https://numpy.org/devdocs/release/1.20.0-notes.html#deprecations\n",
      "  desc_lengths = (descriptions.str.count(' ')+1).fillna(0).astype(np.int)\n",
      "100%|██████████| 28146/28146 [00:48<00:00, 583.83it/s] \n",
      "100%|██████████| 28146/28146 [00:49<00:00, 570.60it/s] \n"
     ]
    },
    {
     "name": "stdout",
     "output_type": "stream",
     "text": [
      "75499\n",
      "(282,)\n",
      "--------------\n"
     ]
    }
   ],
   "source": [
    "for s in ['HYPERLEDGER']:\n",
    "    train_w2v(s)\n",
    "    print(\"--------------\")"
   ]
  },
  {
   "cell_type": "markdown",
   "id": "swiss-beaver",
   "metadata": {},
   "source": [
    "### FASTTEXT"
   ]
  },
  {
   "cell_type": "code",
   "execution_count": 12,
   "id": "cd5fb70d",
   "metadata": {},
   "outputs": [],
   "source": [
    "def train_fasttext(s):\n",
    "    print(s.upper())\n",
    "\n",
    "    output_dir = word_embedding_dir / 'fasttext'\n",
    "    output_dir.mkdir(parents=True, exist_ok=True)\n",
    "    \n",
    "    issues = load_issues(s)\n",
    "    \n",
    "    issues['title'].fillna(' ', inplace=True)\n",
    "    issues['description'].fillna(' ', inplace=True) \n",
    "      \n",
    "    max_title_len, max_desc_len = calc_max_seq_len(issues)\n",
    "    \n",
    "    MAX_SEQUENCE_LENGTH = max_title_len + max_desc_len\n",
    "    \n",
    "    textual_data = []\n",
    "    for issue_id in tqdm(issues.index):\n",
    "        temp = []\n",
    "        for word in word_tokenize(str(issues['title'].loc[issue_id])):\n",
    "            word = word.lower()\n",
    "            if word not in stopWords:\n",
    "                word = p.stem(word)\n",
    "                temp.append(word)\n",
    "        textual_data.append(temp)\n",
    "        temp = []\n",
    "        for word in word_tokenize(str(issues['description'].loc[issue_id])):\n",
    "            word = word.lower()\n",
    "            if word not in stopWords:\n",
    "                word = p.stem(word)\n",
    "                temp.append(word)                \n",
    "        textual_data.append(temp)\n",
    "        \n",
    "    model_CBOW = FastText(textual_data, vector_size=EMBEDDING_DIM, window=5, min_count=2, workers=4, sg=0)\n",
    "    model_CBOW.save(str(output_dir / f'{s}fasttext.model'))\n",
    "    \n",
    "    text = []\n",
    "    word_count = 0\n",
    "\n",
    "    for issue_id in tqdm(issues.index):\n",
    "        temp = []\n",
    "        for word in word_tokenize(str(issues['title'].loc[issue_id])):\n",
    "            word = word.lower()\n",
    "            if word not in stopWords:\n",
    "                word = p.stem(word)\n",
    "                try:\n",
    "                    word_index = model_CBOW.wv.key_to_index[word]\n",
    "                    temp.append(word_index)\n",
    "                except:\n",
    "                    word_count += 1\n",
    "        for word in word_tokenize(str(issues['description'].loc[issue_id])):\n",
    "            word = word.lower()\n",
    "            if word not in stopWords:\n",
    "                word = p.stem(word)\n",
    "                try:\n",
    "                    word_index = model_CBOW.wv.key_to_index[word]\n",
    "                    temp.append(word_index)\n",
    "                except:\n",
    "                    word_count += 1\n",
    "        text.append(temp)\n",
    "    print(word_count)\n",
    "    \n",
    "    text_data = pad_sequences(text, maxlen=MAX_SEQUENCE_LENGTH)\n",
    "    \n",
    "    print(text_data[0].shape)\n",
    "    \n",
    "    np.save(file=output_dir / f'text_data_{s}.npy', arr=text_data)"
   ]
  },
  {
   "cell_type": "code",
   "execution_count": 13,
   "id": "8c72279d",
   "metadata": {},
   "outputs": [
    {
     "name": "stdout",
     "output_type": "stream",
     "text": [
      "JIRA\n"
     ]
    },
    {
     "name": "stderr",
     "output_type": "stream",
     "text": [
      "  0%|                                                                                                                                                                               | 9/265343 [00:00<49:20, 89.63it/s]"
     ]
    },
    {
     "name": "stdout",
     "output_type": "stream",
     "text": [
      "Number of Issues: 265343\n",
      "Feature Size: 9\n"
     ]
    },
    {
     "name": "stderr",
     "output_type": "stream",
     "text": [
      "100%|█████████████████████████████████████████████████████████████████████████████████████████████████████████████████████████████████████████████████████████████████████████| 265343/265343 [38:54<00:00, 113.68it/s]\n",
      "100%|█████████████████████████████████████████████████████████████████████████████████████████████████████████████████████████████████████████████████████████████████████████| 265343/265343 [37:24<00:00, 118.24it/s]\n"
     ]
    },
    {
     "name": "stdout",
     "output_type": "stream",
     "text": [
      "483358\n",
      "--------------\n",
      "MONGODB\n"
     ]
    },
    {
     "name": "stderr",
     "output_type": "stream",
     "text": [
      "  0%|                                                                                                                                                                              | 36/90629 [00:00<04:13, 357.44it/s]"
     ]
    },
    {
     "name": "stdout",
     "output_type": "stream",
     "text": [
      "Number of Issues: 90629\n",
      "Feature Size: 9\n"
     ]
    },
    {
     "name": "stderr",
     "output_type": "stream",
     "text": [
      "100%|███████████████████████████████████████████████████████████████████████████████████████████████████████████████████████████████████████████████████████████████████████████| 90629/90629 [02:14<00:00, 674.96it/s]\n",
      "100%|███████████████████████████████████████████████████████████████████████████████████████████████████████████████████████████████████████████████████████████████████████████| 90629/90629 [02:15<00:00, 670.27it/s]\n"
     ]
    },
    {
     "name": "stdout",
     "output_type": "stream",
     "text": [
      "312526\n",
      "--------------\n",
      "QT\n"
     ]
    },
    {
     "name": "stderr",
     "output_type": "stream",
     "text": [
      "  0%|                                                                                                                                                                             | 94/140237 [00:00<02:30, 930.69it/s]"
     ]
    },
    {
     "name": "stdout",
     "output_type": "stream",
     "text": [
      "Number of Issues: 140237\n",
      "Feature Size: 9\n"
     ]
    },
    {
     "name": "stderr",
     "output_type": "stream",
     "text": [
      "100%|█████████████████████████████████████████████████████████████████████████████████████████████████████████████████████████████████████████████████████████████████████████| 140237/140237 [04:28<00:00, 522.26it/s]\n",
      "100%|█████████████████████████████████████████████████████████████████████████████████████████████████████████████████████████████████████████████████████████████████████████| 140237/140237 [04:25<00:00, 528.99it/s]\n"
     ]
    },
    {
     "name": "stdout",
     "output_type": "stream",
     "text": [
      "618148\n",
      "--------------\n",
      "SAKAI\n"
     ]
    },
    {
     "name": "stderr",
     "output_type": "stream",
     "text": [
      "  0%|▍                                                                                                                                                                           | 131/49204 [00:00<00:37, 1302.74it/s]"
     ]
    },
    {
     "name": "stdout",
     "output_type": "stream",
     "text": [
      "Number of Issues: 49204\n",
      "Feature Size: 9\n"
     ]
    },
    {
     "name": "stderr",
     "output_type": "stream",
     "text": [
      "100%|███████████████████████████████████████████████████████████████████████████████████████████████████████████████████████████████████████████████████████████████████████████| 49204/49204 [01:35<00:00, 514.65it/s]\n",
      "100%|███████████████████████████████████████████████████████████████████████████████████████████████████████████████████████████████████████████████████████████████████████████| 49204/49204 [01:36<00:00, 509.39it/s]\n"
     ]
    },
    {
     "name": "stdout",
     "output_type": "stream",
     "text": [
      "99593\n",
      "--------------\n",
      "HYPERLEDGER\n"
     ]
    },
    {
     "name": "stderr",
     "output_type": "stream",
     "text": [
      "  1%|▉                                                                                                                                                                           | 156/27914 [00:00<00:17, 1544.26it/s]"
     ]
    },
    {
     "name": "stdout",
     "output_type": "stream",
     "text": [
      "Number of Issues: 27914\n",
      "Feature Size: 9\n"
     ]
    },
    {
     "name": "stderr",
     "output_type": "stream",
     "text": [
      "100%|███████████████████████████████████████████████████████████████████████████████████████████████████████████████████████████████████████████████████████████████████████████| 27914/27914 [00:34<00:00, 812.25it/s]\n",
      "100%|███████████████████████████████████████████████████████████████████████████████████████████████████████████████████████████████████████████████████████████████████████████| 27914/27914 [00:34<00:00, 807.59it/s]\n"
     ]
    },
    {
     "name": "stdout",
     "output_type": "stream",
     "text": [
      "74782\n",
      "--------------\n",
      "MARIADB\n"
     ]
    },
    {
     "name": "stderr",
     "output_type": "stream",
     "text": [
      "  0%|▏                                                                                                                                                                             | 39/31229 [00:00<01:25, 363.26it/s]"
     ]
    },
    {
     "name": "stdout",
     "output_type": "stream",
     "text": [
      "Number of Issues: 31229\n",
      "Feature Size: 9\n"
     ]
    },
    {
     "name": "stderr",
     "output_type": "stream",
     "text": [
      " 80%|████████████████████████████████████████████████████████████████████████████████████████████████████████████████████████████████████████▉                                  | 25018/31229 [02:57<00:21, 288.31it/s]IOStream.flush timed out\n",
      "100%|███████████████████████████████████████████████████████████████████████████████████████████████████████████████████████████████████████████████████████████████████████████| 31229/31229 [04:20<00:00, 120.04it/s]\n",
      "100%|███████████████████████████████████████████████████████████████████████████████████████████████████████████████████████████████████████████████████████████████████████████| 31229/31229 [04:20<00:00, 119.94it/s]\n"
     ]
    },
    {
     "name": "stdout",
     "output_type": "stream",
     "text": [
      "472727\n",
      "--------------\n",
      "SPRING\n"
     ]
    },
    {
     "name": "stderr",
     "output_type": "stream",
     "text": [
      "  0%|▏                                                                                                                                                                             | 60/69100 [00:00<01:57, 585.53it/s]"
     ]
    },
    {
     "name": "stdout",
     "output_type": "stream",
     "text": [
      "Number of Issues: 69100\n",
      "Feature Size: 9\n"
     ]
    },
    {
     "name": "stderr",
     "output_type": "stream",
     "text": [
      "100%|███████████████████████████████████████████████████████████████████████████████████████████████████████████████████████████████████████████████████████████████████████████| 69100/69100 [03:15<00:00, 352.56it/s]\n",
      "100%|███████████████████████████████████████████████████████████████████████████████████████████████████████████████████████████████████████████████████████████████████████████| 69100/69100 [03:16<00:00, 352.02it/s]\n"
     ]
    },
    {
     "name": "stdout",
     "output_type": "stream",
     "text": [
      "228737\n",
      "--------------\n",
      "JIRAECOSYSTEM\n"
     ]
    },
    {
     "name": "stderr",
     "output_type": "stream",
     "text": [
      "  0%|▎                                                                                                                                                                             | 81/40602 [00:00<00:51, 784.89it/s]"
     ]
    },
    {
     "name": "stdout",
     "output_type": "stream",
     "text": [
      "Number of Issues: 40602\n",
      "Feature Size: 9\n"
     ]
    },
    {
     "name": "stderr",
     "output_type": "stream",
     "text": [
      "100%|███████████████████████████████████████████████████████████████████████████████████████████████████████████████████████████████████████████████████████████████████████████| 40602/40602 [00:48<00:00, 831.93it/s]\n",
      "100%|███████████████████████████████████████████████████████████████████████████████████████████████████████████████████████████████████████████████████████████████████████████| 40602/40602 [00:49<00:00, 823.20it/s]\n"
     ]
    },
    {
     "name": "stdout",
     "output_type": "stream",
     "text": [
      "96569\n",
      "--------------\n",
      "SONATYPE\n"
     ]
    },
    {
     "name": "stderr",
     "output_type": "stream",
     "text": [
      "  0%|                                                                                                                                                                              | 34/77837 [00:00<03:54, 331.10it/s]"
     ]
    },
    {
     "name": "stdout",
     "output_type": "stream",
     "text": [
      "Number of Issues: 77837\n",
      "Feature Size: 9\n"
     ]
    },
    {
     "name": "stderr",
     "output_type": "stream",
     "text": [
      "100%|███████████████████████████████████████████████████████████████████████████████████████████████████████████████████████████████████████████████████████████████████████████| 77837/77837 [04:09<00:00, 312.55it/s]\n",
      "100%|███████████████████████████████████████████████████████████████████████████████████████████████████████████████████████████████████████████████████████████████████████████| 77837/77837 [04:09<00:00, 311.52it/s]\n"
     ]
    },
    {
     "name": "stdout",
     "output_type": "stream",
     "text": [
      "133278\n"
     ]
    },
    {
     "name": "stderr",
     "output_type": "stream",
     "text": [
      "\r",
      "  0%|                                                                                                                                                                                        | 0/14769 [00:00<?, ?it/s]"
     ]
    },
    {
     "name": "stdout",
     "output_type": "stream",
     "text": [
      "--------------\n",
      "JFROG\n",
      "Number of Issues: 14769\n",
      "Feature Size: 9\n"
     ]
    },
    {
     "name": "stderr",
     "output_type": "stream",
     "text": [
      "100%|███████████████████████████████████████████████████████████████████████████████████████████████████████████████████████████████████████████████████████████████████████████| 14769/14769 [00:23<00:00, 629.77it/s]\n",
      "100%|███████████████████████████████████████████████████████████████████████████████████████████████████████████████████████████████████████████████████████████████████████████| 14769/14769 [00:24<00:00, 609.46it/s]\n"
     ]
    },
    {
     "name": "stdout",
     "output_type": "stream",
     "text": [
      "59734\n"
     ]
    },
    {
     "name": "stderr",
     "output_type": "stream",
     "text": [
      "  1%|██▎                                                                                                                                                                            | 72/5557 [00:00<00:07, 719.38it/s]"
     ]
    },
    {
     "name": "stdout",
     "output_type": "stream",
     "text": [
      "--------------\n",
      "INTELDAOS\n",
      "Number of Issues: 5557\n",
      "Feature Size: 9\n"
     ]
    },
    {
     "name": "stderr",
     "output_type": "stream",
     "text": [
      "100%|█████████████████████████████████████████████████████████████████████████████████████████████████████████████████████████████████████████████████████████████████████████████| 5557/5557 [00:07<00:00, 767.14it/s]\n",
      "100%|█████████████████████████████████████████████████████████████████████████████████████████████████████████████████████████████████████████████████████████████████████████████| 5557/5557 [00:07<00:00, 746.52it/s]\n",
      "  0%|                                                                                                                                                                                         | 0/1865 [00:00<?, ?it/s]"
     ]
    },
    {
     "name": "stdout",
     "output_type": "stream",
     "text": [
      "28466\n",
      "--------------\n",
      "SECONDLIFE\n",
      "Number of Issues: 1865\n",
      "Feature Size: 9\n"
     ]
    },
    {
     "name": "stderr",
     "output_type": "stream",
     "text": [
      "100%|█████████████████████████████████████████████████████████████████████████████████████████████████████████████████████████████████████████████████████████████████████████████| 1865/1865 [00:02<00:00, 829.01it/s]\n",
      "100%|█████████████████████████████████████████████████████████████████████████████████████████████████████████████████████████████████████████████████████████████████████████████| 1865/1865 [00:02<00:00, 780.94it/s]\n",
      "  6%|█████████▉                                                                                                                                                                   | 123/2134 [00:00<00:01, 1224.36it/s]"
     ]
    },
    {
     "name": "stdout",
     "output_type": "stream",
     "text": [
      "7429\n",
      "--------------\n",
      "MINDVILLE\n",
      "Number of Issues: 2134\n",
      "Feature Size: 9\n"
     ]
    },
    {
     "name": "stderr",
     "output_type": "stream",
     "text": [
      "100%|████████████████████████████████████████████████████████████████████████████████████████████████████████████████████████████████████████████████████████████████████████████| 2134/2134 [00:01<00:00, 1075.08it/s]\n",
      "100%|████████████████████████████████████████████████████████████████████████████████████████████████████████████████████████████████████████████████████████████████████████████| 2134/2134 [00:02<00:00, 1022.70it/s]\n"
     ]
    },
    {
     "name": "stdout",
     "output_type": "stream",
     "text": [
      "5079\n",
      "--------------\n",
      "REDHAT\n"
     ]
    },
    {
     "name": "stderr",
     "output_type": "stream",
     "text": [
      "  0%|                                                                                                                                                                             | 89/315797 [00:00<06:04, 866.61it/s]"
     ]
    },
    {
     "name": "stdout",
     "output_type": "stream",
     "text": [
      "Number of Issues: 315797\n",
      "Feature Size: 9\n"
     ]
    },
    {
     "name": "stderr",
     "output_type": "stream",
     "text": [
      "100%|█████████████████████████████████████████████████████████████████████████████████████████████████████████████████████████████████████████████████████████████████████████| 315797/315797 [09:14<00:00, 570.02it/s]\n",
      "100%|█████████████████████████████████████████████████████████████████████████████████████████████████████████████████████████████████████████████████████████████████████████| 315797/315797 [09:16<00:00, 567.84it/s]\n"
     ]
    },
    {
     "name": "stdout",
     "output_type": "stream",
     "text": [
      "829562\n",
      "--------------\n"
     ]
    }
   ],
   "source": [
    "for s in SOURCES:\n",
    "    train_fasttext(s)\n",
    "    print(\"--------------\")"
   ]
  }
 ],
 "metadata": {
  "kernelspec": {
   "display_name": "Python 3",
   "language": "python",
   "name": "python3"
  },
  "language_info": {
   "codemirror_mode": {
    "name": "ipython",
    "version": 3
   },
   "file_extension": ".py",
   "mimetype": "text/x-python",
   "name": "python",
   "nbconvert_exporter": "python",
   "pygments_lexer": "ipython3",
   "version": "3.9.2"
  }
 },
 "nbformat": 4,
 "nbformat_minor": 5
}